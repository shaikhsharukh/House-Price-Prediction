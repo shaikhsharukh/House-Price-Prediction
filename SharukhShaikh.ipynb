{
  "nbformat": 4,
  "nbformat_minor": 0,
  "metadata": {
    "colab": {
      "name": "New Advance regression Assignement .ipynb",
      "provenance": [],
      "collapsed_sections": []
    },
    "kernelspec": {
      "name": "python3",
      "display_name": "Python 3"
    }
  },
  "cells": [
    {
      "cell_type": "markdown",
      "metadata": {
        "id": "8PlekzLCii8Z"
      },
      "source": [
        "# Initial Setup"
      ]
    },
    {
      "cell_type": "code",
      "metadata": {
        "id": "XKvAVQLOQbhx"
      },
      "source": [
        "#importing libraries\n",
        "\n",
        "import numpy as np\n",
        "import pandas as pd\n",
        "import matplotlib.pyplot as plt\n",
        "import seaborn as sns\n",
        "from sklearn.preprocessing import StandardScaler,MinMaxScaler\n",
        "from google.colab import drive\n",
        "from sklearn.model_selection import train_test_split,KFold,GridSearchCV\n",
        "from sklearn.linear_model import LinearRegression,Lasso,Ridge\n",
        "from sklearn.metrics import r2_score\n",
        "from scipy import stats\n",
        "from scipy.stats import norm, skew \n",
        "import warnings\n",
        "warnings.filterwarnings(\"ignore\")"
      ],
      "execution_count": 1568,
      "outputs": []
    },
    {
      "cell_type": "code",
      "metadata": {
        "id": "WL1aD8nqipgb",
        "outputId": "e5da8402-2ae6-4226-83a7-70ad7678044e",
        "colab": {
          "base_uri": "https://localhost:8080/",
          "height": 253
        }
      },
      "source": [
        "#importing the file\n",
        "\n",
        "df=pd.read_csv('https://cdn.upgrad.com/UpGrad/temp/9cefd607-bbb7-443d-bb3e-eac9fef04453/train.csv')\n",
        "df.head()"
      ],
      "execution_count": 1569,
      "outputs": [
        {
          "output_type": "execute_result",
          "data": {
            "text/html": [
              "<div>\n",
              "<style scoped>\n",
              "    .dataframe tbody tr th:only-of-type {\n",
              "        vertical-align: middle;\n",
              "    }\n",
              "\n",
              "    .dataframe tbody tr th {\n",
              "        vertical-align: top;\n",
              "    }\n",
              "\n",
              "    .dataframe thead th {\n",
              "        text-align: right;\n",
              "    }\n",
              "</style>\n",
              "<table border=\"1\" class=\"dataframe\">\n",
              "  <thead>\n",
              "    <tr style=\"text-align: right;\">\n",
              "      <th></th>\n",
              "      <th>Id</th>\n",
              "      <th>MSSubClass</th>\n",
              "      <th>MSZoning</th>\n",
              "      <th>LotFrontage</th>\n",
              "      <th>LotArea</th>\n",
              "      <th>Street</th>\n",
              "      <th>Alley</th>\n",
              "      <th>LotShape</th>\n",
              "      <th>LandContour</th>\n",
              "      <th>Utilities</th>\n",
              "      <th>LotConfig</th>\n",
              "      <th>LandSlope</th>\n",
              "      <th>Neighborhood</th>\n",
              "      <th>Condition1</th>\n",
              "      <th>Condition2</th>\n",
              "      <th>BldgType</th>\n",
              "      <th>HouseStyle</th>\n",
              "      <th>OverallQual</th>\n",
              "      <th>OverallCond</th>\n",
              "      <th>YearBuilt</th>\n",
              "      <th>YearRemodAdd</th>\n",
              "      <th>RoofStyle</th>\n",
              "      <th>RoofMatl</th>\n",
              "      <th>Exterior1st</th>\n",
              "      <th>Exterior2nd</th>\n",
              "      <th>MasVnrType</th>\n",
              "      <th>MasVnrArea</th>\n",
              "      <th>ExterQual</th>\n",
              "      <th>ExterCond</th>\n",
              "      <th>Foundation</th>\n",
              "      <th>BsmtQual</th>\n",
              "      <th>BsmtCond</th>\n",
              "      <th>BsmtExposure</th>\n",
              "      <th>BsmtFinType1</th>\n",
              "      <th>BsmtFinSF1</th>\n",
              "      <th>BsmtFinType2</th>\n",
              "      <th>BsmtFinSF2</th>\n",
              "      <th>BsmtUnfSF</th>\n",
              "      <th>TotalBsmtSF</th>\n",
              "      <th>Heating</th>\n",
              "      <th>...</th>\n",
              "      <th>CentralAir</th>\n",
              "      <th>Electrical</th>\n",
              "      <th>1stFlrSF</th>\n",
              "      <th>2ndFlrSF</th>\n",
              "      <th>LowQualFinSF</th>\n",
              "      <th>GrLivArea</th>\n",
              "      <th>BsmtFullBath</th>\n",
              "      <th>BsmtHalfBath</th>\n",
              "      <th>FullBath</th>\n",
              "      <th>HalfBath</th>\n",
              "      <th>BedroomAbvGr</th>\n",
              "      <th>KitchenAbvGr</th>\n",
              "      <th>KitchenQual</th>\n",
              "      <th>TotRmsAbvGrd</th>\n",
              "      <th>Functional</th>\n",
              "      <th>Fireplaces</th>\n",
              "      <th>FireplaceQu</th>\n",
              "      <th>GarageType</th>\n",
              "      <th>GarageYrBlt</th>\n",
              "      <th>GarageFinish</th>\n",
              "      <th>GarageCars</th>\n",
              "      <th>GarageArea</th>\n",
              "      <th>GarageQual</th>\n",
              "      <th>GarageCond</th>\n",
              "      <th>PavedDrive</th>\n",
              "      <th>WoodDeckSF</th>\n",
              "      <th>OpenPorchSF</th>\n",
              "      <th>EnclosedPorch</th>\n",
              "      <th>3SsnPorch</th>\n",
              "      <th>ScreenPorch</th>\n",
              "      <th>PoolArea</th>\n",
              "      <th>PoolQC</th>\n",
              "      <th>Fence</th>\n",
              "      <th>MiscFeature</th>\n",
              "      <th>MiscVal</th>\n",
              "      <th>MoSold</th>\n",
              "      <th>YrSold</th>\n",
              "      <th>SaleType</th>\n",
              "      <th>SaleCondition</th>\n",
              "      <th>SalePrice</th>\n",
              "    </tr>\n",
              "  </thead>\n",
              "  <tbody>\n",
              "    <tr>\n",
              "      <th>0</th>\n",
              "      <td>1</td>\n",
              "      <td>60</td>\n",
              "      <td>RL</td>\n",
              "      <td>65.0</td>\n",
              "      <td>8450</td>\n",
              "      <td>Pave</td>\n",
              "      <td>NaN</td>\n",
              "      <td>Reg</td>\n",
              "      <td>Lvl</td>\n",
              "      <td>AllPub</td>\n",
              "      <td>Inside</td>\n",
              "      <td>Gtl</td>\n",
              "      <td>CollgCr</td>\n",
              "      <td>Norm</td>\n",
              "      <td>Norm</td>\n",
              "      <td>1Fam</td>\n",
              "      <td>2Story</td>\n",
              "      <td>7</td>\n",
              "      <td>5</td>\n",
              "      <td>2003</td>\n",
              "      <td>2003</td>\n",
              "      <td>Gable</td>\n",
              "      <td>CompShg</td>\n",
              "      <td>VinylSd</td>\n",
              "      <td>VinylSd</td>\n",
              "      <td>BrkFace</td>\n",
              "      <td>196.0</td>\n",
              "      <td>Gd</td>\n",
              "      <td>TA</td>\n",
              "      <td>PConc</td>\n",
              "      <td>Gd</td>\n",
              "      <td>TA</td>\n",
              "      <td>No</td>\n",
              "      <td>GLQ</td>\n",
              "      <td>706</td>\n",
              "      <td>Unf</td>\n",
              "      <td>0</td>\n",
              "      <td>150</td>\n",
              "      <td>856</td>\n",
              "      <td>GasA</td>\n",
              "      <td>...</td>\n",
              "      <td>Y</td>\n",
              "      <td>SBrkr</td>\n",
              "      <td>856</td>\n",
              "      <td>854</td>\n",
              "      <td>0</td>\n",
              "      <td>1710</td>\n",
              "      <td>1</td>\n",
              "      <td>0</td>\n",
              "      <td>2</td>\n",
              "      <td>1</td>\n",
              "      <td>3</td>\n",
              "      <td>1</td>\n",
              "      <td>Gd</td>\n",
              "      <td>8</td>\n",
              "      <td>Typ</td>\n",
              "      <td>0</td>\n",
              "      <td>NaN</td>\n",
              "      <td>Attchd</td>\n",
              "      <td>2003.0</td>\n",
              "      <td>RFn</td>\n",
              "      <td>2</td>\n",
              "      <td>548</td>\n",
              "      <td>TA</td>\n",
              "      <td>TA</td>\n",
              "      <td>Y</td>\n",
              "      <td>0</td>\n",
              "      <td>61</td>\n",
              "      <td>0</td>\n",
              "      <td>0</td>\n",
              "      <td>0</td>\n",
              "      <td>0</td>\n",
              "      <td>NaN</td>\n",
              "      <td>NaN</td>\n",
              "      <td>NaN</td>\n",
              "      <td>0</td>\n",
              "      <td>2</td>\n",
              "      <td>2008</td>\n",
              "      <td>WD</td>\n",
              "      <td>Normal</td>\n",
              "      <td>208500</td>\n",
              "    </tr>\n",
              "    <tr>\n",
              "      <th>1</th>\n",
              "      <td>2</td>\n",
              "      <td>20</td>\n",
              "      <td>RL</td>\n",
              "      <td>80.0</td>\n",
              "      <td>9600</td>\n",
              "      <td>Pave</td>\n",
              "      <td>NaN</td>\n",
              "      <td>Reg</td>\n",
              "      <td>Lvl</td>\n",
              "      <td>AllPub</td>\n",
              "      <td>FR2</td>\n",
              "      <td>Gtl</td>\n",
              "      <td>Veenker</td>\n",
              "      <td>Feedr</td>\n",
              "      <td>Norm</td>\n",
              "      <td>1Fam</td>\n",
              "      <td>1Story</td>\n",
              "      <td>6</td>\n",
              "      <td>8</td>\n",
              "      <td>1976</td>\n",
              "      <td>1976</td>\n",
              "      <td>Gable</td>\n",
              "      <td>CompShg</td>\n",
              "      <td>MetalSd</td>\n",
              "      <td>MetalSd</td>\n",
              "      <td>None</td>\n",
              "      <td>0.0</td>\n",
              "      <td>TA</td>\n",
              "      <td>TA</td>\n",
              "      <td>CBlock</td>\n",
              "      <td>Gd</td>\n",
              "      <td>TA</td>\n",
              "      <td>Gd</td>\n",
              "      <td>ALQ</td>\n",
              "      <td>978</td>\n",
              "      <td>Unf</td>\n",
              "      <td>0</td>\n",
              "      <td>284</td>\n",
              "      <td>1262</td>\n",
              "      <td>GasA</td>\n",
              "      <td>...</td>\n",
              "      <td>Y</td>\n",
              "      <td>SBrkr</td>\n",
              "      <td>1262</td>\n",
              "      <td>0</td>\n",
              "      <td>0</td>\n",
              "      <td>1262</td>\n",
              "      <td>0</td>\n",
              "      <td>1</td>\n",
              "      <td>2</td>\n",
              "      <td>0</td>\n",
              "      <td>3</td>\n",
              "      <td>1</td>\n",
              "      <td>TA</td>\n",
              "      <td>6</td>\n",
              "      <td>Typ</td>\n",
              "      <td>1</td>\n",
              "      <td>TA</td>\n",
              "      <td>Attchd</td>\n",
              "      <td>1976.0</td>\n",
              "      <td>RFn</td>\n",
              "      <td>2</td>\n",
              "      <td>460</td>\n",
              "      <td>TA</td>\n",
              "      <td>TA</td>\n",
              "      <td>Y</td>\n",
              "      <td>298</td>\n",
              "      <td>0</td>\n",
              "      <td>0</td>\n",
              "      <td>0</td>\n",
              "      <td>0</td>\n",
              "      <td>0</td>\n",
              "      <td>NaN</td>\n",
              "      <td>NaN</td>\n",
              "      <td>NaN</td>\n",
              "      <td>0</td>\n",
              "      <td>5</td>\n",
              "      <td>2007</td>\n",
              "      <td>WD</td>\n",
              "      <td>Normal</td>\n",
              "      <td>181500</td>\n",
              "    </tr>\n",
              "    <tr>\n",
              "      <th>2</th>\n",
              "      <td>3</td>\n",
              "      <td>60</td>\n",
              "      <td>RL</td>\n",
              "      <td>68.0</td>\n",
              "      <td>11250</td>\n",
              "      <td>Pave</td>\n",
              "      <td>NaN</td>\n",
              "      <td>IR1</td>\n",
              "      <td>Lvl</td>\n",
              "      <td>AllPub</td>\n",
              "      <td>Inside</td>\n",
              "      <td>Gtl</td>\n",
              "      <td>CollgCr</td>\n",
              "      <td>Norm</td>\n",
              "      <td>Norm</td>\n",
              "      <td>1Fam</td>\n",
              "      <td>2Story</td>\n",
              "      <td>7</td>\n",
              "      <td>5</td>\n",
              "      <td>2001</td>\n",
              "      <td>2002</td>\n",
              "      <td>Gable</td>\n",
              "      <td>CompShg</td>\n",
              "      <td>VinylSd</td>\n",
              "      <td>VinylSd</td>\n",
              "      <td>BrkFace</td>\n",
              "      <td>162.0</td>\n",
              "      <td>Gd</td>\n",
              "      <td>TA</td>\n",
              "      <td>PConc</td>\n",
              "      <td>Gd</td>\n",
              "      <td>TA</td>\n",
              "      <td>Mn</td>\n",
              "      <td>GLQ</td>\n",
              "      <td>486</td>\n",
              "      <td>Unf</td>\n",
              "      <td>0</td>\n",
              "      <td>434</td>\n",
              "      <td>920</td>\n",
              "      <td>GasA</td>\n",
              "      <td>...</td>\n",
              "      <td>Y</td>\n",
              "      <td>SBrkr</td>\n",
              "      <td>920</td>\n",
              "      <td>866</td>\n",
              "      <td>0</td>\n",
              "      <td>1786</td>\n",
              "      <td>1</td>\n",
              "      <td>0</td>\n",
              "      <td>2</td>\n",
              "      <td>1</td>\n",
              "      <td>3</td>\n",
              "      <td>1</td>\n",
              "      <td>Gd</td>\n",
              "      <td>6</td>\n",
              "      <td>Typ</td>\n",
              "      <td>1</td>\n",
              "      <td>TA</td>\n",
              "      <td>Attchd</td>\n",
              "      <td>2001.0</td>\n",
              "      <td>RFn</td>\n",
              "      <td>2</td>\n",
              "      <td>608</td>\n",
              "      <td>TA</td>\n",
              "      <td>TA</td>\n",
              "      <td>Y</td>\n",
              "      <td>0</td>\n",
              "      <td>42</td>\n",
              "      <td>0</td>\n",
              "      <td>0</td>\n",
              "      <td>0</td>\n",
              "      <td>0</td>\n",
              "      <td>NaN</td>\n",
              "      <td>NaN</td>\n",
              "      <td>NaN</td>\n",
              "      <td>0</td>\n",
              "      <td>9</td>\n",
              "      <td>2008</td>\n",
              "      <td>WD</td>\n",
              "      <td>Normal</td>\n",
              "      <td>223500</td>\n",
              "    </tr>\n",
              "    <tr>\n",
              "      <th>3</th>\n",
              "      <td>4</td>\n",
              "      <td>70</td>\n",
              "      <td>RL</td>\n",
              "      <td>60.0</td>\n",
              "      <td>9550</td>\n",
              "      <td>Pave</td>\n",
              "      <td>NaN</td>\n",
              "      <td>IR1</td>\n",
              "      <td>Lvl</td>\n",
              "      <td>AllPub</td>\n",
              "      <td>Corner</td>\n",
              "      <td>Gtl</td>\n",
              "      <td>Crawfor</td>\n",
              "      <td>Norm</td>\n",
              "      <td>Norm</td>\n",
              "      <td>1Fam</td>\n",
              "      <td>2Story</td>\n",
              "      <td>7</td>\n",
              "      <td>5</td>\n",
              "      <td>1915</td>\n",
              "      <td>1970</td>\n",
              "      <td>Gable</td>\n",
              "      <td>CompShg</td>\n",
              "      <td>Wd Sdng</td>\n",
              "      <td>Wd Shng</td>\n",
              "      <td>None</td>\n",
              "      <td>0.0</td>\n",
              "      <td>TA</td>\n",
              "      <td>TA</td>\n",
              "      <td>BrkTil</td>\n",
              "      <td>TA</td>\n",
              "      <td>Gd</td>\n",
              "      <td>No</td>\n",
              "      <td>ALQ</td>\n",
              "      <td>216</td>\n",
              "      <td>Unf</td>\n",
              "      <td>0</td>\n",
              "      <td>540</td>\n",
              "      <td>756</td>\n",
              "      <td>GasA</td>\n",
              "      <td>...</td>\n",
              "      <td>Y</td>\n",
              "      <td>SBrkr</td>\n",
              "      <td>961</td>\n",
              "      <td>756</td>\n",
              "      <td>0</td>\n",
              "      <td>1717</td>\n",
              "      <td>1</td>\n",
              "      <td>0</td>\n",
              "      <td>1</td>\n",
              "      <td>0</td>\n",
              "      <td>3</td>\n",
              "      <td>1</td>\n",
              "      <td>Gd</td>\n",
              "      <td>7</td>\n",
              "      <td>Typ</td>\n",
              "      <td>1</td>\n",
              "      <td>Gd</td>\n",
              "      <td>Detchd</td>\n",
              "      <td>1998.0</td>\n",
              "      <td>Unf</td>\n",
              "      <td>3</td>\n",
              "      <td>642</td>\n",
              "      <td>TA</td>\n",
              "      <td>TA</td>\n",
              "      <td>Y</td>\n",
              "      <td>0</td>\n",
              "      <td>35</td>\n",
              "      <td>272</td>\n",
              "      <td>0</td>\n",
              "      <td>0</td>\n",
              "      <td>0</td>\n",
              "      <td>NaN</td>\n",
              "      <td>NaN</td>\n",
              "      <td>NaN</td>\n",
              "      <td>0</td>\n",
              "      <td>2</td>\n",
              "      <td>2006</td>\n",
              "      <td>WD</td>\n",
              "      <td>Abnorml</td>\n",
              "      <td>140000</td>\n",
              "    </tr>\n",
              "    <tr>\n",
              "      <th>4</th>\n",
              "      <td>5</td>\n",
              "      <td>60</td>\n",
              "      <td>RL</td>\n",
              "      <td>84.0</td>\n",
              "      <td>14260</td>\n",
              "      <td>Pave</td>\n",
              "      <td>NaN</td>\n",
              "      <td>IR1</td>\n",
              "      <td>Lvl</td>\n",
              "      <td>AllPub</td>\n",
              "      <td>FR2</td>\n",
              "      <td>Gtl</td>\n",
              "      <td>NoRidge</td>\n",
              "      <td>Norm</td>\n",
              "      <td>Norm</td>\n",
              "      <td>1Fam</td>\n",
              "      <td>2Story</td>\n",
              "      <td>8</td>\n",
              "      <td>5</td>\n",
              "      <td>2000</td>\n",
              "      <td>2000</td>\n",
              "      <td>Gable</td>\n",
              "      <td>CompShg</td>\n",
              "      <td>VinylSd</td>\n",
              "      <td>VinylSd</td>\n",
              "      <td>BrkFace</td>\n",
              "      <td>350.0</td>\n",
              "      <td>Gd</td>\n",
              "      <td>TA</td>\n",
              "      <td>PConc</td>\n",
              "      <td>Gd</td>\n",
              "      <td>TA</td>\n",
              "      <td>Av</td>\n",
              "      <td>GLQ</td>\n",
              "      <td>655</td>\n",
              "      <td>Unf</td>\n",
              "      <td>0</td>\n",
              "      <td>490</td>\n",
              "      <td>1145</td>\n",
              "      <td>GasA</td>\n",
              "      <td>...</td>\n",
              "      <td>Y</td>\n",
              "      <td>SBrkr</td>\n",
              "      <td>1145</td>\n",
              "      <td>1053</td>\n",
              "      <td>0</td>\n",
              "      <td>2198</td>\n",
              "      <td>1</td>\n",
              "      <td>0</td>\n",
              "      <td>2</td>\n",
              "      <td>1</td>\n",
              "      <td>4</td>\n",
              "      <td>1</td>\n",
              "      <td>Gd</td>\n",
              "      <td>9</td>\n",
              "      <td>Typ</td>\n",
              "      <td>1</td>\n",
              "      <td>TA</td>\n",
              "      <td>Attchd</td>\n",
              "      <td>2000.0</td>\n",
              "      <td>RFn</td>\n",
              "      <td>3</td>\n",
              "      <td>836</td>\n",
              "      <td>TA</td>\n",
              "      <td>TA</td>\n",
              "      <td>Y</td>\n",
              "      <td>192</td>\n",
              "      <td>84</td>\n",
              "      <td>0</td>\n",
              "      <td>0</td>\n",
              "      <td>0</td>\n",
              "      <td>0</td>\n",
              "      <td>NaN</td>\n",
              "      <td>NaN</td>\n",
              "      <td>NaN</td>\n",
              "      <td>0</td>\n",
              "      <td>12</td>\n",
              "      <td>2008</td>\n",
              "      <td>WD</td>\n",
              "      <td>Normal</td>\n",
              "      <td>250000</td>\n",
              "    </tr>\n",
              "  </tbody>\n",
              "</table>\n",
              "<p>5 rows × 81 columns</p>\n",
              "</div>"
            ],
            "text/plain": [
              "   Id  MSSubClass MSZoning  ...  SaleType  SaleCondition SalePrice\n",
              "0   1          60       RL  ...        WD         Normal    208500\n",
              "1   2          20       RL  ...        WD         Normal    181500\n",
              "2   3          60       RL  ...        WD         Normal    223500\n",
              "3   4          70       RL  ...        WD        Abnorml    140000\n",
              "4   5          60       RL  ...        WD         Normal    250000\n",
              "\n",
              "[5 rows x 81 columns]"
            ]
          },
          "metadata": {
            "tags": []
          },
          "execution_count": 1569
        }
      ]
    },
    {
      "cell_type": "code",
      "metadata": {
        "id": "LmYLyTor3oVs",
        "outputId": "9caf4508-9016-47fd-87c3-5936bff65d63",
        "colab": {
          "base_uri": "https://localhost:8080/",
          "height": 1000
        }
      },
      "source": [
        "df.info()"
      ],
      "execution_count": 1570,
      "outputs": [
        {
          "output_type": "stream",
          "text": [
            "<class 'pandas.core.frame.DataFrame'>\n",
            "RangeIndex: 1460 entries, 0 to 1459\n",
            "Data columns (total 81 columns):\n",
            " #   Column         Non-Null Count  Dtype  \n",
            "---  ------         --------------  -----  \n",
            " 0   Id             1460 non-null   int64  \n",
            " 1   MSSubClass     1460 non-null   int64  \n",
            " 2   MSZoning       1460 non-null   object \n",
            " 3   LotFrontage    1201 non-null   float64\n",
            " 4   LotArea        1460 non-null   int64  \n",
            " 5   Street         1460 non-null   object \n",
            " 6   Alley          91 non-null     object \n",
            " 7   LotShape       1460 non-null   object \n",
            " 8   LandContour    1460 non-null   object \n",
            " 9   Utilities      1460 non-null   object \n",
            " 10  LotConfig      1460 non-null   object \n",
            " 11  LandSlope      1460 non-null   object \n",
            " 12  Neighborhood   1460 non-null   object \n",
            " 13  Condition1     1460 non-null   object \n",
            " 14  Condition2     1460 non-null   object \n",
            " 15  BldgType       1460 non-null   object \n",
            " 16  HouseStyle     1460 non-null   object \n",
            " 17  OverallQual    1460 non-null   int64  \n",
            " 18  OverallCond    1460 non-null   int64  \n",
            " 19  YearBuilt      1460 non-null   int64  \n",
            " 20  YearRemodAdd   1460 non-null   int64  \n",
            " 21  RoofStyle      1460 non-null   object \n",
            " 22  RoofMatl       1460 non-null   object \n",
            " 23  Exterior1st    1460 non-null   object \n",
            " 24  Exterior2nd    1460 non-null   object \n",
            " 25  MasVnrType     1452 non-null   object \n",
            " 26  MasVnrArea     1452 non-null   float64\n",
            " 27  ExterQual      1460 non-null   object \n",
            " 28  ExterCond      1460 non-null   object \n",
            " 29  Foundation     1460 non-null   object \n",
            " 30  BsmtQual       1423 non-null   object \n",
            " 31  BsmtCond       1423 non-null   object \n",
            " 32  BsmtExposure   1422 non-null   object \n",
            " 33  BsmtFinType1   1423 non-null   object \n",
            " 34  BsmtFinSF1     1460 non-null   int64  \n",
            " 35  BsmtFinType2   1422 non-null   object \n",
            " 36  BsmtFinSF2     1460 non-null   int64  \n",
            " 37  BsmtUnfSF      1460 non-null   int64  \n",
            " 38  TotalBsmtSF    1460 non-null   int64  \n",
            " 39  Heating        1460 non-null   object \n",
            " 40  HeatingQC      1460 non-null   object \n",
            " 41  CentralAir     1460 non-null   object \n",
            " 42  Electrical     1459 non-null   object \n",
            " 43  1stFlrSF       1460 non-null   int64  \n",
            " 44  2ndFlrSF       1460 non-null   int64  \n",
            " 45  LowQualFinSF   1460 non-null   int64  \n",
            " 46  GrLivArea      1460 non-null   int64  \n",
            " 47  BsmtFullBath   1460 non-null   int64  \n",
            " 48  BsmtHalfBath   1460 non-null   int64  \n",
            " 49  FullBath       1460 non-null   int64  \n",
            " 50  HalfBath       1460 non-null   int64  \n",
            " 51  BedroomAbvGr   1460 non-null   int64  \n",
            " 52  KitchenAbvGr   1460 non-null   int64  \n",
            " 53  KitchenQual    1460 non-null   object \n",
            " 54  TotRmsAbvGrd   1460 non-null   int64  \n",
            " 55  Functional     1460 non-null   object \n",
            " 56  Fireplaces     1460 non-null   int64  \n",
            " 57  FireplaceQu    770 non-null    object \n",
            " 58  GarageType     1379 non-null   object \n",
            " 59  GarageYrBlt    1379 non-null   float64\n",
            " 60  GarageFinish   1379 non-null   object \n",
            " 61  GarageCars     1460 non-null   int64  \n",
            " 62  GarageArea     1460 non-null   int64  \n",
            " 63  GarageQual     1379 non-null   object \n",
            " 64  GarageCond     1379 non-null   object \n",
            " 65  PavedDrive     1460 non-null   object \n",
            " 66  WoodDeckSF     1460 non-null   int64  \n",
            " 67  OpenPorchSF    1460 non-null   int64  \n",
            " 68  EnclosedPorch  1460 non-null   int64  \n",
            " 69  3SsnPorch      1460 non-null   int64  \n",
            " 70  ScreenPorch    1460 non-null   int64  \n",
            " 71  PoolArea       1460 non-null   int64  \n",
            " 72  PoolQC         7 non-null      object \n",
            " 73  Fence          281 non-null    object \n",
            " 74  MiscFeature    54 non-null     object \n",
            " 75  MiscVal        1460 non-null   int64  \n",
            " 76  MoSold         1460 non-null   int64  \n",
            " 77  YrSold         1460 non-null   int64  \n",
            " 78  SaleType       1460 non-null   object \n",
            " 79  SaleCondition  1460 non-null   object \n",
            " 80  SalePrice      1460 non-null   int64  \n",
            "dtypes: float64(3), int64(35), object(43)\n",
            "memory usage: 924.0+ KB\n"
          ],
          "name": "stdout"
        }
      ]
    },
    {
      "cell_type": "code",
      "metadata": {
        "id": "f8KdmjgfllHn",
        "outputId": "8acb5888-5fcf-4ffd-f7f9-53b1d70d4548",
        "colab": {
          "base_uri": "https://localhost:8080/",
          "height": 317
        }
      },
      "source": [
        "# understanding the data\n",
        "\n",
        "df.describe()"
      ],
      "execution_count": 1571,
      "outputs": [
        {
          "output_type": "execute_result",
          "data": {
            "text/html": [
              "<div>\n",
              "<style scoped>\n",
              "    .dataframe tbody tr th:only-of-type {\n",
              "        vertical-align: middle;\n",
              "    }\n",
              "\n",
              "    .dataframe tbody tr th {\n",
              "        vertical-align: top;\n",
              "    }\n",
              "\n",
              "    .dataframe thead th {\n",
              "        text-align: right;\n",
              "    }\n",
              "</style>\n",
              "<table border=\"1\" class=\"dataframe\">\n",
              "  <thead>\n",
              "    <tr style=\"text-align: right;\">\n",
              "      <th></th>\n",
              "      <th>Id</th>\n",
              "      <th>MSSubClass</th>\n",
              "      <th>LotFrontage</th>\n",
              "      <th>LotArea</th>\n",
              "      <th>OverallQual</th>\n",
              "      <th>OverallCond</th>\n",
              "      <th>YearBuilt</th>\n",
              "      <th>YearRemodAdd</th>\n",
              "      <th>MasVnrArea</th>\n",
              "      <th>BsmtFinSF1</th>\n",
              "      <th>BsmtFinSF2</th>\n",
              "      <th>BsmtUnfSF</th>\n",
              "      <th>TotalBsmtSF</th>\n",
              "      <th>1stFlrSF</th>\n",
              "      <th>2ndFlrSF</th>\n",
              "      <th>LowQualFinSF</th>\n",
              "      <th>GrLivArea</th>\n",
              "      <th>BsmtFullBath</th>\n",
              "      <th>BsmtHalfBath</th>\n",
              "      <th>FullBath</th>\n",
              "      <th>HalfBath</th>\n",
              "      <th>BedroomAbvGr</th>\n",
              "      <th>KitchenAbvGr</th>\n",
              "      <th>TotRmsAbvGrd</th>\n",
              "      <th>Fireplaces</th>\n",
              "      <th>GarageYrBlt</th>\n",
              "      <th>GarageCars</th>\n",
              "      <th>GarageArea</th>\n",
              "      <th>WoodDeckSF</th>\n",
              "      <th>OpenPorchSF</th>\n",
              "      <th>EnclosedPorch</th>\n",
              "      <th>3SsnPorch</th>\n",
              "      <th>ScreenPorch</th>\n",
              "      <th>PoolArea</th>\n",
              "      <th>MiscVal</th>\n",
              "      <th>MoSold</th>\n",
              "      <th>YrSold</th>\n",
              "      <th>SalePrice</th>\n",
              "    </tr>\n",
              "  </thead>\n",
              "  <tbody>\n",
              "    <tr>\n",
              "      <th>count</th>\n",
              "      <td>1460.000000</td>\n",
              "      <td>1460.000000</td>\n",
              "      <td>1201.000000</td>\n",
              "      <td>1460.000000</td>\n",
              "      <td>1460.000000</td>\n",
              "      <td>1460.000000</td>\n",
              "      <td>1460.000000</td>\n",
              "      <td>1460.000000</td>\n",
              "      <td>1452.000000</td>\n",
              "      <td>1460.000000</td>\n",
              "      <td>1460.000000</td>\n",
              "      <td>1460.000000</td>\n",
              "      <td>1460.000000</td>\n",
              "      <td>1460.000000</td>\n",
              "      <td>1460.000000</td>\n",
              "      <td>1460.000000</td>\n",
              "      <td>1460.000000</td>\n",
              "      <td>1460.000000</td>\n",
              "      <td>1460.000000</td>\n",
              "      <td>1460.000000</td>\n",
              "      <td>1460.000000</td>\n",
              "      <td>1460.000000</td>\n",
              "      <td>1460.000000</td>\n",
              "      <td>1460.000000</td>\n",
              "      <td>1460.000000</td>\n",
              "      <td>1379.000000</td>\n",
              "      <td>1460.000000</td>\n",
              "      <td>1460.000000</td>\n",
              "      <td>1460.000000</td>\n",
              "      <td>1460.000000</td>\n",
              "      <td>1460.000000</td>\n",
              "      <td>1460.000000</td>\n",
              "      <td>1460.000000</td>\n",
              "      <td>1460.000000</td>\n",
              "      <td>1460.000000</td>\n",
              "      <td>1460.000000</td>\n",
              "      <td>1460.000000</td>\n",
              "      <td>1460.000000</td>\n",
              "    </tr>\n",
              "    <tr>\n",
              "      <th>mean</th>\n",
              "      <td>730.500000</td>\n",
              "      <td>56.897260</td>\n",
              "      <td>70.049958</td>\n",
              "      <td>10516.828082</td>\n",
              "      <td>6.099315</td>\n",
              "      <td>5.575342</td>\n",
              "      <td>1971.267808</td>\n",
              "      <td>1984.865753</td>\n",
              "      <td>103.685262</td>\n",
              "      <td>443.639726</td>\n",
              "      <td>46.549315</td>\n",
              "      <td>567.240411</td>\n",
              "      <td>1057.429452</td>\n",
              "      <td>1162.626712</td>\n",
              "      <td>346.992466</td>\n",
              "      <td>5.844521</td>\n",
              "      <td>1515.463699</td>\n",
              "      <td>0.425342</td>\n",
              "      <td>0.057534</td>\n",
              "      <td>1.565068</td>\n",
              "      <td>0.382877</td>\n",
              "      <td>2.866438</td>\n",
              "      <td>1.046575</td>\n",
              "      <td>6.517808</td>\n",
              "      <td>0.613014</td>\n",
              "      <td>1978.506164</td>\n",
              "      <td>1.767123</td>\n",
              "      <td>472.980137</td>\n",
              "      <td>94.244521</td>\n",
              "      <td>46.660274</td>\n",
              "      <td>21.954110</td>\n",
              "      <td>3.409589</td>\n",
              "      <td>15.060959</td>\n",
              "      <td>2.758904</td>\n",
              "      <td>43.489041</td>\n",
              "      <td>6.321918</td>\n",
              "      <td>2007.815753</td>\n",
              "      <td>180921.195890</td>\n",
              "    </tr>\n",
              "    <tr>\n",
              "      <th>std</th>\n",
              "      <td>421.610009</td>\n",
              "      <td>42.300571</td>\n",
              "      <td>24.284752</td>\n",
              "      <td>9981.264932</td>\n",
              "      <td>1.382997</td>\n",
              "      <td>1.112799</td>\n",
              "      <td>30.202904</td>\n",
              "      <td>20.645407</td>\n",
              "      <td>181.066207</td>\n",
              "      <td>456.098091</td>\n",
              "      <td>161.319273</td>\n",
              "      <td>441.866955</td>\n",
              "      <td>438.705324</td>\n",
              "      <td>386.587738</td>\n",
              "      <td>436.528436</td>\n",
              "      <td>48.623081</td>\n",
              "      <td>525.480383</td>\n",
              "      <td>0.518911</td>\n",
              "      <td>0.238753</td>\n",
              "      <td>0.550916</td>\n",
              "      <td>0.502885</td>\n",
              "      <td>0.815778</td>\n",
              "      <td>0.220338</td>\n",
              "      <td>1.625393</td>\n",
              "      <td>0.644666</td>\n",
              "      <td>24.689725</td>\n",
              "      <td>0.747315</td>\n",
              "      <td>213.804841</td>\n",
              "      <td>125.338794</td>\n",
              "      <td>66.256028</td>\n",
              "      <td>61.119149</td>\n",
              "      <td>29.317331</td>\n",
              "      <td>55.757415</td>\n",
              "      <td>40.177307</td>\n",
              "      <td>496.123024</td>\n",
              "      <td>2.703626</td>\n",
              "      <td>1.328095</td>\n",
              "      <td>79442.502883</td>\n",
              "    </tr>\n",
              "    <tr>\n",
              "      <th>min</th>\n",
              "      <td>1.000000</td>\n",
              "      <td>20.000000</td>\n",
              "      <td>21.000000</td>\n",
              "      <td>1300.000000</td>\n",
              "      <td>1.000000</td>\n",
              "      <td>1.000000</td>\n",
              "      <td>1872.000000</td>\n",
              "      <td>1950.000000</td>\n",
              "      <td>0.000000</td>\n",
              "      <td>0.000000</td>\n",
              "      <td>0.000000</td>\n",
              "      <td>0.000000</td>\n",
              "      <td>0.000000</td>\n",
              "      <td>334.000000</td>\n",
              "      <td>0.000000</td>\n",
              "      <td>0.000000</td>\n",
              "      <td>334.000000</td>\n",
              "      <td>0.000000</td>\n",
              "      <td>0.000000</td>\n",
              "      <td>0.000000</td>\n",
              "      <td>0.000000</td>\n",
              "      <td>0.000000</td>\n",
              "      <td>0.000000</td>\n",
              "      <td>2.000000</td>\n",
              "      <td>0.000000</td>\n",
              "      <td>1900.000000</td>\n",
              "      <td>0.000000</td>\n",
              "      <td>0.000000</td>\n",
              "      <td>0.000000</td>\n",
              "      <td>0.000000</td>\n",
              "      <td>0.000000</td>\n",
              "      <td>0.000000</td>\n",
              "      <td>0.000000</td>\n",
              "      <td>0.000000</td>\n",
              "      <td>0.000000</td>\n",
              "      <td>1.000000</td>\n",
              "      <td>2006.000000</td>\n",
              "      <td>34900.000000</td>\n",
              "    </tr>\n",
              "    <tr>\n",
              "      <th>25%</th>\n",
              "      <td>365.750000</td>\n",
              "      <td>20.000000</td>\n",
              "      <td>59.000000</td>\n",
              "      <td>7553.500000</td>\n",
              "      <td>5.000000</td>\n",
              "      <td>5.000000</td>\n",
              "      <td>1954.000000</td>\n",
              "      <td>1967.000000</td>\n",
              "      <td>0.000000</td>\n",
              "      <td>0.000000</td>\n",
              "      <td>0.000000</td>\n",
              "      <td>223.000000</td>\n",
              "      <td>795.750000</td>\n",
              "      <td>882.000000</td>\n",
              "      <td>0.000000</td>\n",
              "      <td>0.000000</td>\n",
              "      <td>1129.500000</td>\n",
              "      <td>0.000000</td>\n",
              "      <td>0.000000</td>\n",
              "      <td>1.000000</td>\n",
              "      <td>0.000000</td>\n",
              "      <td>2.000000</td>\n",
              "      <td>1.000000</td>\n",
              "      <td>5.000000</td>\n",
              "      <td>0.000000</td>\n",
              "      <td>1961.000000</td>\n",
              "      <td>1.000000</td>\n",
              "      <td>334.500000</td>\n",
              "      <td>0.000000</td>\n",
              "      <td>0.000000</td>\n",
              "      <td>0.000000</td>\n",
              "      <td>0.000000</td>\n",
              "      <td>0.000000</td>\n",
              "      <td>0.000000</td>\n",
              "      <td>0.000000</td>\n",
              "      <td>5.000000</td>\n",
              "      <td>2007.000000</td>\n",
              "      <td>129975.000000</td>\n",
              "    </tr>\n",
              "    <tr>\n",
              "      <th>50%</th>\n",
              "      <td>730.500000</td>\n",
              "      <td>50.000000</td>\n",
              "      <td>69.000000</td>\n",
              "      <td>9478.500000</td>\n",
              "      <td>6.000000</td>\n",
              "      <td>5.000000</td>\n",
              "      <td>1973.000000</td>\n",
              "      <td>1994.000000</td>\n",
              "      <td>0.000000</td>\n",
              "      <td>383.500000</td>\n",
              "      <td>0.000000</td>\n",
              "      <td>477.500000</td>\n",
              "      <td>991.500000</td>\n",
              "      <td>1087.000000</td>\n",
              "      <td>0.000000</td>\n",
              "      <td>0.000000</td>\n",
              "      <td>1464.000000</td>\n",
              "      <td>0.000000</td>\n",
              "      <td>0.000000</td>\n",
              "      <td>2.000000</td>\n",
              "      <td>0.000000</td>\n",
              "      <td>3.000000</td>\n",
              "      <td>1.000000</td>\n",
              "      <td>6.000000</td>\n",
              "      <td>1.000000</td>\n",
              "      <td>1980.000000</td>\n",
              "      <td>2.000000</td>\n",
              "      <td>480.000000</td>\n",
              "      <td>0.000000</td>\n",
              "      <td>25.000000</td>\n",
              "      <td>0.000000</td>\n",
              "      <td>0.000000</td>\n",
              "      <td>0.000000</td>\n",
              "      <td>0.000000</td>\n",
              "      <td>0.000000</td>\n",
              "      <td>6.000000</td>\n",
              "      <td>2008.000000</td>\n",
              "      <td>163000.000000</td>\n",
              "    </tr>\n",
              "    <tr>\n",
              "      <th>75%</th>\n",
              "      <td>1095.250000</td>\n",
              "      <td>70.000000</td>\n",
              "      <td>80.000000</td>\n",
              "      <td>11601.500000</td>\n",
              "      <td>7.000000</td>\n",
              "      <td>6.000000</td>\n",
              "      <td>2000.000000</td>\n",
              "      <td>2004.000000</td>\n",
              "      <td>166.000000</td>\n",
              "      <td>712.250000</td>\n",
              "      <td>0.000000</td>\n",
              "      <td>808.000000</td>\n",
              "      <td>1298.250000</td>\n",
              "      <td>1391.250000</td>\n",
              "      <td>728.000000</td>\n",
              "      <td>0.000000</td>\n",
              "      <td>1776.750000</td>\n",
              "      <td>1.000000</td>\n",
              "      <td>0.000000</td>\n",
              "      <td>2.000000</td>\n",
              "      <td>1.000000</td>\n",
              "      <td>3.000000</td>\n",
              "      <td>1.000000</td>\n",
              "      <td>7.000000</td>\n",
              "      <td>1.000000</td>\n",
              "      <td>2002.000000</td>\n",
              "      <td>2.000000</td>\n",
              "      <td>576.000000</td>\n",
              "      <td>168.000000</td>\n",
              "      <td>68.000000</td>\n",
              "      <td>0.000000</td>\n",
              "      <td>0.000000</td>\n",
              "      <td>0.000000</td>\n",
              "      <td>0.000000</td>\n",
              "      <td>0.000000</td>\n",
              "      <td>8.000000</td>\n",
              "      <td>2009.000000</td>\n",
              "      <td>214000.000000</td>\n",
              "    </tr>\n",
              "    <tr>\n",
              "      <th>max</th>\n",
              "      <td>1460.000000</td>\n",
              "      <td>190.000000</td>\n",
              "      <td>313.000000</td>\n",
              "      <td>215245.000000</td>\n",
              "      <td>10.000000</td>\n",
              "      <td>9.000000</td>\n",
              "      <td>2010.000000</td>\n",
              "      <td>2010.000000</td>\n",
              "      <td>1600.000000</td>\n",
              "      <td>5644.000000</td>\n",
              "      <td>1474.000000</td>\n",
              "      <td>2336.000000</td>\n",
              "      <td>6110.000000</td>\n",
              "      <td>4692.000000</td>\n",
              "      <td>2065.000000</td>\n",
              "      <td>572.000000</td>\n",
              "      <td>5642.000000</td>\n",
              "      <td>3.000000</td>\n",
              "      <td>2.000000</td>\n",
              "      <td>3.000000</td>\n",
              "      <td>2.000000</td>\n",
              "      <td>8.000000</td>\n",
              "      <td>3.000000</td>\n",
              "      <td>14.000000</td>\n",
              "      <td>3.000000</td>\n",
              "      <td>2010.000000</td>\n",
              "      <td>4.000000</td>\n",
              "      <td>1418.000000</td>\n",
              "      <td>857.000000</td>\n",
              "      <td>547.000000</td>\n",
              "      <td>552.000000</td>\n",
              "      <td>508.000000</td>\n",
              "      <td>480.000000</td>\n",
              "      <td>738.000000</td>\n",
              "      <td>15500.000000</td>\n",
              "      <td>12.000000</td>\n",
              "      <td>2010.000000</td>\n",
              "      <td>755000.000000</td>\n",
              "    </tr>\n",
              "  </tbody>\n",
              "</table>\n",
              "</div>"
            ],
            "text/plain": [
              "                Id   MSSubClass  ...       YrSold      SalePrice\n",
              "count  1460.000000  1460.000000  ...  1460.000000    1460.000000\n",
              "mean    730.500000    56.897260  ...  2007.815753  180921.195890\n",
              "std     421.610009    42.300571  ...     1.328095   79442.502883\n",
              "min       1.000000    20.000000  ...  2006.000000   34900.000000\n",
              "25%     365.750000    20.000000  ...  2007.000000  129975.000000\n",
              "50%     730.500000    50.000000  ...  2008.000000  163000.000000\n",
              "75%    1095.250000    70.000000  ...  2009.000000  214000.000000\n",
              "max    1460.000000   190.000000  ...  2010.000000  755000.000000\n",
              "\n",
              "[8 rows x 38 columns]"
            ]
          },
          "metadata": {
            "tags": []
          },
          "execution_count": 1571
        }
      ]
    },
    {
      "cell_type": "code",
      "metadata": {
        "id": "qQxaZyz3l1-_",
        "outputId": "ee3122f4-bc68-45bb-d3ae-dc7d79629c21",
        "colab": {
          "base_uri": "https://localhost:8080/",
          "height": 340
        }
      },
      "source": [
        "# getting the list of columns wich has  more than 1 null values\n",
        "\n",
        "sorted({k:i for k,i in df.isna().sum().items() if i>0}.items(), key=lambda x: x[1], reverse=True)"
      ],
      "execution_count": 1572,
      "outputs": [
        {
          "output_type": "execute_result",
          "data": {
            "text/plain": [
              "[('PoolQC', 1453),\n",
              " ('MiscFeature', 1406),\n",
              " ('Alley', 1369),\n",
              " ('Fence', 1179),\n",
              " ('FireplaceQu', 690),\n",
              " ('LotFrontage', 259),\n",
              " ('GarageType', 81),\n",
              " ('GarageYrBlt', 81),\n",
              " ('GarageFinish', 81),\n",
              " ('GarageQual', 81),\n",
              " ('GarageCond', 81),\n",
              " ('BsmtExposure', 38),\n",
              " ('BsmtFinType2', 38),\n",
              " ('BsmtQual', 37),\n",
              " ('BsmtCond', 37),\n",
              " ('BsmtFinType1', 37),\n",
              " ('MasVnrType', 8),\n",
              " ('MasVnrArea', 8),\n",
              " ('Electrical', 1)]"
            ]
          },
          "metadata": {
            "tags": []
          },
          "execution_count": 1572
        }
      ]
    },
    {
      "cell_type": "markdown",
      "metadata": {
        "id": "vrvZWgpOyRTK"
      },
      "source": [
        "It seems there are many columns which may need missing value treatment and also scaling is needed"
      ]
    },
    {
      "cell_type": "markdown",
      "metadata": {
        "id": "eDfb06kzyejP"
      },
      "source": [
        "# Data understanding and cleaning"
      ]
    },
    {
      "cell_type": "markdown",
      "metadata": {
        "id": "bneG3Dnb7Rdv"
      },
      "source": [
        "Understanding the target column"
      ]
    },
    {
      "cell_type": "code",
      "metadata": {
        "id": "JaEUdvKi7Q3p",
        "outputId": "c2e88462-16b6-48ef-f857-42c2707283c5",
        "colab": {
          "base_uri": "https://localhost:8080/",
          "height": 624
        }
      },
      "source": [
        "sns.histplot(df['SalePrice'] , hue_norm=norm);\n",
        "\n",
        "# Get the fitted parameters used by the function\n",
        "(mu, sigma) = norm.fit(df['SalePrice'])\n",
        "print( '\\n mu = {:.2f} and sigma = {:.2f}\\n'.format(mu, sigma))\n",
        "\n",
        "#Now plot the distribution\n",
        "plt.legend(['Normal dist. ($\\mu=$ {:.2f} and $\\sigma=$ {:.2f} )'.format(mu, sigma)],\n",
        "            loc='best')\n",
        "plt.ylabel('Frequency')\n",
        "plt.title('SalePrice distribution')\n",
        "\n",
        "#Get also the QQ-plot\n",
        "fig = plt.figure()\n",
        "res = stats.probplot(df['SalePrice'], plot=plt)\n",
        "plt.show()"
      ],
      "execution_count": 1573,
      "outputs": [
        {
          "output_type": "stream",
          "text": [
            "\n",
            " mu = 180921.20 and sigma = 79415.29\n",
            "\n"
          ],
          "name": "stdout"
        },
        {
          "output_type": "display_data",
          "data": {
            "image/png": "[encoded data removed]",
            "text/plain": [
              "<Figure size 432x288 with 1 Axes>"
            ]
          },
          "metadata": {
            "tags": [],
            "needs_background": "light"
          }
        },
        {
          "output_type": "display_data",
          "data": {
            "image/png": "[encoded data removed]",
            "text/plain": [
              "<Figure size 432x288 with 1 Axes>"
            ]
          },
          "metadata": {
            "tags": [],
            "needs_background": "light"
          }
        }
      ]
    },
    {
      "cell_type": "markdown",
      "metadata": {
        "id": "OpKR3pMB7XYf"
      },
      "source": [
        "The target variable is right skewed. As (linear) models love normally distributed data , we need to transform this variable and make it more normally distributed."
      ]
    },
    {
      "cell_type": "code",
      "metadata": {
        "id": "-2QgCRqr9Hsk",
        "outputId": "e9de3834-90d9-4a4a-f9cb-e8131587c75c",
        "colab": {
          "base_uri": "https://localhost:8080/",
          "height": 624
        }
      },
      "source": [
        "#We use the numpy fuction log1p which  applies log(1+x) to all elements of the column\n",
        "df[\"SalePrice\"] = np.log1p(df[\"SalePrice\"])\n",
        "sns.histplot(df['SalePrice'] , hue_norm=norm);\n",
        "\n",
        "# Get the fitted parameters used by the function\n",
        "(mu, sigma) = norm.fit(df['SalePrice'])\n",
        "print( '\\n mu = {:.2f} and sigma = {:.2f}\\n'.format(mu, sigma))\n",
        "\n",
        "#Now plot the distribution\n",
        "plt.legend(['Normal dist. ($\\mu=$ {:.2f} and $\\sigma=$ {:.2f} )'.format(mu, sigma)],\n",
        "            loc='best')\n",
        "plt.ylabel('Frequency')\n",
        "plt.title('SalePrice distribution')\n",
        "\n",
        "#Get also the QQ-plot\n",
        "fig = plt.figure()\n",
        "res = stats.probplot(df['SalePrice'], plot=plt)\n",
        "plt.show()\n",
        "\n",
        "\n",
        "# #removing the outliers will also give a normal distribution\n",
        "# df=df[(df.SalePrice>=11) & (df.SalePrice <=13.25)]\n",
        "# sns.boxplot(data=df,x='SalePrice')\n",
        "# plt.show()\n",
        "# df.SalePrice.describe()"
      ],
      "execution_count": 1574,
      "outputs": [
        {
          "output_type": "stream",
          "text": [
            "\n",
            " mu = 12.02 and sigma = 0.40\n",
            "\n"
          ],
          "name": "stdout"
        },
        {
          "output_type": "display_data",
          "data": {
            "image/png": "[encoded data removed]",
            "text/plain": [
              "<Figure size 432x288 with 1 Axes>"
            ]
          },
          "metadata": {
            "tags": [],
            "needs_background": "light"
          }
        },
        {
          "output_type": "display_data",
          "data": {
            "image/png": "[encoded data removed]",
            "text/plain": [
              "<Figure size 432x288 with 1 Axes>"
            ]
          },
          "metadata": {
            "tags": [],
            "needs_background": "light"
          }
        }
      ]
    },
    {
      "cell_type": "code",
      "metadata": {
        "id": "CDcpMQ_ku9cL",
        "outputId": "8a3ad95e-d63a-4233-f17b-48d5c5547f42",
        "colab": {
          "base_uri": "https://localhost:8080/",
          "height": 85
        }
      },
      "source": [
        "\n",
        "# now hecking columns with more than 80% if junk values \n",
        "# we have arbitarily decided threshold of 80% but it makes sense as imputing 80% missing values if too much effort and may not be so accurate to real world data\n",
        "\n",
        "for c in df.columns:\n",
        "  percent=(df[c].isna().sum()/len(df[c]))*100\n",
        "  if percent>=75:\n",
        "    print(c,\" total junk values \",percent,\"%  i.e. \",df[c].isna().sum())\n",
        "    #df=df.drop(columns=[c])\n",
        "\n"
      ],
      "execution_count": 1575,
      "outputs": [
        {
          "output_type": "stream",
          "text": [
            "Alley  total junk values  93.76712328767123 %  i.e.  1369\n",
            "PoolQC  total junk values  99.52054794520548 %  i.e.  1453\n",
            "Fence  total junk values  80.75342465753424 %  i.e.  1179\n",
            "MiscFeature  total junk values  96.30136986301369 %  i.e.  1406\n"
          ],
          "name": "stdout"
        }
      ]
    },
    {
      "cell_type": "code",
      "metadata": {
        "id": "b8MpYmpXz5m2"
      },
      "source": [
        "#set id as unique id if it is unique\n",
        "rows,cols = df.shape\n",
        "\n",
        "if (len(df.Id.unique())==rows):\n",
        "  df.set_index('Id', inplace=True)"
      ],
      "execution_count": 1576,
      "outputs": []
    },
    {
      "cell_type": "code",
      "metadata": {
        "id": "mTjgpIXv1Gm7"
      },
      "source": [
        "\n",
        "#droping duplicate records\n",
        "df=df.drop_duplicates()"
      ],
      "execution_count": 1577,
      "outputs": []
    },
    {
      "cell_type": "code",
      "metadata": {
        "id": "drC9qAg-1S8q",
        "outputId": "c2607d5d-5f9a-4b5e-d234-f4c3f5988082",
        "colab": {
          "base_uri": "https://localhost:8080/",
          "height": 255
        }
      },
      "source": [
        "df.head()"
      ],
      "execution_count": 1578,
      "outputs": [
        {
          "output_type": "execute_result",
          "data": {
            "text/html": [
              "<div>\n",
              "<style scoped>\n",
              "    .dataframe tbody tr th:only-of-type {\n",
              "        vertical-align: middle;\n",
              "    }\n",
              "\n",
              "    .dataframe tbody tr th {\n",
              "        vertical-align: top;\n",
              "    }\n",
              "\n",
              "    .dataframe thead th {\n",
              "        text-align: right;\n",
              "    }\n",
              "</style>\n",
              "<table border=\"1\" class=\"dataframe\">\n",
              "  <thead>\n",
              "    <tr style=\"text-align: right;\">\n",
              "      <th></th>\n",
              "      <th>MSSubClass</th>\n",
              "      <th>MSZoning</th>\n",
              "      <th>LotFrontage</th>\n",
              "      <th>LotArea</th>\n",
              "      <th>Street</th>\n",
              "      <th>Alley</th>\n",
              "      <th>LotShape</th>\n",
              "      <th>LandContour</th>\n",
              "      <th>Utilities</th>\n",
              "      <th>LotConfig</th>\n",
              "      <th>LandSlope</th>\n",
              "      <th>Neighborhood</th>\n",
              "      <th>Condition1</th>\n",
              "      <th>Condition2</th>\n",
              "      <th>BldgType</th>\n",
              "      <th>HouseStyle</th>\n",
              "      <th>OverallQual</th>\n",
              "      <th>OverallCond</th>\n",
              "      <th>YearBuilt</th>\n",
              "      <th>YearRemodAdd</th>\n",
              "      <th>RoofStyle</th>\n",
              "      <th>RoofMatl</th>\n",
              "      <th>Exterior1st</th>\n",
              "      <th>Exterior2nd</th>\n",
              "      <th>MasVnrType</th>\n",
              "      <th>MasVnrArea</th>\n",
              "      <th>ExterQual</th>\n",
              "      <th>ExterCond</th>\n",
              "      <th>Foundation</th>\n",
              "      <th>BsmtQual</th>\n",
              "      <th>BsmtCond</th>\n",
              "      <th>BsmtExposure</th>\n",
              "      <th>BsmtFinType1</th>\n",
              "      <th>BsmtFinSF1</th>\n",
              "      <th>BsmtFinType2</th>\n",
              "      <th>BsmtFinSF2</th>\n",
              "      <th>BsmtUnfSF</th>\n",
              "      <th>TotalBsmtSF</th>\n",
              "      <th>Heating</th>\n",
              "      <th>HeatingQC</th>\n",
              "      <th>CentralAir</th>\n",
              "      <th>Electrical</th>\n",
              "      <th>1stFlrSF</th>\n",
              "      <th>2ndFlrSF</th>\n",
              "      <th>LowQualFinSF</th>\n",
              "      <th>GrLivArea</th>\n",
              "      <th>BsmtFullBath</th>\n",
              "      <th>BsmtHalfBath</th>\n",
              "      <th>FullBath</th>\n",
              "      <th>HalfBath</th>\n",
              "      <th>BedroomAbvGr</th>\n",
              "      <th>KitchenAbvGr</th>\n",
              "      <th>KitchenQual</th>\n",
              "      <th>TotRmsAbvGrd</th>\n",
              "      <th>Functional</th>\n",
              "      <th>Fireplaces</th>\n",
              "      <th>FireplaceQu</th>\n",
              "      <th>GarageType</th>\n",
              "      <th>GarageYrBlt</th>\n",
              "      <th>GarageFinish</th>\n",
              "      <th>GarageCars</th>\n",
              "      <th>GarageArea</th>\n",
              "      <th>GarageQual</th>\n",
              "      <th>GarageCond</th>\n",
              "      <th>PavedDrive</th>\n",
              "      <th>WoodDeckSF</th>\n",
              "      <th>OpenPorchSF</th>\n",
              "      <th>EnclosedPorch</th>\n",
              "      <th>3SsnPorch</th>\n",
              "      <th>ScreenPorch</th>\n",
              "      <th>PoolArea</th>\n",
              "      <th>PoolQC</th>\n",
              "      <th>Fence</th>\n",
              "      <th>MiscFeature</th>\n",
              "      <th>MiscVal</th>\n",
              "      <th>MoSold</th>\n",
              "      <th>YrSold</th>\n",
              "      <th>SaleType</th>\n",
              "      <th>SaleCondition</th>\n",
              "      <th>SalePrice</th>\n",
              "    </tr>\n",
              "    <tr>\n",
              "      <th>Id</th>\n",
              "      <th></th>\n",
              "      <th></th>\n",
              "      <th></th>\n",
              "      <th></th>\n",
              "      <th></th>\n",
              "      <th></th>\n",
              "      <th></th>\n",
              "      <th></th>\n",
              "      <th></th>\n",
              "      <th></th>\n",
              "      <th></th>\n",
              "      <th></th>\n",
              "      <th></th>\n",
              "      <th></th>\n",
              "      <th></th>\n",
              "      <th></th>\n",
              "      <th></th>\n",
              "      <th></th>\n",
              "      <th></th>\n",
              "      <th></th>\n",
              "      <th></th>\n",
              "      <th></th>\n",
              "      <th></th>\n",
              "      <th></th>\n",
              "      <th></th>\n",
              "      <th></th>\n",
              "      <th></th>\n",
              "      <th></th>\n",
              "      <th></th>\n",
              "      <th></th>\n",
              "      <th></th>\n",
              "      <th></th>\n",
              "      <th></th>\n",
              "      <th></th>\n",
              "      <th></th>\n",
              "      <th></th>\n",
              "      <th></th>\n",
              "      <th></th>\n",
              "      <th></th>\n",
              "      <th></th>\n",
              "      <th></th>\n",
              "      <th></th>\n",
              "      <th></th>\n",
              "      <th></th>\n",
              "      <th></th>\n",
              "      <th></th>\n",
              "      <th></th>\n",
              "      <th></th>\n",
              "      <th></th>\n",
              "      <th></th>\n",
              "      <th></th>\n",
              "      <th></th>\n",
              "      <th></th>\n",
              "      <th></th>\n",
              "      <th></th>\n",
              "      <th></th>\n",
              "      <th></th>\n",
              "      <th></th>\n",
              "      <th></th>\n",
              "      <th></th>\n",
              "      <th></th>\n",
              "      <th></th>\n",
              "      <th></th>\n",
              "      <th></th>\n",
              "      <th></th>\n",
              "      <th></th>\n",
              "      <th></th>\n",
              "      <th></th>\n",
              "      <th></th>\n",
              "      <th></th>\n",
              "      <th></th>\n",
              "      <th></th>\n",
              "      <th></th>\n",
              "      <th></th>\n",
              "      <th></th>\n",
              "      <th></th>\n",
              "      <th></th>\n",
              "      <th></th>\n",
              "      <th></th>\n",
              "      <th></th>\n",
              "    </tr>\n",
              "  </thead>\n",
              "  <tbody>\n",
              "    <tr>\n",
              "      <th>1</th>\n",
              "      <td>60</td>\n",
              "      <td>RL</td>\n",
              "      <td>65.0</td>\n",
              "      <td>8450</td>\n",
              "      <td>Pave</td>\n",
              "      <td>NaN</td>\n",
              "      <td>Reg</td>\n",
              "      <td>Lvl</td>\n",
              "      <td>AllPub</td>\n",
              "      <td>Inside</td>\n",
              "      <td>Gtl</td>\n",
              "      <td>CollgCr</td>\n",
              "      <td>Norm</td>\n",
              "      <td>Norm</td>\n",
              "      <td>1Fam</td>\n",
              "      <td>2Story</td>\n",
              "      <td>7</td>\n",
              "      <td>5</td>\n",
              "      <td>2003</td>\n",
              "      <td>2003</td>\n",
              "      <td>Gable</td>\n",
              "      <td>CompShg</td>\n",
              "      <td>VinylSd</td>\n",
              "      <td>VinylSd</td>\n",
              "      <td>BrkFace</td>\n",
              "      <td>196.0</td>\n",
              "      <td>Gd</td>\n",
              "      <td>TA</td>\n",
              "      <td>PConc</td>\n",
              "      <td>Gd</td>\n",
              "      <td>TA</td>\n",
              "      <td>No</td>\n",
              "      <td>GLQ</td>\n",
              "      <td>706</td>\n",
              "      <td>Unf</td>\n",
              "      <td>0</td>\n",
              "      <td>150</td>\n",
              "      <td>856</td>\n",
              "      <td>GasA</td>\n",
              "      <td>Ex</td>\n",
              "      <td>Y</td>\n",
              "      <td>SBrkr</td>\n",
              "      <td>856</td>\n",
              "      <td>854</td>\n",
              "      <td>0</td>\n",
              "      <td>1710</td>\n",
              "      <td>1</td>\n",
              "      <td>0</td>\n",
              "      <td>2</td>\n",
              "      <td>1</td>\n",
              "      <td>3</td>\n",
              "      <td>1</td>\n",
              "      <td>Gd</td>\n",
              "      <td>8</td>\n",
              "      <td>Typ</td>\n",
              "      <td>0</td>\n",
              "      <td>NaN</td>\n",
              "      <td>Attchd</td>\n",
              "      <td>2003.0</td>\n",
              "      <td>RFn</td>\n",
              "      <td>2</td>\n",
              "      <td>548</td>\n",
              "      <td>TA</td>\n",
              "      <td>TA</td>\n",
              "      <td>Y</td>\n",
              "      <td>0</td>\n",
              "      <td>61</td>\n",
              "      <td>0</td>\n",
              "      <td>0</td>\n",
              "      <td>0</td>\n",
              "      <td>0</td>\n",
              "      <td>NaN</td>\n",
              "      <td>NaN</td>\n",
              "      <td>NaN</td>\n",
              "      <td>0</td>\n",
              "      <td>2</td>\n",
              "      <td>2008</td>\n",
              "      <td>WD</td>\n",
              "      <td>Normal</td>\n",
              "      <td>12.247699</td>\n",
              "    </tr>\n",
              "    <tr>\n",
              "      <th>2</th>\n",
              "      <td>20</td>\n",
              "      <td>RL</td>\n",
              "      <td>80.0</td>\n",
              "      <td>9600</td>\n",
              "      <td>Pave</td>\n",
              "      <td>NaN</td>\n",
              "      <td>Reg</td>\n",
              "      <td>Lvl</td>\n",
              "      <td>AllPub</td>\n",
              "      <td>FR2</td>\n",
              "      <td>Gtl</td>\n",
              "      <td>Veenker</td>\n",
              "      <td>Feedr</td>\n",
              "      <td>Norm</td>\n",
              "      <td>1Fam</td>\n",
              "      <td>1Story</td>\n",
              "      <td>6</td>\n",
              "      <td>8</td>\n",
              "      <td>1976</td>\n",
              "      <td>1976</td>\n",
              "      <td>Gable</td>\n",
              "      <td>CompShg</td>\n",
              "      <td>MetalSd</td>\n",
              "      <td>MetalSd</td>\n",
              "      <td>None</td>\n",
              "      <td>0.0</td>\n",
              "      <td>TA</td>\n",
              "      <td>TA</td>\n",
              "      <td>CBlock</td>\n",
              "      <td>Gd</td>\n",
              "      <td>TA</td>\n",
              "      <td>Gd</td>\n",
              "      <td>ALQ</td>\n",
              "      <td>978</td>\n",
              "      <td>Unf</td>\n",
              "      <td>0</td>\n",
              "      <td>284</td>\n",
              "      <td>1262</td>\n",
              "      <td>GasA</td>\n",
              "      <td>Ex</td>\n",
              "      <td>Y</td>\n",
              "      <td>SBrkr</td>\n",
              "      <td>1262</td>\n",
              "      <td>0</td>\n",
              "      <td>0</td>\n",
              "      <td>1262</td>\n",
              "      <td>0</td>\n",
              "      <td>1</td>\n",
              "      <td>2</td>\n",
              "      <td>0</td>\n",
              "      <td>3</td>\n",
              "      <td>1</td>\n",
              "      <td>TA</td>\n",
              "      <td>6</td>\n",
              "      <td>Typ</td>\n",
              "      <td>1</td>\n",
              "      <td>TA</td>\n",
              "      <td>Attchd</td>\n",
              "      <td>1976.0</td>\n",
              "      <td>RFn</td>\n",
              "      <td>2</td>\n",
              "      <td>460</td>\n",
              "      <td>TA</td>\n",
              "      <td>TA</td>\n",
              "      <td>Y</td>\n",
              "      <td>298</td>\n",
              "      <td>0</td>\n",
              "      <td>0</td>\n",
              "      <td>0</td>\n",
              "      <td>0</td>\n",
              "      <td>0</td>\n",
              "      <td>NaN</td>\n",
              "      <td>NaN</td>\n",
              "      <td>NaN</td>\n",
              "      <td>0</td>\n",
              "      <td>5</td>\n",
              "      <td>2007</td>\n",
              "      <td>WD</td>\n",
              "      <td>Normal</td>\n",
              "      <td>12.109016</td>\n",
              "    </tr>\n",
              "    <tr>\n",
              "      <th>3</th>\n",
              "      <td>60</td>\n",
              "      <td>RL</td>\n",
              "      <td>68.0</td>\n",
              "      <td>11250</td>\n",
              "      <td>Pave</td>\n",
              "      <td>NaN</td>\n",
              "      <td>IR1</td>\n",
              "      <td>Lvl</td>\n",
              "      <td>AllPub</td>\n",
              "      <td>Inside</td>\n",
              "      <td>Gtl</td>\n",
              "      <td>CollgCr</td>\n",
              "      <td>Norm</td>\n",
              "      <td>Norm</td>\n",
              "      <td>1Fam</td>\n",
              "      <td>2Story</td>\n",
              "      <td>7</td>\n",
              "      <td>5</td>\n",
              "      <td>2001</td>\n",
              "      <td>2002</td>\n",
              "      <td>Gable</td>\n",
              "      <td>CompShg</td>\n",
              "      <td>VinylSd</td>\n",
              "      <td>VinylSd</td>\n",
              "      <td>BrkFace</td>\n",
              "      <td>162.0</td>\n",
              "      <td>Gd</td>\n",
              "      <td>TA</td>\n",
              "      <td>PConc</td>\n",
              "      <td>Gd</td>\n",
              "      <td>TA</td>\n",
              "      <td>Mn</td>\n",
              "      <td>GLQ</td>\n",
              "      <td>486</td>\n",
              "      <td>Unf</td>\n",
              "      <td>0</td>\n",
              "      <td>434</td>\n",
              "      <td>920</td>\n",
              "      <td>GasA</td>\n",
              "      <td>Ex</td>\n",
              "      <td>Y</td>\n",
              "      <td>SBrkr</td>\n",
              "      <td>920</td>\n",
              "      <td>866</td>\n",
              "      <td>0</td>\n",
              "      <td>1786</td>\n",
              "      <td>1</td>\n",
              "      <td>0</td>\n",
              "      <td>2</td>\n",
              "      <td>1</td>\n",
              "      <td>3</td>\n",
              "      <td>1</td>\n",
              "      <td>Gd</td>\n",
              "      <td>6</td>\n",
              "      <td>Typ</td>\n",
              "      <td>1</td>\n",
              "      <td>TA</td>\n",
              "      <td>Attchd</td>\n",
              "      <td>2001.0</td>\n",
              "      <td>RFn</td>\n",
              "      <td>2</td>\n",
              "      <td>608</td>\n",
              "      <td>TA</td>\n",
              "      <td>TA</td>\n",
              "      <td>Y</td>\n",
              "      <td>0</td>\n",
              "      <td>42</td>\n",
              "      <td>0</td>\n",
              "      <td>0</td>\n",
              "      <td>0</td>\n",
              "      <td>0</td>\n",
              "      <td>NaN</td>\n",
              "      <td>NaN</td>\n",
              "      <td>NaN</td>\n",
              "      <td>0</td>\n",
              "      <td>9</td>\n",
              "      <td>2008</td>\n",
              "      <td>WD</td>\n",
              "      <td>Normal</td>\n",
              "      <td>12.317171</td>\n",
              "    </tr>\n",
              "    <tr>\n",
              "      <th>4</th>\n",
              "      <td>70</td>\n",
              "      <td>RL</td>\n",
              "      <td>60.0</td>\n",
              "      <td>9550</td>\n",
              "      <td>Pave</td>\n",
              "      <td>NaN</td>\n",
              "      <td>IR1</td>\n",
              "      <td>Lvl</td>\n",
              "      <td>AllPub</td>\n",
              "      <td>Corner</td>\n",
              "      <td>Gtl</td>\n",
              "      <td>Crawfor</td>\n",
              "      <td>Norm</td>\n",
              "      <td>Norm</td>\n",
              "      <td>1Fam</td>\n",
              "      <td>2Story</td>\n",
              "      <td>7</td>\n",
              "      <td>5</td>\n",
              "      <td>1915</td>\n",
              "      <td>1970</td>\n",
              "      <td>Gable</td>\n",
              "      <td>CompShg</td>\n",
              "      <td>Wd Sdng</td>\n",
              "      <td>Wd Shng</td>\n",
              "      <td>None</td>\n",
              "      <td>0.0</td>\n",
              "      <td>TA</td>\n",
              "      <td>TA</td>\n",
              "      <td>BrkTil</td>\n",
              "      <td>TA</td>\n",
              "      <td>Gd</td>\n",
              "      <td>No</td>\n",
              "      <td>ALQ</td>\n",
              "      <td>216</td>\n",
              "      <td>Unf</td>\n",
              "      <td>0</td>\n",
              "      <td>540</td>\n",
              "      <td>756</td>\n",
              "      <td>GasA</td>\n",
              "      <td>Gd</td>\n",
              "      <td>Y</td>\n",
              "      <td>SBrkr</td>\n",
              "      <td>961</td>\n",
              "      <td>756</td>\n",
              "      <td>0</td>\n",
              "      <td>1717</td>\n",
              "      <td>1</td>\n",
              "      <td>0</td>\n",
              "      <td>1</td>\n",
              "      <td>0</td>\n",
              "      <td>3</td>\n",
              "      <td>1</td>\n",
              "      <td>Gd</td>\n",
              "      <td>7</td>\n",
              "      <td>Typ</td>\n",
              "      <td>1</td>\n",
              "      <td>Gd</td>\n",
              "      <td>Detchd</td>\n",
              "      <td>1998.0</td>\n",
              "      <td>Unf</td>\n",
              "      <td>3</td>\n",
              "      <td>642</td>\n",
              "      <td>TA</td>\n",
              "      <td>TA</td>\n",
              "      <td>Y</td>\n",
              "      <td>0</td>\n",
              "      <td>35</td>\n",
              "      <td>272</td>\n",
              "      <td>0</td>\n",
              "      <td>0</td>\n",
              "      <td>0</td>\n",
              "      <td>NaN</td>\n",
              "      <td>NaN</td>\n",
              "      <td>NaN</td>\n",
              "      <td>0</td>\n",
              "      <td>2</td>\n",
              "      <td>2006</td>\n",
              "      <td>WD</td>\n",
              "      <td>Abnorml</td>\n",
              "      <td>11.849405</td>\n",
              "    </tr>\n",
              "    <tr>\n",
              "      <th>5</th>\n",
              "      <td>60</td>\n",
              "      <td>RL</td>\n",
              "      <td>84.0</td>\n",
              "      <td>14260</td>\n",
              "      <td>Pave</td>\n",
              "      <td>NaN</td>\n",
              "      <td>IR1</td>\n",
              "      <td>Lvl</td>\n",
              "      <td>AllPub</td>\n",
              "      <td>FR2</td>\n",
              "      <td>Gtl</td>\n",
              "      <td>NoRidge</td>\n",
              "      <td>Norm</td>\n",
              "      <td>Norm</td>\n",
              "      <td>1Fam</td>\n",
              "      <td>2Story</td>\n",
              "      <td>8</td>\n",
              "      <td>5</td>\n",
              "      <td>2000</td>\n",
              "      <td>2000</td>\n",
              "      <td>Gable</td>\n",
              "      <td>CompShg</td>\n",
              "      <td>VinylSd</td>\n",
              "      <td>VinylSd</td>\n",
              "      <td>BrkFace</td>\n",
              "      <td>350.0</td>\n",
              "      <td>Gd</td>\n",
              "      <td>TA</td>\n",
              "      <td>PConc</td>\n",
              "      <td>Gd</td>\n",
              "      <td>TA</td>\n",
              "      <td>Av</td>\n",
              "      <td>GLQ</td>\n",
              "      <td>655</td>\n",
              "      <td>Unf</td>\n",
              "      <td>0</td>\n",
              "      <td>490</td>\n",
              "      <td>1145</td>\n",
              "      <td>GasA</td>\n",
              "      <td>Ex</td>\n",
              "      <td>Y</td>\n",
              "      <td>SBrkr</td>\n",
              "      <td>1145</td>\n",
              "      <td>1053</td>\n",
              "      <td>0</td>\n",
              "      <td>2198</td>\n",
              "      <td>1</td>\n",
              "      <td>0</td>\n",
              "      <td>2</td>\n",
              "      <td>1</td>\n",
              "      <td>4</td>\n",
              "      <td>1</td>\n",
              "      <td>Gd</td>\n",
              "      <td>9</td>\n",
              "      <td>Typ</td>\n",
              "      <td>1</td>\n",
              "      <td>TA</td>\n",
              "      <td>Attchd</td>\n",
              "      <td>2000.0</td>\n",
              "      <td>RFn</td>\n",
              "      <td>3</td>\n",
              "      <td>836</td>\n",
              "      <td>TA</td>\n",
              "      <td>TA</td>\n",
              "      <td>Y</td>\n",
              "      <td>192</td>\n",
              "      <td>84</td>\n",
              "      <td>0</td>\n",
              "      <td>0</td>\n",
              "      <td>0</td>\n",
              "      <td>0</td>\n",
              "      <td>NaN</td>\n",
              "      <td>NaN</td>\n",
              "      <td>NaN</td>\n",
              "      <td>0</td>\n",
              "      <td>12</td>\n",
              "      <td>2008</td>\n",
              "      <td>WD</td>\n",
              "      <td>Normal</td>\n",
              "      <td>12.429220</td>\n",
              "    </tr>\n",
              "  </tbody>\n",
              "</table>\n",
              "</div>"
            ],
            "text/plain": [
              "    MSSubClass MSZoning  LotFrontage  ...  SaleType SaleCondition  SalePrice\n",
              "Id                                    ...                                   \n",
              "1           60       RL         65.0  ...        WD        Normal  12.247699\n",
              "2           20       RL         80.0  ...        WD        Normal  12.109016\n",
              "3           60       RL         68.0  ...        WD        Normal  12.317171\n",
              "4           70       RL         60.0  ...        WD       Abnorml  11.849405\n",
              "5           60       RL         84.0  ...        WD        Normal  12.429220\n",
              "\n",
              "[5 rows x 80 columns]"
            ]
          },
          "metadata": {
            "tags": []
          },
          "execution_count": 1578
        }
      ]
    },
    {
      "cell_type": "code",
      "metadata": {
        "id": "9iJEfQvb6gzc",
        "outputId": "03e566dd-bcf1-4a10-ef2a-15918faf89f9",
        "colab": {
          "base_uri": "https://localhost:8080/",
          "height": 34
        }
      },
      "source": [
        "len(df.index)"
      ],
      "execution_count": 1579,
      "outputs": [
        {
          "output_type": "execute_result",
          "data": {
            "text/plain": [
              "1460"
            ]
          },
          "metadata": {
            "tags": []
          },
          "execution_count": 1579
        }
      ]
    },
    {
      "cell_type": "code",
      "metadata": {
        "id": "r59hTRQv1vf4",
        "outputId": "0c12e099-a434-49ea-c940-723785bbc7fd",
        "colab": {
          "base_uri": "https://localhost:8080/",
          "height": 340
        }
      },
      "source": [
        "\n",
        "# getting the list of columns wich has  more than 1 null values\n",
        "\n",
        "sorted({k:i for k,i in df.isna().sum().items() if i>0 }.items(), key=lambda x: x[1], reverse=True)"
      ],
      "execution_count": 1580,
      "outputs": [
        {
          "output_type": "execute_result",
          "data": {
            "text/plain": [
              "[('PoolQC', 1453),\n",
              " ('MiscFeature', 1406),\n",
              " ('Alley', 1369),\n",
              " ('Fence', 1179),\n",
              " ('FireplaceQu', 690),\n",
              " ('LotFrontage', 259),\n",
              " ('GarageType', 81),\n",
              " ('GarageYrBlt', 81),\n",
              " ('GarageFinish', 81),\n",
              " ('GarageQual', 81),\n",
              " ('GarageCond', 81),\n",
              " ('BsmtExposure', 38),\n",
              " ('BsmtFinType2', 38),\n",
              " ('BsmtQual', 37),\n",
              " ('BsmtCond', 37),\n",
              " ('BsmtFinType1', 37),\n",
              " ('MasVnrType', 8),\n",
              " ('MasVnrArea', 8),\n",
              " ('Electrical', 1)]"
            ]
          },
          "metadata": {
            "tags": []
          },
          "execution_count": 1580
        }
      ]
    },
    {
      "cell_type": "code",
      "metadata": {
        "id": "8EMHWZM66dVE",
        "outputId": "21813070-c420-4141-a71c-9884ee0787c0",
        "colab": {
          "base_uri": "https://localhost:8080/",
          "height": 620
        }
      },
      "source": [
        "#Correlation map to see how features are correlated with SalePrice\n",
        "corrmat = df.corr()\n",
        "plt.subplots(figsize=(12,9))\n",
        "sns.heatmap(corrmat, vmax=0.9, square=True)"
      ],
      "execution_count": 1581,
      "outputs": [
        {
          "output_type": "execute_result",
          "data": {
            "text/plain": [
              "<matplotlib.axes._subplots.AxesSubplot at 0x7f9ea6ec6240>"
            ]
          },
          "metadata": {
            "tags": []
          },
          "execution_count": 1581
        },
        {
          "output_type": "display_data",
          "data": {
            "image/png": "[encoded data removed]",
            "text/plain": [
              "<Figure size 864x648 with 2 Axes>"
            ]
          },
          "metadata": {
            "tags": [],
            "needs_background": "light"
          }
        }
      ]
    },
    {
      "cell_type": "code",
      "metadata": {
        "id": "8xelbpZsE1Qe",
        "outputId": "f6d33cc3-c19b-4a33-d3f8-0be6212e32de",
        "colab": {
          "base_uri": "https://localhost:8080/",
          "height": 374
        }
      },
      "source": [
        "#correlation with SalePrice top 20 variables\n",
        "a=df.corr()['SalePrice']\n",
        "a.sort_values(ascending=False)[1:21]"
      ],
      "execution_count": 1582,
      "outputs": [
        {
          "output_type": "execute_result",
          "data": {
            "text/plain": [
              "OverallQual     0.817185\n",
              "GrLivArea       0.700927\n",
              "GarageCars      0.680625\n",
              "GarageArea      0.650888\n",
              "TotalBsmtSF     0.612134\n",
              "1stFlrSF        0.596981\n",
              "FullBath        0.594771\n",
              "YearBuilt       0.586570\n",
              "YearRemodAdd    0.565608\n",
              "GarageYrBlt     0.541073\n",
              "TotRmsAbvGrd    0.534422\n",
              "Fireplaces      0.489450\n",
              "MasVnrArea      0.430809\n",
              "BsmtFinSF1      0.372023\n",
              "LotFrontage     0.355879\n",
              "WoodDeckSF      0.334135\n",
              "OpenPorchSF     0.321053\n",
              "2ndFlrSF        0.319300\n",
              "HalfBath        0.313982\n",
              "LotArea         0.257320\n",
              "Name: SalePrice, dtype: float64"
            ]
          },
          "metadata": {
            "tags": []
          },
          "execution_count": 1582
        }
      ]
    },
    {
      "cell_type": "code",
      "metadata": {
        "id": "piOipGnERoXg",
        "outputId": "0f627410-20fa-4a6e-dd71-4160f8354b62",
        "colab": {
          "base_uri": "https://localhost:8080/",
          "height": 238
        }
      },
      "source": [
        "# a quick view on the top positively and negatively co-related \n",
        "\n",
        "print (a.sort_values(ascending=False)[:5], '\\n')\n",
        "print (a.sort_values(ascending=False)[-5:])"
      ],
      "execution_count": 1583,
      "outputs": [
        {
          "output_type": "stream",
          "text": [
            "SalePrice      1.000000\n",
            "OverallQual    0.817185\n",
            "GrLivArea      0.700927\n",
            "GarageCars     0.680625\n",
            "GarageArea     0.650888\n",
            "Name: SalePrice, dtype: float64 \n",
            "\n",
            "YrSold          -0.037263\n",
            "LowQualFinSF    -0.037963\n",
            "MSSubClass      -0.073959\n",
            "KitchenAbvGr    -0.147548\n",
            "EnclosedPorch   -0.149050\n",
            "Name: SalePrice, dtype: float64\n"
          ],
          "name": "stdout"
        }
      ]
    },
    {
      "cell_type": "code",
      "metadata": {
        "id": "8kZjRL_uSMLA",
        "outputId": "dcd1c30d-f21a-4a34-8668-789b74489233",
        "colab": {
          "base_uri": "https://localhost:8080/",
          "height": 279
        }
      },
      "source": [
        "quality_pivot = df.pivot_table(index='OverallQual',\n",
        "                  values='SalePrice', aggfunc=np.median)\n",
        "quality_pivot.plot(kind='line', color='blue')\n",
        "plt.xlabel('Overall Quality')\n",
        "plt.ylabel('Median Sale Price')\n",
        "plt.xticks(rotation=0)\n",
        "plt.show()"
      ],
      "execution_count": 1584,
      "outputs": [
        {
          "output_type": "display_data",
          "data": {
            "image/png": "[encoded data removed]",
            "text/plain": [
              "<Figure size 432x288 with 1 Axes>"
            ]
          },
          "metadata": {
            "tags": [],
            "needs_background": "light"
          }
        }
      ]
    },
    {
      "cell_type": "code",
      "metadata": {
        "id": "m13yzDnuSri7",
        "outputId": "eb233b1f-a213-459d-98b6-9578ce079097",
        "colab": {
          "base_uri": "https://localhost:8080/",
          "height": 279
        }
      },
      "source": [
        "plt.scatter(x=df['GrLivArea'], y=df.SalePrice)\n",
        "plt.ylabel('Sale Price')\n",
        "plt.xlabel('Above grade (ground) living area square feet')\n",
        "plt.show()"
      ],
      "execution_count": 1585,
      "outputs": [
        {
          "output_type": "display_data",
          "data": {
            "image/png": "[encoded data removed]",
            "text/plain": [
              "<Figure size 432x288 with 1 Axes>"
            ]
          },
          "metadata": {
            "tags": [],
            "needs_background": "light"
          }
        }
      ]
    },
    {
      "cell_type": "markdown",
      "metadata": {
        "id": "mrHJoxq2PfXT"
      },
      "source": [
        "Before removing any null values we will refer to https://cdn.upgrad.com/UpGrad/temp/87f67e28-c47e-4725-ae3c-111142c7eaba/data_description.txt to determine which NAs are actually nulls"
      ]
    },
    {
      "cell_type": "markdown",
      "metadata": {
        "id": "NEsgAcxI6xNZ"
      },
      "source": [
        "We impute them by proceeding sequentially through features with missing values\n",
        "\n",
        "PoolQC : data description says NA means \"No Pool\". That make sense, given the huge ratio of missing value (+99%) and majority of houses have no Pool at all in general. Likewise there are many other columns as per the metadata where NA does not mean the data is actually missing instead it implies other thing."
      ]
    },
    {
      "cell_type": "code",
      "metadata": {
        "id": "e8yl9dqx6pkZ"
      },
      "source": [
        "# Imputing missing values as nones\n",
        "na_not_nulls=['Alley','BsmtQual','BsmtCond','BsmtExposure','BsmtFinType1','BsmtFinType2','KitchenQual','GarageType','GarageFinish','GarageQual','GarageCond','PoolQC','Fence','MiscFeature','FireplaceQu']\n",
        "\n",
        "# OrdinalEncoder will be used\n",
        "ordinal_categorical=['LandSlope','OverallQual','OverallCond','BsmtQual','BsmtCond','BsmtFinType1','BsmtExposure','BsmtFinType2','HeatingQC','KitchenQual','Functional','FireplaceQu','GarageFinish',\n",
        "                     'GarageQual','GarageCond','PoolQC','Fence','LotShape','LandContour','ExterQual','ExterCond','PavedDrive','MiscVal','Utilities']\n",
        "\n",
        "# Label encode will be used with n-1 classes\n",
        "nominal_categorical=['MSSubClass','MSZoning','LotConfig','Neighborhood','Condition1','Condition2','BldgType','HouseStyle','RoofStyle','RoofMatl','Exterior1st','Exterior2nd','MasVnrType',\n",
        "                     'Foundation','Heating','Electrical','GarageType','MiscFeature','SaleType','SaleCondition','Alley']\n",
        "\n",
        "# OneHotEncoder will be used for binary variables\n",
        "binary_categorical=['Street','CentralAir']\n",
        "\n",
        "# Numeric variables may be scaled further\n",
        "numeric_cols=['LotFrontage','LotArea','MasVnrArea','BsmtFinSF1','BsmtFinSF2','BsmtUnfSF','TotalBsmtSF','1stFlrSF','2ndFlrSF','LowQualFinSF','GrLivArea','BsmtFullBath','BsmtHalfBath','FullBath','HalfBath',\n",
        "              'TotRmsAbvGrd','Fireplaces','GarageCars','GarageArea','WoodDeckSF','OpenPorchSF','EnclosedPorch','3SsnPorch','ScreenPorch','PoolArea']\n",
        "              #Data dictionary has 'Bedroom','Kitchen' but train data does not contain that"
      ],
      "execution_count": 1586,
      "outputs": []
    },
    {
      "cell_type": "code",
      "metadata": {
        "id": "ONfuwu5BWmRi",
        "outputId": "9b41afc8-8eec-4e31-eebc-643d55a701fb",
        "colab": {
          "base_uri": "https://localhost:8080/",
          "height": 102
        }
      },
      "source": [
        "# lets impute missing values where NA does not mean data is missing.\n",
        "\n",
        "for col in na_not_nulls:\n",
        "  df[col]=df[col].fillna('None')\n",
        "\n",
        "sorted({k:i for k,i in df.isna().sum().items() if i>0 }.items(), key=lambda x: x[1], reverse=True)"
      ],
      "execution_count": 1587,
      "outputs": [
        {
          "output_type": "execute_result",
          "data": {
            "text/plain": [
              "[('LotFrontage', 259),\n",
              " ('GarageYrBlt', 81),\n",
              " ('MasVnrType', 8),\n",
              " ('MasVnrArea', 8),\n",
              " ('Electrical', 1)]"
            ]
          },
          "metadata": {
            "tags": []
          },
          "execution_count": 1587
        }
      ]
    },
    {
      "cell_type": "code",
      "metadata": {
        "id": "OgIp9l0Ae2Ex",
        "outputId": "02952dac-ff74-4bc6-e60b-9f11ae484e31",
        "colab": {
          "base_uri": "https://localhost:8080/",
          "height": 170
        }
      },
      "source": [
        "df.LotFrontage.describe()"
      ],
      "execution_count": 1588,
      "outputs": [
        {
          "output_type": "execute_result",
          "data": {
            "text/plain": [
              "count    1201.000000\n",
              "mean       70.049958\n",
              "std        24.284752\n",
              "min        21.000000\n",
              "25%        59.000000\n",
              "50%        69.000000\n",
              "75%        80.000000\n",
              "max       313.000000\n",
              "Name: LotFrontage, dtype: float64"
            ]
          },
          "metadata": {
            "tags": []
          },
          "execution_count": 1588
        }
      ]
    },
    {
      "cell_type": "markdown",
      "metadata": {
        "id": "nLqKZq6qKD8b"
      },
      "source": [
        "There is a huge difference between 75th percentile and max. It is becuase there are outliers"
      ]
    },
    {
      "cell_type": "code",
      "metadata": {
        "id": "wtu4pD0XKUbH",
        "outputId": "1c33b61c-d15a-4776-e2cc-3eb6b1013c48",
        "colab": {
          "base_uri": "https://localhost:8080/",
          "height": 279
        }
      },
      "source": [
        "df=df[(df.LotFrontage<=df.LotFrontage.quantile(q=0.93))]\n",
        "sns.boxplot(data=df,x='LotFrontage')\n",
        "plt.show()"
      ],
      "execution_count": 1589,
      "outputs": [
        {
          "output_type": "display_data",
          "data": {
            "image/png": "[encoded data removed]",
            "text/plain": [
              "<Figure size 432x288 with 1 Axes>"
            ]
          },
          "metadata": {
            "tags": [],
            "needs_background": "light"
          }
        }
      ]
    },
    {
      "cell_type": "code",
      "metadata": {
        "id": "poY_pV_xLqJE",
        "outputId": "b368414a-e6bf-48c8-f50e-fc5b67c72c25",
        "colab": {
          "base_uri": "https://localhost:8080/",
          "height": 330
        }
      },
      "source": [
        "sns.histplot(data=df,x=df.LotFrontage)\n",
        "plt.show()\n",
        "\n",
        "# as it is normally distributed mean can safely be used to impute missing values\n",
        "df.LotFrontage=df.LotFrontage.fillna(df.LotFrontage.mean())\n",
        "df.LotFrontage.mean()\n",
        "\n",
        "print('\\n remaining variables with missing values')\n",
        "print(sorted({k:i for k,i in df.isna().sum().items() if i>0 }.items(), key=lambda x: x[1], reverse=True))"
      ],
      "execution_count": 1590,
      "outputs": [
        {
          "output_type": "display_data",
          "data": {
            "image/png": "[encoded data removed]",
            "text/plain": [
              "<Figure size 432x288 with 1 Axes>"
            ]
          },
          "metadata": {
            "tags": [],
            "needs_background": "light"
          }
        },
        {
          "output_type": "stream",
          "text": [
            "\n",
            " remaining variables with missing values\n",
            "[('GarageYrBlt', 71), ('MasVnrType', 5), ('MasVnrArea', 5), ('Electrical', 1)]\n"
          ],
          "name": "stdout"
        }
      ]
    },
    {
      "cell_type": "markdown",
      "metadata": {
        "id": "fP8sNIIgPrj3"
      },
      "source": [
        "In the remaining columns the number of missing values is not significant hence it can be droped off"
      ]
    },
    {
      "cell_type": "code",
      "metadata": {
        "id": "keQx-jXtLL4f",
        "outputId": "c67143bb-d2f9-41b1-e6e3-f502cc6a4b5b",
        "colab": {
          "base_uri": "https://localhost:8080/",
          "height": 68
        }
      },
      "source": [
        "print(df.shape)\n",
        "df=df.dropna()\n",
        "print(sorted({k:i for k,i in df.isna().sum().items() if i>0 }.items(), key=lambda x: x[1], reverse=True))\n",
        "print(df.shape)"
      ],
      "execution_count": 1591,
      "outputs": [
        {
          "output_type": "stream",
          "text": [
            "(1117, 80)\n",
            "[]\n",
            "(1040, 80)\n"
          ],
          "name": "stdout"
        }
      ]
    },
    {
      "cell_type": "code",
      "metadata": {
        "id": "2OVoSCEKPXQL",
        "outputId": "73d55b3a-fc1e-4959-ea0b-4cdbf2aef207",
        "colab": {
          "base_uri": "https://localhost:8080/",
          "height": 34
        }
      },
      "source": [
        "# checking whether some rows have more than 6 missing values\n",
        "# here threshold  is chosen arbitarily but it make sense as this type of records would result in error\n",
        "print(len(df[df.isnull().sum(axis=1) > 5].index))\n",
        "df=df[df.isnull().sum(axis=1) <= 5]"
      ],
      "execution_count": 1592,
      "outputs": [
        {
          "output_type": "stream",
          "text": [
            "0\n"
          ],
          "name": "stdout"
        }
      ]
    },
    {
      "cell_type": "markdown",
      "metadata": {
        "id": "8PO42KFJ--K_"
      },
      "source": [
        "Here the missing values are handled"
      ]
    },
    {
      "cell_type": "code",
      "metadata": {
        "id": "a5p2_oCbVoJw",
        "outputId": "75f55212-e70d-4a49-cbfb-d3f6ffc78f67",
        "colab": {
          "base_uri": "https://localhost:8080/",
          "height": 255
        }
      },
      "source": [
        "df[numeric_cols].head()"
      ],
      "execution_count": 1593,
      "outputs": [
        {
          "output_type": "execute_result",
          "data": {
            "text/html": [
              "<div>\n",
              "<style scoped>\n",
              "    .dataframe tbody tr th:only-of-type {\n",
              "        vertical-align: middle;\n",
              "    }\n",
              "\n",
              "    .dataframe tbody tr th {\n",
              "        vertical-align: top;\n",
              "    }\n",
              "\n",
              "    .dataframe thead th {\n",
              "        text-align: right;\n",
              "    }\n",
              "</style>\n",
              "<table border=\"1\" class=\"dataframe\">\n",
              "  <thead>\n",
              "    <tr style=\"text-align: right;\">\n",
              "      <th></th>\n",
              "      <th>LotFrontage</th>\n",
              "      <th>LotArea</th>\n",
              "      <th>MasVnrArea</th>\n",
              "      <th>BsmtFinSF1</th>\n",
              "      <th>BsmtFinSF2</th>\n",
              "      <th>BsmtUnfSF</th>\n",
              "      <th>TotalBsmtSF</th>\n",
              "      <th>1stFlrSF</th>\n",
              "      <th>2ndFlrSF</th>\n",
              "      <th>LowQualFinSF</th>\n",
              "      <th>GrLivArea</th>\n",
              "      <th>BsmtFullBath</th>\n",
              "      <th>BsmtHalfBath</th>\n",
              "      <th>FullBath</th>\n",
              "      <th>HalfBath</th>\n",
              "      <th>TotRmsAbvGrd</th>\n",
              "      <th>Fireplaces</th>\n",
              "      <th>GarageCars</th>\n",
              "      <th>GarageArea</th>\n",
              "      <th>WoodDeckSF</th>\n",
              "      <th>OpenPorchSF</th>\n",
              "      <th>EnclosedPorch</th>\n",
              "      <th>3SsnPorch</th>\n",
              "      <th>ScreenPorch</th>\n",
              "      <th>PoolArea</th>\n",
              "    </tr>\n",
              "    <tr>\n",
              "      <th>Id</th>\n",
              "      <th></th>\n",
              "      <th></th>\n",
              "      <th></th>\n",
              "      <th></th>\n",
              "      <th></th>\n",
              "      <th></th>\n",
              "      <th></th>\n",
              "      <th></th>\n",
              "      <th></th>\n",
              "      <th></th>\n",
              "      <th></th>\n",
              "      <th></th>\n",
              "      <th></th>\n",
              "      <th></th>\n",
              "      <th></th>\n",
              "      <th></th>\n",
              "      <th></th>\n",
              "      <th></th>\n",
              "      <th></th>\n",
              "      <th></th>\n",
              "      <th></th>\n",
              "      <th></th>\n",
              "      <th></th>\n",
              "      <th></th>\n",
              "      <th></th>\n",
              "    </tr>\n",
              "  </thead>\n",
              "  <tbody>\n",
              "    <tr>\n",
              "      <th>1</th>\n",
              "      <td>65.0</td>\n",
              "      <td>8450</td>\n",
              "      <td>196.0</td>\n",
              "      <td>706</td>\n",
              "      <td>0</td>\n",
              "      <td>150</td>\n",
              "      <td>856</td>\n",
              "      <td>856</td>\n",
              "      <td>854</td>\n",
              "      <td>0</td>\n",
              "      <td>1710</td>\n",
              "      <td>1</td>\n",
              "      <td>0</td>\n",
              "      <td>2</td>\n",
              "      <td>1</td>\n",
              "      <td>8</td>\n",
              "      <td>0</td>\n",
              "      <td>2</td>\n",
              "      <td>548</td>\n",
              "      <td>0</td>\n",
              "      <td>61</td>\n",
              "      <td>0</td>\n",
              "      <td>0</td>\n",
              "      <td>0</td>\n",
              "      <td>0</td>\n",
              "    </tr>\n",
              "    <tr>\n",
              "      <th>2</th>\n",
              "      <td>80.0</td>\n",
              "      <td>9600</td>\n",
              "      <td>0.0</td>\n",
              "      <td>978</td>\n",
              "      <td>0</td>\n",
              "      <td>284</td>\n",
              "      <td>1262</td>\n",
              "      <td>1262</td>\n",
              "      <td>0</td>\n",
              "      <td>0</td>\n",
              "      <td>1262</td>\n",
              "      <td>0</td>\n",
              "      <td>1</td>\n",
              "      <td>2</td>\n",
              "      <td>0</td>\n",
              "      <td>6</td>\n",
              "      <td>1</td>\n",
              "      <td>2</td>\n",
              "      <td>460</td>\n",
              "      <td>298</td>\n",
              "      <td>0</td>\n",
              "      <td>0</td>\n",
              "      <td>0</td>\n",
              "      <td>0</td>\n",
              "      <td>0</td>\n",
              "    </tr>\n",
              "    <tr>\n",
              "      <th>3</th>\n",
              "      <td>68.0</td>\n",
              "      <td>11250</td>\n",
              "      <td>162.0</td>\n",
              "      <td>486</td>\n",
              "      <td>0</td>\n",
              "      <td>434</td>\n",
              "      <td>920</td>\n",
              "      <td>920</td>\n",
              "      <td>866</td>\n",
              "      <td>0</td>\n",
              "      <td>1786</td>\n",
              "      <td>1</td>\n",
              "      <td>0</td>\n",
              "      <td>2</td>\n",
              "      <td>1</td>\n",
              "      <td>6</td>\n",
              "      <td>1</td>\n",
              "      <td>2</td>\n",
              "      <td>608</td>\n",
              "      <td>0</td>\n",
              "      <td>42</td>\n",
              "      <td>0</td>\n",
              "      <td>0</td>\n",
              "      <td>0</td>\n",
              "      <td>0</td>\n",
              "    </tr>\n",
              "    <tr>\n",
              "      <th>4</th>\n",
              "      <td>60.0</td>\n",
              "      <td>9550</td>\n",
              "      <td>0.0</td>\n",
              "      <td>216</td>\n",
              "      <td>0</td>\n",
              "      <td>540</td>\n",
              "      <td>756</td>\n",
              "      <td>961</td>\n",
              "      <td>756</td>\n",
              "      <td>0</td>\n",
              "      <td>1717</td>\n",
              "      <td>1</td>\n",
              "      <td>0</td>\n",
              "      <td>1</td>\n",
              "      <td>0</td>\n",
              "      <td>7</td>\n",
              "      <td>1</td>\n",
              "      <td>3</td>\n",
              "      <td>642</td>\n",
              "      <td>0</td>\n",
              "      <td>35</td>\n",
              "      <td>272</td>\n",
              "      <td>0</td>\n",
              "      <td>0</td>\n",
              "      <td>0</td>\n",
              "    </tr>\n",
              "    <tr>\n",
              "      <th>5</th>\n",
              "      <td>84.0</td>\n",
              "      <td>14260</td>\n",
              "      <td>350.0</td>\n",
              "      <td>655</td>\n",
              "      <td>0</td>\n",
              "      <td>490</td>\n",
              "      <td>1145</td>\n",
              "      <td>1145</td>\n",
              "      <td>1053</td>\n",
              "      <td>0</td>\n",
              "      <td>2198</td>\n",
              "      <td>1</td>\n",
              "      <td>0</td>\n",
              "      <td>2</td>\n",
              "      <td>1</td>\n",
              "      <td>9</td>\n",
              "      <td>1</td>\n",
              "      <td>3</td>\n",
              "      <td>836</td>\n",
              "      <td>192</td>\n",
              "      <td>84</td>\n",
              "      <td>0</td>\n",
              "      <td>0</td>\n",
              "      <td>0</td>\n",
              "      <td>0</td>\n",
              "    </tr>\n",
              "  </tbody>\n",
              "</table>\n",
              "</div>"
            ],
            "text/plain": [
              "    LotFrontage  LotArea  MasVnrArea  ...  3SsnPorch  ScreenPorch  PoolArea\n",
              "Id                                    ...                                  \n",
              "1          65.0     8450       196.0  ...          0            0         0\n",
              "2          80.0     9600         0.0  ...          0            0         0\n",
              "3          68.0    11250       162.0  ...          0            0         0\n",
              "4          60.0     9550         0.0  ...          0            0         0\n",
              "5          84.0    14260       350.0  ...          0            0         0\n",
              "\n",
              "[5 rows x 25 columns]"
            ]
          },
          "metadata": {
            "tags": []
          },
          "execution_count": 1593
        }
      ]
    },
    {
      "cell_type": "markdown",
      "metadata": {
        "id": "NmmAS0MqRQba"
      },
      "source": [
        "# Feature engineering"
      ]
    },
    {
      "cell_type": "code",
      "metadata": {
        "id": "VEmg7ZxBU8KJ",
        "outputId": "8bd71a54-a65d-4756-ea73-6774e5392549",
        "colab": {
          "base_uri": "https://localhost:8080/",
          "height": 255
        }
      },
      "source": [
        "# let have a look through the numeric columns\n",
        "\n",
        "df[numeric_cols].head()"
      ],
      "execution_count": 1594,
      "outputs": [
        {
          "output_type": "execute_result",
          "data": {
            "text/html": [
              "<div>\n",
              "<style scoped>\n",
              "    .dataframe tbody tr th:only-of-type {\n",
              "        vertical-align: middle;\n",
              "    }\n",
              "\n",
              "    .dataframe tbody tr th {\n",
              "        vertical-align: top;\n",
              "    }\n",
              "\n",
              "    .dataframe thead th {\n",
              "        text-align: right;\n",
              "    }\n",
              "</style>\n",
              "<table border=\"1\" class=\"dataframe\">\n",
              "  <thead>\n",
              "    <tr style=\"text-align: right;\">\n",
              "      <th></th>\n",
              "      <th>LotFrontage</th>\n",
              "      <th>LotArea</th>\n",
              "      <th>MasVnrArea</th>\n",
              "      <th>BsmtFinSF1</th>\n",
              "      <th>BsmtFinSF2</th>\n",
              "      <th>BsmtUnfSF</th>\n",
              "      <th>TotalBsmtSF</th>\n",
              "      <th>1stFlrSF</th>\n",
              "      <th>2ndFlrSF</th>\n",
              "      <th>LowQualFinSF</th>\n",
              "      <th>GrLivArea</th>\n",
              "      <th>BsmtFullBath</th>\n",
              "      <th>BsmtHalfBath</th>\n",
              "      <th>FullBath</th>\n",
              "      <th>HalfBath</th>\n",
              "      <th>TotRmsAbvGrd</th>\n",
              "      <th>Fireplaces</th>\n",
              "      <th>GarageCars</th>\n",
              "      <th>GarageArea</th>\n",
              "      <th>WoodDeckSF</th>\n",
              "      <th>OpenPorchSF</th>\n",
              "      <th>EnclosedPorch</th>\n",
              "      <th>3SsnPorch</th>\n",
              "      <th>ScreenPorch</th>\n",
              "      <th>PoolArea</th>\n",
              "    </tr>\n",
              "    <tr>\n",
              "      <th>Id</th>\n",
              "      <th></th>\n",
              "      <th></th>\n",
              "      <th></th>\n",
              "      <th></th>\n",
              "      <th></th>\n",
              "      <th></th>\n",
              "      <th></th>\n",
              "      <th></th>\n",
              "      <th></th>\n",
              "      <th></th>\n",
              "      <th></th>\n",
              "      <th></th>\n",
              "      <th></th>\n",
              "      <th></th>\n",
              "      <th></th>\n",
              "      <th></th>\n",
              "      <th></th>\n",
              "      <th></th>\n",
              "      <th></th>\n",
              "      <th></th>\n",
              "      <th></th>\n",
              "      <th></th>\n",
              "      <th></th>\n",
              "      <th></th>\n",
              "      <th></th>\n",
              "    </tr>\n",
              "  </thead>\n",
              "  <tbody>\n",
              "    <tr>\n",
              "      <th>1</th>\n",
              "      <td>65.0</td>\n",
              "      <td>8450</td>\n",
              "      <td>196.0</td>\n",
              "      <td>706</td>\n",
              "      <td>0</td>\n",
              "      <td>150</td>\n",
              "      <td>856</td>\n",
              "      <td>856</td>\n",
              "      <td>854</td>\n",
              "      <td>0</td>\n",
              "      <td>1710</td>\n",
              "      <td>1</td>\n",
              "      <td>0</td>\n",
              "      <td>2</td>\n",
              "      <td>1</td>\n",
              "      <td>8</td>\n",
              "      <td>0</td>\n",
              "      <td>2</td>\n",
              "      <td>548</td>\n",
              "      <td>0</td>\n",
              "      <td>61</td>\n",
              "      <td>0</td>\n",
              "      <td>0</td>\n",
              "      <td>0</td>\n",
              "      <td>0</td>\n",
              "    </tr>\n",
              "    <tr>\n",
              "      <th>2</th>\n",
              "      <td>80.0</td>\n",
              "      <td>9600</td>\n",
              "      <td>0.0</td>\n",
              "      <td>978</td>\n",
              "      <td>0</td>\n",
              "      <td>284</td>\n",
              "      <td>1262</td>\n",
              "      <td>1262</td>\n",
              "      <td>0</td>\n",
              "      <td>0</td>\n",
              "      <td>1262</td>\n",
              "      <td>0</td>\n",
              "      <td>1</td>\n",
              "      <td>2</td>\n",
              "      <td>0</td>\n",
              "      <td>6</td>\n",
              "      <td>1</td>\n",
              "      <td>2</td>\n",
              "      <td>460</td>\n",
              "      <td>298</td>\n",
              "      <td>0</td>\n",
              "      <td>0</td>\n",
              "      <td>0</td>\n",
              "      <td>0</td>\n",
              "      <td>0</td>\n",
              "    </tr>\n",
              "    <tr>\n",
              "      <th>3</th>\n",
              "      <td>68.0</td>\n",
              "      <td>11250</td>\n",
              "      <td>162.0</td>\n",
              "      <td>486</td>\n",
              "      <td>0</td>\n",
              "      <td>434</td>\n",
              "      <td>920</td>\n",
              "      <td>920</td>\n",
              "      <td>866</td>\n",
              "      <td>0</td>\n",
              "      <td>1786</td>\n",
              "      <td>1</td>\n",
              "      <td>0</td>\n",
              "      <td>2</td>\n",
              "      <td>1</td>\n",
              "      <td>6</td>\n",
              "      <td>1</td>\n",
              "      <td>2</td>\n",
              "      <td>608</td>\n",
              "      <td>0</td>\n",
              "      <td>42</td>\n",
              "      <td>0</td>\n",
              "      <td>0</td>\n",
              "      <td>0</td>\n",
              "      <td>0</td>\n",
              "    </tr>\n",
              "    <tr>\n",
              "      <th>4</th>\n",
              "      <td>60.0</td>\n",
              "      <td>9550</td>\n",
              "      <td>0.0</td>\n",
              "      <td>216</td>\n",
              "      <td>0</td>\n",
              "      <td>540</td>\n",
              "      <td>756</td>\n",
              "      <td>961</td>\n",
              "      <td>756</td>\n",
              "      <td>0</td>\n",
              "      <td>1717</td>\n",
              "      <td>1</td>\n",
              "      <td>0</td>\n",
              "      <td>1</td>\n",
              "      <td>0</td>\n",
              "      <td>7</td>\n",
              "      <td>1</td>\n",
              "      <td>3</td>\n",
              "      <td>642</td>\n",
              "      <td>0</td>\n",
              "      <td>35</td>\n",
              "      <td>272</td>\n",
              "      <td>0</td>\n",
              "      <td>0</td>\n",
              "      <td>0</td>\n",
              "    </tr>\n",
              "    <tr>\n",
              "      <th>5</th>\n",
              "      <td>84.0</td>\n",
              "      <td>14260</td>\n",
              "      <td>350.0</td>\n",
              "      <td>655</td>\n",
              "      <td>0</td>\n",
              "      <td>490</td>\n",
              "      <td>1145</td>\n",
              "      <td>1145</td>\n",
              "      <td>1053</td>\n",
              "      <td>0</td>\n",
              "      <td>2198</td>\n",
              "      <td>1</td>\n",
              "      <td>0</td>\n",
              "      <td>2</td>\n",
              "      <td>1</td>\n",
              "      <td>9</td>\n",
              "      <td>1</td>\n",
              "      <td>3</td>\n",
              "      <td>836</td>\n",
              "      <td>192</td>\n",
              "      <td>84</td>\n",
              "      <td>0</td>\n",
              "      <td>0</td>\n",
              "      <td>0</td>\n",
              "      <td>0</td>\n",
              "    </tr>\n",
              "  </tbody>\n",
              "</table>\n",
              "</div>"
            ],
            "text/plain": [
              "    LotFrontage  LotArea  MasVnrArea  ...  3SsnPorch  ScreenPorch  PoolArea\n",
              "Id                                    ...                                  \n",
              "1          65.0     8450       196.0  ...          0            0         0\n",
              "2          80.0     9600         0.0  ...          0            0         0\n",
              "3          68.0    11250       162.0  ...          0            0         0\n",
              "4          60.0     9550         0.0  ...          0            0         0\n",
              "5          84.0    14260       350.0  ...          0            0         0\n",
              "\n",
              "[5 rows x 25 columns]"
            ]
          },
          "metadata": {
            "tags": []
          },
          "execution_count": 1594
        }
      ]
    },
    {
      "cell_type": "markdown",
      "metadata": {
        "id": "coWa1dSdZ4NW"
      },
      "source": [
        "After looking at the numeric columns somthings are very clear <br>\n",
        "\n",
        "\n",
        "> BsmtFinSF1 + BsmtFinSF2 + BsmtUnfSF = TotalBsmtSF <br>\n",
        "> 1stFlrSF + 2ndFlrSF + LowQualFinSF = GrLivArea\n",
        "\n"
      ]
    },
    {
      "cell_type": "code",
      "metadata": {
        "id": "CslEkf5tWkvk",
        "outputId": "1101bdc5-170f-43ef-b3f8-8464cdc57386",
        "colab": {
          "base_uri": "https://localhost:8080/",
          "height": 348
        }
      },
      "source": [
        "# understand the proch area with the salesprice\n",
        "sns.heatmap(data= df[['OpenPorchSF','EnclosedPorch',\t'3SsnPorch',\t'ScreenPorch' ,'SalePrice']].corr(),annot=True)"
      ],
      "execution_count": 1595,
      "outputs": [
        {
          "output_type": "execute_result",
          "data": {
            "text/plain": [
              "<matplotlib.axes._subplots.AxesSubplot at 0x7f9ea64c4160>"
            ]
          },
          "metadata": {
            "tags": []
          },
          "execution_count": 1595
        },
        {
          "output_type": "display_data",
          "data": {
            "image/png": "[encoded data removed]",
            "text/plain": [
              "<Figure size 432x288 with 2 Axes>"
            ]
          },
          "metadata": {
            "tags": [],
            "needs_background": "light"
          }
        }
      ]
    },
    {
      "cell_type": "markdown",
      "metadata": {
        "id": "nNVwimE9d8cn"
      },
      "source": [
        "Variables '3SsnPorch' and\t'ScreenPorch' have low co relation with the target variable."
      ]
    },
    {
      "cell_type": "code",
      "metadata": {
        "id": "5yMAXHa0eWyc",
        "outputId": "01891806-2688-4a73-cc2a-78bedea4379c",
        "colab": {
          "base_uri": "https://localhost:8080/",
          "height": 391
        }
      },
      "source": [
        "\n",
        "\n",
        "\n",
        "#performing all trandformation on both x and y seperately\n",
        "\n",
        "df['TtlPorchArea'] = df.OpenPorchSF + df.EnclosedPorch + df['3SsnPorch'] + df.ScreenPorch \n",
        "\n",
        "df['TtlBath'] = df.FullBath + 0.5*df.HalfBath + df.BsmtFullBath + 0.5*df.BsmtHalfBath\n",
        "\n",
        "\n",
        "\n",
        "\n",
        "df['Age'] = df['YrSold'] - df['YearBuilt']\n",
        "df['Remod_Age'] = abs(df['YrSold'] - df['YearRemodAdd'])\n",
        "\n",
        "\n",
        "\n",
        "# columns that has low co relation or are multicolinear can be removed safely. We will keep amending the list further\n",
        "\n",
        "drop_cols=['OpenPorchSF','EnclosedPorch','3SsnPorch','ScreenPorch','BsmtFinSF1','BsmtFinSF2','BsmtUnfSF','1stFlrSF','2ndFlrSF','LowQualFinSF','FullBath','HalfBath','BsmtFullBath',\n",
        "           'BsmtHalfBath','YrSold','YearBuilt','YearRemodAdd']\n",
        "\n",
        "# newly added features\n",
        "numeric_cols=numeric_cols+['TtlPorchArea','TtlBath','Age','Remod_Age']\n",
        "\n",
        "\n",
        "\n",
        "\n",
        "\n",
        "df[list(set(numeric_cols)-set(drop_cols))].info()"
      ],
      "execution_count": 1596,
      "outputs": [
        {
          "output_type": "stream",
          "text": [
            "<class 'pandas.core.frame.DataFrame'>\n",
            "Int64Index: 1040 entries, 1 to 1460\n",
            "Data columns (total 15 columns):\n",
            " #   Column        Non-Null Count  Dtype  \n",
            "---  ------        --------------  -----  \n",
            " 0   TotRmsAbvGrd  1040 non-null   int64  \n",
            " 1   GarageArea    1040 non-null   int64  \n",
            " 2   Age           1040 non-null   int64  \n",
            " 3   MasVnrArea    1040 non-null   float64\n",
            " 4   TtlBath       1040 non-null   float64\n",
            " 5   LotArea       1040 non-null   int64  \n",
            " 6   TtlPorchArea  1040 non-null   int64  \n",
            " 7   LotFrontage   1040 non-null   float64\n",
            " 8   TotalBsmtSF   1040 non-null   int64  \n",
            " 9   PoolArea      1040 non-null   int64  \n",
            " 10  WoodDeckSF    1040 non-null   int64  \n",
            " 11  GrLivArea     1040 non-null   int64  \n",
            " 12  Remod_Age     1040 non-null   int64  \n",
            " 13  GarageCars    1040 non-null   int64  \n",
            " 14  Fireplaces    1040 non-null   int64  \n",
            "dtypes: float64(3), int64(12)\n",
            "memory usage: 130.0 KB\n"
          ],
          "name": "stdout"
        }
      ]
    },
    {
      "cell_type": "code",
      "metadata": {
        "id": "aGF7YgCgejDI",
        "outputId": "c50042f4-4004-47ef-dadc-f53e9f7a44ae",
        "colab": {
          "base_uri": "https://localhost:8080/",
          "height": 272
        }
      },
      "source": [
        "list(set(numeric_cols)-set(drop_cols))"
      ],
      "execution_count": 1597,
      "outputs": [
        {
          "output_type": "execute_result",
          "data": {
            "text/plain": [
              "['TotRmsAbvGrd',\n",
              " 'GarageArea',\n",
              " 'Age',\n",
              " 'MasVnrArea',\n",
              " 'TtlBath',\n",
              " 'LotArea',\n",
              " 'TtlPorchArea',\n",
              " 'LotFrontage',\n",
              " 'TotalBsmtSF',\n",
              " 'PoolArea',\n",
              " 'WoodDeckSF',\n",
              " 'GrLivArea',\n",
              " 'Remod_Age',\n",
              " 'GarageCars',\n",
              " 'Fireplaces']"
            ]
          },
          "metadata": {
            "tags": []
          },
          "execution_count": 1597
        }
      ]
    },
    {
      "cell_type": "markdown",
      "metadata": {
        "id": "pUaQzfhziyEM"
      },
      "source": [
        "Now lets work on categorical variables "
      ]
    },
    {
      "cell_type": "code",
      "metadata": {
        "id": "lQtYGCN-i4yG",
        "outputId": "965a29e1-dc64-421f-a3bf-0d67fd498c41",
        "colab": {
          "base_uri": "https://localhost:8080/",
          "height": 187
        }
      },
      "source": [
        "print(binary_categorical)\n",
        "\n",
        "df['Street']=df['Street'].apply(lambda x : 1 if x=='Grvl' else 0)\n",
        "df['CentralAir']=df['CentralAir'].apply(lambda x : 1 if x=='Y' else 0)\n",
        "\n",
        "\n",
        "\n",
        "df[binary_categorical].info()"
      ],
      "execution_count": 1598,
      "outputs": [
        {
          "output_type": "stream",
          "text": [
            "['Street', 'CentralAir']\n",
            "<class 'pandas.core.frame.DataFrame'>\n",
            "Int64Index: 1040 entries, 1 to 1460\n",
            "Data columns (total 2 columns):\n",
            " #   Column      Non-Null Count  Dtype\n",
            "---  ------      --------------  -----\n",
            " 0   Street      1040 non-null   int64\n",
            " 1   CentralAir  1040 non-null   int64\n",
            "dtypes: int64(2)\n",
            "memory usage: 24.4 KB\n"
          ],
          "name": "stdout"
        }
      ]
    },
    {
      "cell_type": "code",
      "metadata": {
        "id": "8PY6eNmamdtg",
        "outputId": "89a50d53-0c76-4b31-95ff-820ecc9db8c8",
        "colab": {
          "base_uri": "https://localhost:8080/",
          "height": 615
        }
      },
      "source": [
        "# now we will look into ordinal categorical variables\n",
        "print(ordinal_categorical)\n",
        "print(len(ordinal_categorical))\n",
        "\n",
        "# these variables are already in numeric variables\n",
        "removelist=['OverallQual','OverallCond','MiscVal']\n",
        "\n",
        "# replace NA with None\n",
        "temp_dic1={'None':0,'Po':1,'Fa':2,'TA':3,'Gd':4,'Ex':5}\n",
        "temp_dic2={'None':0,'Unf':1,'LwQ':2,'Rec':3,'BLQ':4,'ALQ':5,'GLQ':6}\n",
        "temp_dic3={'None':0,'No':1,'Mn':2,'Av':3,'Gd':4}\n",
        "temp_dic4={'Po':0,'Fa':1,'TA':2,'Gd':3,'Ex':4}\n",
        "temp_dic5={'Sal':0,'Sev':1,'Maj2':2,'Maj1':3,'Mod':4,'Min2':5,'Min1':6,'Typ':7}\n",
        "temp_dic6={'None':0,'Unf':1,'RFn':2,'Fin':3}\n",
        "temp_dic7={'None':0,'Fa':1,'TA':2,'Gd':3,'Ex':4}\n",
        "temp_dic8={'IR3':0,'IR2':1,'IR1':2,'Reg':3}\n",
        "temp_dic9={'Low':0,'HLS':1,'Bnk':2,'Lvl':3}\n",
        "temp_dic10={'None':0,'MnWw':1,'GdWo':2,'MnPrv':3,'GdPrv':4}\n",
        "temp_dic11={'ELO':0,'NoSeWa':1,'NoSewr':2,'AllPub':3}\n",
        "\n",
        "\n",
        "\n",
        "\n",
        "df['LandSlope'] =  df.LandSlope.map({'Gtl':0,'Mod':1,'Sev':2})\n",
        "df['BsmtQual'] = df.BsmtQual.map(temp_dic1)\n",
        "df['BsmtCond'] = df.BsmtCond.map(temp_dic1)\n",
        "df['BsmtFinType1'] = df.BsmtFinType1.map(temp_dic2)\n",
        "df['BsmtExposure'] = df.BsmtExposure.map(temp_dic3)\n",
        "df['BsmtFinType2'] = df.BsmtFinType2.map(temp_dic2)\n",
        "df['HeatingQC'] = df.HeatingQC.map(temp_dic4)\n",
        "df['KitchenQual'] = df.KitchenQual.map(temp_dic4)\n",
        "df['Functional'] = df.Functional.map(temp_dic5)\n",
        "df['FireplaceQu'] = df.FireplaceQu.map(temp_dic1)\n",
        "df['GarageFinish'] = df.GarageFinish.map(temp_dic6)\n",
        "df['GarageQual'] = df.GarageQual.map(temp_dic1)\n",
        "df['GarageCond'] = df.GarageCond.map(temp_dic1)\n",
        "df['PoolQC'] = df.PoolQC.map(temp_dic7)\n",
        "df['LotShape'] = df.LotShape.map(temp_dic8)\n",
        "df['LandContour'] = df.LandContour.map(temp_dic9)\n",
        "df['ExterQual'] = df.ExterQual.map(temp_dic4)\n",
        "df['ExterCond'] = df.ExterCond.map(temp_dic4)\n",
        "df['PavedDrive'] = df.PavedDrive.map({'N':0,'P':1,'Y':2})\n",
        "df['Fence'] = df.Fence.map(temp_dic10)\n",
        "df['Utilities'] = df.Utilities.map(temp_dic11)\n",
        "\n",
        "\n",
        "\n",
        "\n",
        "\n",
        "print(df[ordinal_categorical].info())"
      ],
      "execution_count": 1599,
      "outputs": [
        {
          "output_type": "stream",
          "text": [
            "['LandSlope', 'OverallQual', 'OverallCond', 'BsmtQual', 'BsmtCond', 'BsmtFinType1', 'BsmtExposure', 'BsmtFinType2', 'HeatingQC', 'KitchenQual', 'Functional', 'FireplaceQu', 'GarageFinish', 'GarageQual', 'GarageCond', 'PoolQC', 'Fence', 'LotShape', 'LandContour', 'ExterQual', 'ExterCond', 'PavedDrive', 'MiscVal', 'Utilities']\n",
            "24\n",
            "<class 'pandas.core.frame.DataFrame'>\n",
            "Int64Index: 1040 entries, 1 to 1460\n",
            "Data columns (total 24 columns):\n",
            " #   Column        Non-Null Count  Dtype\n",
            "---  ------        --------------  -----\n",
            " 0   LandSlope     1040 non-null   int64\n",
            " 1   OverallQual   1040 non-null   int64\n",
            " 2   OverallCond   1040 non-null   int64\n",
            " 3   BsmtQual      1040 non-null   int64\n",
            " 4   BsmtCond      1040 non-null   int64\n",
            " 5   BsmtFinType1  1040 non-null   int64\n",
            " 6   BsmtExposure  1040 non-null   int64\n",
            " 7   BsmtFinType2  1040 non-null   int64\n",
            " 8   HeatingQC     1040 non-null   int64\n",
            " 9   KitchenQual   1040 non-null   int64\n",
            " 10  Functional    1040 non-null   int64\n",
            " 11  FireplaceQu   1040 non-null   int64\n",
            " 12  GarageFinish  1040 non-null   int64\n",
            " 13  GarageQual    1040 non-null   int64\n",
            " 14  GarageCond    1040 non-null   int64\n",
            " 15  PoolQC        1040 non-null   int64\n",
            " 16  Fence         1040 non-null   int64\n",
            " 17  LotShape      1040 non-null   int64\n",
            " 18  LandContour   1040 non-null   int64\n",
            " 19  ExterQual     1040 non-null   int64\n",
            " 20  ExterCond     1040 non-null   int64\n",
            " 21  PavedDrive    1040 non-null   int64\n",
            " 22  MiscVal       1040 non-null   int64\n",
            " 23  Utilities     1040 non-null   int64\n",
            "dtypes: int64(24)\n",
            "memory usage: 203.1 KB\n",
            "None\n"
          ],
          "name": "stdout"
        }
      ]
    },
    {
      "cell_type": "markdown",
      "metadata": {
        "id": "kP-7mbQY-IV1"
      },
      "source": [
        "Now we will work on Nominal categorical variables"
      ]
    },
    {
      "cell_type": "code",
      "metadata": {
        "id": "vIy8A98G4l2c",
        "outputId": "26afd3f5-8a7c-4dbc-bf77-f1ef514d4eab",
        "colab": {
          "base_uri": "https://localhost:8080/",
          "height": 85
        }
      },
      "source": [
        "\n",
        "# Before working on Nominal categories we will remove the columns that are safe to drop to reduce the complexity\n",
        "\n",
        "\n",
        "print('before')\n",
        "print(df.shape)\n",
        "\n",
        "df=df.drop(columns=drop_cols)\n",
        "\n",
        "print('after')\n",
        "print(df.shape)\n",
        "\n"
      ],
      "execution_count": 1600,
      "outputs": [
        {
          "output_type": "stream",
          "text": [
            "before\n",
            "(1040, 84)\n",
            "after\n",
            "(1040, 67)\n"
          ],
          "name": "stdout"
        }
      ]
    },
    {
      "cell_type": "markdown",
      "metadata": {
        "id": "t5U2o-ITAiz6"
      },
      "source": [
        "We initial had 81 column then after creating features and removing unecessary columns we have reached 66 columns "
      ]
    },
    {
      "cell_type": "code",
      "metadata": {
        "id": "LUxlxFYcAWut",
        "outputId": "eacfd4e9-97aa-4b97-811e-e3b6c6e27c73",
        "colab": {
          "base_uri": "https://localhost:8080/",
          "height": 105
        }
      },
      "source": [
        "# lets create dummy variables with n-1 levels\n",
        "\n",
        "print(nominal_categorical)\n",
        "print(len(nominal_categorical))\n",
        "\n",
        "\n",
        "# for training data\n",
        "dummies=pd.get_dummies(df, prefix=nominal_categorical, columns=nominal_categorical,drop_first=True)\n",
        "df=pd.concat([df,dummies],axis=1)\n",
        "\n",
        "# removing nominal columns\n",
        "df=df.drop(columns=nominal_categorical)\n",
        "\n",
        "\n",
        "# removing any duplicate columns after merge\n",
        "df = df.loc[:,~df.columns.duplicated()]\n",
        "\n",
        "print('final grid')\n",
        "print(df.shape)\n"
      ],
      "execution_count": 1601,
      "outputs": [
        {
          "output_type": "stream",
          "text": [
            "['MSSubClass', 'MSZoning', 'LotConfig', 'Neighborhood', 'Condition1', 'Condition2', 'BldgType', 'HouseStyle', 'RoofStyle', 'RoofMatl', 'Exterior1st', 'Exterior2nd', 'MasVnrType', 'Foundation', 'Heating', 'Electrical', 'GarageType', 'MiscFeature', 'SaleType', 'SaleCondition', 'Alley']\n",
            "21\n",
            "final grid\n",
            "(1040, 191)\n"
          ],
          "name": "stdout"
        }
      ]
    },
    {
      "cell_type": "markdown",
      "metadata": {
        "id": "mluwu3PiJJWg"
      },
      "source": [
        "Before performing any feture engineering or scaling the data will be splitted into train and test"
      ]
    },
    {
      "cell_type": "code",
      "metadata": {
        "id": "Q1WIXYO5JJE0",
        "outputId": "bfb2db02-12eb-4d5e-c8f2-d5741c25217b",
        "colab": {
          "base_uri": "https://localhost:8080/",
          "height": 51
        }
      },
      "source": [
        "y = df.loc[:, 'SalePrice']\n",
        "X = df.loc[:, df.columns != 'SalePrice']\n",
        "\n",
        "\n",
        "# test train split \n",
        "\n",
        "X_train, X_test, y_train, y_test = train_test_split(X, y, \n",
        "                                                    test_size = 0.25, \n",
        "                                                    random_state = 1)\n",
        "\n",
        "print(X_train.shape)\n",
        "print(X_test.shape)"
      ],
      "execution_count": 1602,
      "outputs": [
        {
          "output_type": "stream",
          "text": [
            "(780, 190)\n",
            "(260, 190)\n"
          ],
          "name": "stdout"
        }
      ]
    },
    {
      "cell_type": "code",
      "metadata": {
        "id": "OshsJ8ppZYm6",
        "outputId": "3c364c55-7eb9-4bb0-f42e-1c54457a87d5",
        "colab": {
          "base_uri": "https://localhost:8080/",
          "height": 51
        }
      },
      "source": [
        "print(y_test.shape)\n",
        "print(y_test.shape)"
      ],
      "execution_count": 1603,
      "outputs": [
        {
          "output_type": "stream",
          "text": [
            "(260,)\n",
            "(260,)\n"
          ],
          "name": "stdout"
        }
      ]
    },
    {
      "cell_type": "code",
      "metadata": {
        "id": "ObseznniJW54",
        "outputId": "ca420b7a-ca9e-4d44-ed1a-f3b1a61c7092",
        "colab": {
          "base_uri": "https://localhost:8080/",
          "height": 425
        }
      },
      "source": [
        "# the numeric variables are ready to be uniformely scaled.\n",
        "\n",
        "\n",
        "\n",
        "scaler = MinMaxScaler() #initializing object\n",
        "mylist=list(set(numeric_cols)-set(drop_cols))\n",
        "print('before')\n",
        "print(X_train[mylist].describe())\n",
        "\n",
        "X_train[mylist]=scaler.fit_transform(X_train[mylist]) # learning from train data and transforming\n",
        "X_test[mylist]=scaler.transform(X_test[mylist]) # transforming test data\n",
        "\n",
        "print('after')\n",
        "print(X_train[mylist].describe())"
      ],
      "execution_count": 1604,
      "outputs": [
        {
          "output_type": "stream",
          "text": [
            "before\n",
            "       TotRmsAbvGrd   GarageArea  ...  GarageCars  Fireplaces\n",
            "count    780.000000   780.000000  ...  780.000000  780.000000\n",
            "mean       6.473077   493.434615  ...    1.857692    0.558974\n",
            "std        1.548710   183.292725  ...    0.654013    0.631122\n",
            "min        3.000000   160.000000  ...    1.000000    0.000000\n",
            "25%        5.000000   352.000000  ...    1.000000    0.000000\n",
            "50%        6.000000   484.000000  ...    2.000000    0.000000\n",
            "75%        7.000000   578.000000  ...    2.000000    1.000000\n",
            "max       12.000000  1134.000000  ...    4.000000    3.000000\n",
            "\n",
            "[8 rows x 15 columns]\n",
            "after\n",
            "       TotRmsAbvGrd  GarageArea         Age  ...   Remod_Age  GarageCars  Fireplaces\n",
            "count    780.000000  780.000000  780.000000  ...  780.000000  780.000000  780.000000\n",
            "mean       0.385897    0.342335    0.284914  ...    0.368141    0.285897    0.186325\n",
            "std        0.172079    0.188186    0.245615  ...    0.351809    0.218004    0.210374\n",
            "min        0.000000    0.000000    0.000000  ...    0.000000    0.000000    0.000000\n",
            "25%        0.222222    0.197125    0.046512  ...    0.066667    0.000000    0.000000\n",
            "50%        0.333333    0.332649    0.279070  ...    0.200000    0.333333    0.000000\n",
            "75%        0.444444    0.429158    0.441860  ...    0.700000    0.333333    0.333333\n",
            "max        1.000000    1.000000    1.000000  ...    1.000000    1.000000    1.000000\n",
            "\n",
            "[8 rows x 15 columns]\n"
          ],
          "name": "stdout"
        }
      ]
    },
    {
      "cell_type": "markdown",
      "metadata": {
        "id": "t6iHr7tsP6hv"
      },
      "source": [
        "Scalling seems to be reflected perfectly"
      ]
    },
    {
      "cell_type": "markdown",
      "metadata": {
        "id": "hX0zOZQmQLFM"
      },
      "source": [
        "# Setting up Model"
      ]
    },
    {
      "cell_type": "code",
      "metadata": {
        "id": "mzAs2yIFR5eK",
        "outputId": "9265cf32-0259-4d00-f750-b82cc2b7eb53",
        "colab": {
          "base_uri": "https://localhost:8080/",
          "height": 301
        }
      },
      "source": [
        "X_train.head()"
      ],
      "execution_count": 1605,
      "outputs": [
        {
          "output_type": "execute_result",
          "data": {
            "text/html": [
              "<div>\n",
              "<style scoped>\n",
              "    .dataframe tbody tr th:only-of-type {\n",
              "        vertical-align: middle;\n",
              "    }\n",
              "\n",
              "    .dataframe tbody tr th {\n",
              "        vertical-align: top;\n",
              "    }\n",
              "\n",
              "    .dataframe thead th {\n",
              "        text-align: right;\n",
              "    }\n",
              "</style>\n",
              "<table border=\"1\" class=\"dataframe\">\n",
              "  <thead>\n",
              "    <tr style=\"text-align: right;\">\n",
              "      <th></th>\n",
              "      <th>LotFrontage</th>\n",
              "      <th>LotArea</th>\n",
              "      <th>Street</th>\n",
              "      <th>LotShape</th>\n",
              "      <th>LandContour</th>\n",
              "      <th>Utilities</th>\n",
              "      <th>LandSlope</th>\n",
              "      <th>OverallQual</th>\n",
              "      <th>OverallCond</th>\n",
              "      <th>MasVnrArea</th>\n",
              "      <th>ExterQual</th>\n",
              "      <th>ExterCond</th>\n",
              "      <th>BsmtQual</th>\n",
              "      <th>BsmtCond</th>\n",
              "      <th>BsmtExposure</th>\n",
              "      <th>BsmtFinType1</th>\n",
              "      <th>BsmtFinType2</th>\n",
              "      <th>TotalBsmtSF</th>\n",
              "      <th>HeatingQC</th>\n",
              "      <th>CentralAir</th>\n",
              "      <th>GrLivArea</th>\n",
              "      <th>BedroomAbvGr</th>\n",
              "      <th>KitchenAbvGr</th>\n",
              "      <th>KitchenQual</th>\n",
              "      <th>TotRmsAbvGrd</th>\n",
              "      <th>Functional</th>\n",
              "      <th>Fireplaces</th>\n",
              "      <th>FireplaceQu</th>\n",
              "      <th>GarageYrBlt</th>\n",
              "      <th>GarageFinish</th>\n",
              "      <th>GarageCars</th>\n",
              "      <th>GarageArea</th>\n",
              "      <th>GarageQual</th>\n",
              "      <th>GarageCond</th>\n",
              "      <th>PavedDrive</th>\n",
              "      <th>WoodDeckSF</th>\n",
              "      <th>PoolArea</th>\n",
              "      <th>PoolQC</th>\n",
              "      <th>Fence</th>\n",
              "      <th>MiscVal</th>\n",
              "      <th>...</th>\n",
              "      <th>Exterior2nd_Wd Shng</th>\n",
              "      <th>MasVnrType_BrkFace</th>\n",
              "      <th>MasVnrType_None</th>\n",
              "      <th>MasVnrType_Stone</th>\n",
              "      <th>Foundation_CBlock</th>\n",
              "      <th>Foundation_PConc</th>\n",
              "      <th>Foundation_Slab</th>\n",
              "      <th>Foundation_Stone</th>\n",
              "      <th>Foundation_Wood</th>\n",
              "      <th>Heating_GasW</th>\n",
              "      <th>Heating_Grav</th>\n",
              "      <th>Heating_OthW</th>\n",
              "      <th>Heating_Wall</th>\n",
              "      <th>Electrical_FuseF</th>\n",
              "      <th>Electrical_FuseP</th>\n",
              "      <th>Electrical_Mix</th>\n",
              "      <th>Electrical_SBrkr</th>\n",
              "      <th>GarageType_Attchd</th>\n",
              "      <th>GarageType_Basment</th>\n",
              "      <th>GarageType_BuiltIn</th>\n",
              "      <th>GarageType_CarPort</th>\n",
              "      <th>GarageType_Detchd</th>\n",
              "      <th>MiscFeature_Othr</th>\n",
              "      <th>MiscFeature_Shed</th>\n",
              "      <th>MiscFeature_TenC</th>\n",
              "      <th>SaleType_CWD</th>\n",
              "      <th>SaleType_Con</th>\n",
              "      <th>SaleType_ConLD</th>\n",
              "      <th>SaleType_ConLI</th>\n",
              "      <th>SaleType_ConLw</th>\n",
              "      <th>SaleType_New</th>\n",
              "      <th>SaleType_Oth</th>\n",
              "      <th>SaleType_WD</th>\n",
              "      <th>SaleCondition_AdjLand</th>\n",
              "      <th>SaleCondition_Alloca</th>\n",
              "      <th>SaleCondition_Family</th>\n",
              "      <th>SaleCondition_Normal</th>\n",
              "      <th>SaleCondition_Partial</th>\n",
              "      <th>Alley_None</th>\n",
              "      <th>Alley_Pave</th>\n",
              "    </tr>\n",
              "    <tr>\n",
              "      <th>Id</th>\n",
              "      <th></th>\n",
              "      <th></th>\n",
              "      <th></th>\n",
              "      <th></th>\n",
              "      <th></th>\n",
              "      <th></th>\n",
              "      <th></th>\n",
              "      <th></th>\n",
              "      <th></th>\n",
              "      <th></th>\n",
              "      <th></th>\n",
              "      <th></th>\n",
              "      <th></th>\n",
              "      <th></th>\n",
              "      <th></th>\n",
              "      <th></th>\n",
              "      <th></th>\n",
              "      <th></th>\n",
              "      <th></th>\n",
              "      <th></th>\n",
              "      <th></th>\n",
              "      <th></th>\n",
              "      <th></th>\n",
              "      <th></th>\n",
              "      <th></th>\n",
              "      <th></th>\n",
              "      <th></th>\n",
              "      <th></th>\n",
              "      <th></th>\n",
              "      <th></th>\n",
              "      <th></th>\n",
              "      <th></th>\n",
              "      <th></th>\n",
              "      <th></th>\n",
              "      <th></th>\n",
              "      <th></th>\n",
              "      <th></th>\n",
              "      <th></th>\n",
              "      <th></th>\n",
              "      <th></th>\n",
              "      <th></th>\n",
              "      <th></th>\n",
              "      <th></th>\n",
              "      <th></th>\n",
              "      <th></th>\n",
              "      <th></th>\n",
              "      <th></th>\n",
              "      <th></th>\n",
              "      <th></th>\n",
              "      <th></th>\n",
              "      <th></th>\n",
              "      <th></th>\n",
              "      <th></th>\n",
              "      <th></th>\n",
              "      <th></th>\n",
              "      <th></th>\n",
              "      <th></th>\n",
              "      <th></th>\n",
              "      <th></th>\n",
              "      <th></th>\n",
              "      <th></th>\n",
              "      <th></th>\n",
              "      <th></th>\n",
              "      <th></th>\n",
              "      <th></th>\n",
              "      <th></th>\n",
              "      <th></th>\n",
              "      <th></th>\n",
              "      <th></th>\n",
              "      <th></th>\n",
              "      <th></th>\n",
              "      <th></th>\n",
              "      <th></th>\n",
              "      <th></th>\n",
              "      <th></th>\n",
              "      <th></th>\n",
              "      <th></th>\n",
              "      <th></th>\n",
              "      <th></th>\n",
              "      <th></th>\n",
              "      <th></th>\n",
              "    </tr>\n",
              "  </thead>\n",
              "  <tbody>\n",
              "    <tr>\n",
              "      <th>1115</th>\n",
              "      <td>0.873418</td>\n",
              "      <td>0.059026</td>\n",
              "      <td>0</td>\n",
              "      <td>3</td>\n",
              "      <td>3</td>\n",
              "      <td>3</td>\n",
              "      <td>0</td>\n",
              "      <td>5</td>\n",
              "      <td>7</td>\n",
              "      <td>0.00000</td>\n",
              "      <td>2</td>\n",
              "      <td>3</td>\n",
              "      <td>3</td>\n",
              "      <td>3</td>\n",
              "      <td>1</td>\n",
              "      <td>3</td>\n",
              "      <td>1</td>\n",
              "      <td>0.259825</td>\n",
              "      <td>4</td>\n",
              "      <td>1</td>\n",
              "      <td>0.124606</td>\n",
              "      <td>2</td>\n",
              "      <td>1</td>\n",
              "      <td>3</td>\n",
              "      <td>0.111111</td>\n",
              "      <td>7</td>\n",
              "      <td>0.000000</td>\n",
              "      <td>0</td>\n",
              "      <td>1955.0</td>\n",
              "      <td>1</td>\n",
              "      <td>0.000000</td>\n",
              "      <td>0.170431</td>\n",
              "      <td>3</td>\n",
              "      <td>3</td>\n",
              "      <td>2</td>\n",
              "      <td>0.000000</td>\n",
              "      <td>0.0</td>\n",
              "      <td>0</td>\n",
              "      <td>3</td>\n",
              "      <td>0</td>\n",
              "      <td>...</td>\n",
              "      <td>0</td>\n",
              "      <td>0</td>\n",
              "      <td>1</td>\n",
              "      <td>0</td>\n",
              "      <td>1</td>\n",
              "      <td>0</td>\n",
              "      <td>0</td>\n",
              "      <td>0</td>\n",
              "      <td>0</td>\n",
              "      <td>0</td>\n",
              "      <td>0</td>\n",
              "      <td>0</td>\n",
              "      <td>0</td>\n",
              "      <td>0</td>\n",
              "      <td>0</td>\n",
              "      <td>0</td>\n",
              "      <td>1</td>\n",
              "      <td>0</td>\n",
              "      <td>0</td>\n",
              "      <td>0</td>\n",
              "      <td>0</td>\n",
              "      <td>1</td>\n",
              "      <td>0</td>\n",
              "      <td>0</td>\n",
              "      <td>0</td>\n",
              "      <td>0</td>\n",
              "      <td>0</td>\n",
              "      <td>0</td>\n",
              "      <td>0</td>\n",
              "      <td>0</td>\n",
              "      <td>0</td>\n",
              "      <td>0</td>\n",
              "      <td>1</td>\n",
              "      <td>0</td>\n",
              "      <td>0</td>\n",
              "      <td>0</td>\n",
              "      <td>1</td>\n",
              "      <td>0</td>\n",
              "      <td>1</td>\n",
              "      <td>0</td>\n",
              "    </tr>\n",
              "    <tr>\n",
              "      <th>159</th>\n",
              "      <td>1.000000</td>\n",
              "      <td>0.161990</td>\n",
              "      <td>0</td>\n",
              "      <td>3</td>\n",
              "      <td>3</td>\n",
              "      <td>3</td>\n",
              "      <td>0</td>\n",
              "      <td>7</td>\n",
              "      <td>5</td>\n",
              "      <td>0.00000</td>\n",
              "      <td>3</td>\n",
              "      <td>2</td>\n",
              "      <td>4</td>\n",
              "      <td>3</td>\n",
              "      <td>1</td>\n",
              "      <td>6</td>\n",
              "      <td>1</td>\n",
              "      <td>0.309108</td>\n",
              "      <td>4</td>\n",
              "      <td>1</td>\n",
              "      <td>0.476025</td>\n",
              "      <td>3</td>\n",
              "      <td>1</td>\n",
              "      <td>3</td>\n",
              "      <td>0.555556</td>\n",
              "      <td>7</td>\n",
              "      <td>0.333333</td>\n",
              "      <td>4</td>\n",
              "      <td>2004.0</td>\n",
              "      <td>2</td>\n",
              "      <td>0.333333</td>\n",
              "      <td>0.531828</td>\n",
              "      <td>3</td>\n",
              "      <td>3</td>\n",
              "      <td>2</td>\n",
              "      <td>0.000000</td>\n",
              "      <td>0.0</td>\n",
              "      <td>0</td>\n",
              "      <td>2</td>\n",
              "      <td>0</td>\n",
              "      <td>...</td>\n",
              "      <td>0</td>\n",
              "      <td>0</td>\n",
              "      <td>1</td>\n",
              "      <td>0</td>\n",
              "      <td>0</td>\n",
              "      <td>1</td>\n",
              "      <td>0</td>\n",
              "      <td>0</td>\n",
              "      <td>0</td>\n",
              "      <td>0</td>\n",
              "      <td>0</td>\n",
              "      <td>0</td>\n",
              "      <td>0</td>\n",
              "      <td>0</td>\n",
              "      <td>0</td>\n",
              "      <td>0</td>\n",
              "      <td>1</td>\n",
              "      <td>1</td>\n",
              "      <td>0</td>\n",
              "      <td>0</td>\n",
              "      <td>0</td>\n",
              "      <td>0</td>\n",
              "      <td>0</td>\n",
              "      <td>0</td>\n",
              "      <td>0</td>\n",
              "      <td>0</td>\n",
              "      <td>0</td>\n",
              "      <td>0</td>\n",
              "      <td>0</td>\n",
              "      <td>0</td>\n",
              "      <td>0</td>\n",
              "      <td>0</td>\n",
              "      <td>1</td>\n",
              "      <td>0</td>\n",
              "      <td>0</td>\n",
              "      <td>0</td>\n",
              "      <td>1</td>\n",
              "      <td>0</td>\n",
              "      <td>1</td>\n",
              "      <td>0</td>\n",
              "    </tr>\n",
              "    <tr>\n",
              "      <th>1094</th>\n",
              "      <td>0.632911</td>\n",
              "      <td>0.114165</td>\n",
              "      <td>0</td>\n",
              "      <td>3</td>\n",
              "      <td>3</td>\n",
              "      <td>3</td>\n",
              "      <td>0</td>\n",
              "      <td>5</td>\n",
              "      <td>8</td>\n",
              "      <td>0.10375</td>\n",
              "      <td>2</td>\n",
              "      <td>2</td>\n",
              "      <td>3</td>\n",
              "      <td>3</td>\n",
              "      <td>2</td>\n",
              "      <td>6</td>\n",
              "      <td>1</td>\n",
              "      <td>0.269495</td>\n",
              "      <td>3</td>\n",
              "      <td>1</td>\n",
              "      <td>0.240379</td>\n",
              "      <td>1</td>\n",
              "      <td>1</td>\n",
              "      <td>3</td>\n",
              "      <td>0.333333</td>\n",
              "      <td>7</td>\n",
              "      <td>0.000000</td>\n",
              "      <td>0</td>\n",
              "      <td>1977.0</td>\n",
              "      <td>1</td>\n",
              "      <td>0.333333</td>\n",
              "      <td>0.743326</td>\n",
              "      <td>3</td>\n",
              "      <td>3</td>\n",
              "      <td>2</td>\n",
              "      <td>0.000000</td>\n",
              "      <td>0.0</td>\n",
              "      <td>0</td>\n",
              "      <td>3</td>\n",
              "      <td>0</td>\n",
              "      <td>...</td>\n",
              "      <td>0</td>\n",
              "      <td>1</td>\n",
              "      <td>0</td>\n",
              "      <td>0</td>\n",
              "      <td>1</td>\n",
              "      <td>0</td>\n",
              "      <td>0</td>\n",
              "      <td>0</td>\n",
              "      <td>0</td>\n",
              "      <td>0</td>\n",
              "      <td>0</td>\n",
              "      <td>0</td>\n",
              "      <td>0</td>\n",
              "      <td>0</td>\n",
              "      <td>0</td>\n",
              "      <td>0</td>\n",
              "      <td>1</td>\n",
              "      <td>0</td>\n",
              "      <td>0</td>\n",
              "      <td>0</td>\n",
              "      <td>0</td>\n",
              "      <td>1</td>\n",
              "      <td>0</td>\n",
              "      <td>0</td>\n",
              "      <td>0</td>\n",
              "      <td>0</td>\n",
              "      <td>0</td>\n",
              "      <td>0</td>\n",
              "      <td>0</td>\n",
              "      <td>0</td>\n",
              "      <td>0</td>\n",
              "      <td>0</td>\n",
              "      <td>1</td>\n",
              "      <td>0</td>\n",
              "      <td>0</td>\n",
              "      <td>0</td>\n",
              "      <td>1</td>\n",
              "      <td>0</td>\n",
              "      <td>1</td>\n",
              "      <td>0</td>\n",
              "    </tr>\n",
              "    <tr>\n",
              "      <th>1027</th>\n",
              "      <td>0.658228</td>\n",
              "      <td>0.115173</td>\n",
              "      <td>0</td>\n",
              "      <td>3</td>\n",
              "      <td>3</td>\n",
              "      <td>3</td>\n",
              "      <td>0</td>\n",
              "      <td>5</td>\n",
              "      <td>5</td>\n",
              "      <td>0.20250</td>\n",
              "      <td>2</td>\n",
              "      <td>2</td>\n",
              "      <td>3</td>\n",
              "      <td>3</td>\n",
              "      <td>1</td>\n",
              "      <td>3</td>\n",
              "      <td>1</td>\n",
              "      <td>0.395508</td>\n",
              "      <td>2</td>\n",
              "      <td>1</td>\n",
              "      <td>0.260568</td>\n",
              "      <td>3</td>\n",
              "      <td>1</td>\n",
              "      <td>2</td>\n",
              "      <td>0.333333</td>\n",
              "      <td>7</td>\n",
              "      <td>0.666667</td>\n",
              "      <td>4</td>\n",
              "      <td>1960.0</td>\n",
              "      <td>1</td>\n",
              "      <td>0.333333</td>\n",
              "      <td>0.309035</td>\n",
              "      <td>3</td>\n",
              "      <td>3</td>\n",
              "      <td>2</td>\n",
              "      <td>0.000000</td>\n",
              "      <td>0.0</td>\n",
              "      <td>0</td>\n",
              "      <td>0</td>\n",
              "      <td>0</td>\n",
              "      <td>...</td>\n",
              "      <td>0</td>\n",
              "      <td>1</td>\n",
              "      <td>0</td>\n",
              "      <td>0</td>\n",
              "      <td>1</td>\n",
              "      <td>0</td>\n",
              "      <td>0</td>\n",
              "      <td>0</td>\n",
              "      <td>0</td>\n",
              "      <td>0</td>\n",
              "      <td>0</td>\n",
              "      <td>0</td>\n",
              "      <td>0</td>\n",
              "      <td>0</td>\n",
              "      <td>0</td>\n",
              "      <td>0</td>\n",
              "      <td>1</td>\n",
              "      <td>1</td>\n",
              "      <td>0</td>\n",
              "      <td>0</td>\n",
              "      <td>0</td>\n",
              "      <td>0</td>\n",
              "      <td>0</td>\n",
              "      <td>0</td>\n",
              "      <td>0</td>\n",
              "      <td>0</td>\n",
              "      <td>0</td>\n",
              "      <td>0</td>\n",
              "      <td>0</td>\n",
              "      <td>0</td>\n",
              "      <td>0</td>\n",
              "      <td>0</td>\n",
              "      <td>1</td>\n",
              "      <td>0</td>\n",
              "      <td>0</td>\n",
              "      <td>0</td>\n",
              "      <td>1</td>\n",
              "      <td>0</td>\n",
              "      <td>1</td>\n",
              "      <td>0</td>\n",
              "    </tr>\n",
              "    <tr>\n",
              "      <th>335</th>\n",
              "      <td>0.481013</td>\n",
              "      <td>0.111458</td>\n",
              "      <td>0</td>\n",
              "      <td>2</td>\n",
              "      <td>3</td>\n",
              "      <td>3</td>\n",
              "      <td>0</td>\n",
              "      <td>6</td>\n",
              "      <td>5</td>\n",
              "      <td>0.00000</td>\n",
              "      <td>2</td>\n",
              "      <td>2</td>\n",
              "      <td>4</td>\n",
              "      <td>3</td>\n",
              "      <td>4</td>\n",
              "      <td>6</td>\n",
              "      <td>1</td>\n",
              "      <td>0.294136</td>\n",
              "      <td>3</td>\n",
              "      <td>1</td>\n",
              "      <td>0.378549</td>\n",
              "      <td>3</td>\n",
              "      <td>1</td>\n",
              "      <td>2</td>\n",
              "      <td>0.444444</td>\n",
              "      <td>7</td>\n",
              "      <td>0.666667</td>\n",
              "      <td>3</td>\n",
              "      <td>1998.0</td>\n",
              "      <td>3</td>\n",
              "      <td>0.333333</td>\n",
              "      <td>0.320329</td>\n",
              "      <td>3</td>\n",
              "      <td>3</td>\n",
              "      <td>2</td>\n",
              "      <td>0.116686</td>\n",
              "      <td>0.0</td>\n",
              "      <td>0</td>\n",
              "      <td>0</td>\n",
              "      <td>0</td>\n",
              "      <td>...</td>\n",
              "      <td>0</td>\n",
              "      <td>0</td>\n",
              "      <td>1</td>\n",
              "      <td>0</td>\n",
              "      <td>0</td>\n",
              "      <td>1</td>\n",
              "      <td>0</td>\n",
              "      <td>0</td>\n",
              "      <td>0</td>\n",
              "      <td>0</td>\n",
              "      <td>0</td>\n",
              "      <td>0</td>\n",
              "      <td>0</td>\n",
              "      <td>0</td>\n",
              "      <td>0</td>\n",
              "      <td>0</td>\n",
              "      <td>1</td>\n",
              "      <td>1</td>\n",
              "      <td>0</td>\n",
              "      <td>0</td>\n",
              "      <td>0</td>\n",
              "      <td>0</td>\n",
              "      <td>0</td>\n",
              "      <td>0</td>\n",
              "      <td>0</td>\n",
              "      <td>0</td>\n",
              "      <td>0</td>\n",
              "      <td>0</td>\n",
              "      <td>0</td>\n",
              "      <td>0</td>\n",
              "      <td>0</td>\n",
              "      <td>0</td>\n",
              "      <td>1</td>\n",
              "      <td>0</td>\n",
              "      <td>0</td>\n",
              "      <td>0</td>\n",
              "      <td>1</td>\n",
              "      <td>0</td>\n",
              "      <td>1</td>\n",
              "      <td>0</td>\n",
              "    </tr>\n",
              "  </tbody>\n",
              "</table>\n",
              "<p>5 rows × 190 columns</p>\n",
              "</div>"
            ],
            "text/plain": [
              "      LotFrontage   LotArea  ...  Alley_None  Alley_Pave\n",
              "Id                           ...                        \n",
              "1115     0.873418  0.059026  ...           1           0\n",
              "159      1.000000  0.161990  ...           1           0\n",
              "1094     0.632911  0.114165  ...           1           0\n",
              "1027     0.658228  0.115173  ...           1           0\n",
              "335      0.481013  0.111458  ...           1           0\n",
              "\n",
              "[5 rows x 190 columns]"
            ]
          },
          "metadata": {
            "tags": []
          },
          "execution_count": 1605
        }
      ]
    },
    {
      "cell_type": "code",
      "metadata": {
        "id": "z43r-E8Mng9Y"
      },
      "source": [
        "# To reduce number of features we will use rfe. we will select top 35 features\n",
        "\n",
        "from sklearn.feature_selection import RFE\n",
        "from sklearn.linear_model import LinearRegression\n",
        "\n",
        "variable_limit=30\n",
        "\n",
        "\n",
        "lm=LinearRegression()\n",
        "lm.fit(X_train,y_train)\n",
        "rfe=RFE(lm,variable_limit)\n",
        "rfe=rfe.fit(X_train,y_train)\n",
        "\n",
        "#list(zip(X_train.columns,rfe.support_,rfe.ranking_))"
      ],
      "execution_count": 1606,
      "outputs": []
    },
    {
      "cell_type": "code",
      "metadata": {
        "id": "rYQQgPJ8nmLt",
        "outputId": "b51e20e9-1c3d-439e-eb6d-f4ed95409c84",
        "colab": {
          "base_uri": "https://localhost:8080/",
          "height": 595
        }
      },
      "source": [
        "print('before')\n",
        "print(X_train.shape)\n",
        "col=list(X_train.columns[rfe.support_])\n",
        "\n",
        "X_train = X_train[ col]\n",
        "X_test = X_test[ col]\n",
        "\n",
        "print('after')\n",
        "print(X_train.shape)\n",
        "col"
      ],
      "execution_count": 1607,
      "outputs": [
        {
          "output_type": "stream",
          "text": [
            "before\n",
            "(780, 190)\n",
            "after\n",
            "(780, 30)\n"
          ],
          "name": "stdout"
        },
        {
          "output_type": "execute_result",
          "data": {
            "text/plain": [
              "['LotArea',\n",
              " 'Street',\n",
              " 'TotalBsmtSF',\n",
              " 'CentralAir',\n",
              " 'GrLivArea',\n",
              " 'GarageArea',\n",
              " 'TtlPorchArea',\n",
              " 'TtlBath',\n",
              " 'Age',\n",
              " 'MSSubClass_85',\n",
              " 'MSSubClass_90',\n",
              " 'MSSubClass_180',\n",
              " 'MSZoning_FV',\n",
              " 'MSZoning_RH',\n",
              " 'MSZoning_RL',\n",
              " 'MSZoning_RM',\n",
              " 'Neighborhood_Crawfor',\n",
              " 'Neighborhood_NridgHt',\n",
              " 'Neighborhood_StoneBr',\n",
              " 'Neighborhood_Veenker',\n",
              " 'BldgType_Duplex',\n",
              " 'BldgType_Twnhs',\n",
              " 'HouseStyle_SFoyer',\n",
              " 'RoofMatl_Membran',\n",
              " 'RoofMatl_Roll',\n",
              " 'RoofMatl_WdShngl',\n",
              " 'Exterior1st_BrkComm',\n",
              " 'Foundation_Slab',\n",
              " 'Foundation_Stone',\n",
              " 'SaleCondition_AdjLand']"
            ]
          },
          "metadata": {
            "tags": []
          },
          "execution_count": 1607
        }
      ]
    },
    {
      "cell_type": "code",
      "metadata": {
        "id": "ulKGgegGQBqx"
      },
      "source": [
        "# creating a simple model with all the variables\n",
        "\n",
        "import statsmodels.api as sm\n",
        "\n",
        "X_train_sm=sm.add_constant(X_train)\n",
        "#create first model\n",
        "lr=sm.OLS(y_train,X_train_sm)\n",
        "\n",
        "#fit the model\n",
        "lr_model=lr.fit()\n"
      ],
      "execution_count": 1608,
      "outputs": []
    },
    {
      "cell_type": "code",
      "metadata": {
        "id": "q55w_yBTS74O",
        "outputId": "a7d95135-a07e-438f-9ae9-7995f5908fe5",
        "colab": {
          "base_uri": "https://localhost:8080/",
          "height": 51
        }
      },
      "source": [
        "print('Training score :')\n",
        "round(r2_score(y_train,lr_model.predict(X_train_sm))*100,2)"
      ],
      "execution_count": 1609,
      "outputs": [
        {
          "output_type": "stream",
          "text": [
            "Training score :\n"
          ],
          "name": "stdout"
        },
        {
          "output_type": "execute_result",
          "data": {
            "text/plain": [
              "88.11"
            ]
          },
          "metadata": {
            "tags": []
          },
          "execution_count": 1609
        }
      ]
    },
    {
      "cell_type": "code",
      "metadata": {
        "id": "g4axDMHHTtib",
        "outputId": "7e2c57dd-8fee-4362-8aae-368712649b84",
        "colab": {
          "base_uri": "https://localhost:8080/",
          "height": 51
        }
      },
      "source": [
        "print('Test score :')\n",
        "round(r2_score(y_test,lr_model.predict(sm.add_constant(X_test)))*100,2)"
      ],
      "execution_count": 1610,
      "outputs": [
        {
          "output_type": "stream",
          "text": [
            "Test score :\n"
          ],
          "name": "stdout"
        },
        {
          "output_type": "execute_result",
          "data": {
            "text/plain": [
              "85.47"
            ]
          },
          "metadata": {
            "tags": []
          },
          "execution_count": 1610
        }
      ]
    },
    {
      "cell_type": "code",
      "metadata": {
        "id": "fN7gbrAoUO6r",
        "outputId": "9ca8a13d-9ff6-4cf9-bd31-f5b561cc1c7e",
        "colab": {
          "base_uri": "https://localhost:8080/",
          "height": 561
        }
      },
      "source": [
        "print(lr_model.params)"
      ],
      "execution_count": 1611,
      "outputs": [
        {
          "output_type": "stream",
          "text": [
            "const                    10.824430\n",
            "LotArea                   0.263434\n",
            "Street                   -0.227861\n",
            "TotalBsmtSF               0.580510\n",
            "CentralAir                0.159708\n",
            "GrLivArea                 0.975098\n",
            "GarageArea                0.261488\n",
            "TtlPorchArea              0.235272\n",
            "TtlBath                   0.215356\n",
            "Age                      -0.390040\n",
            "MSSubClass_85            -0.238904\n",
            "MSSubClass_90            -0.175485\n",
            "MSSubClass_180           -0.418299\n",
            "MSZoning_FV               0.513283\n",
            "MSZoning_RH               0.411121\n",
            "MSZoning_RL               0.422433\n",
            "MSZoning_RM               0.409309\n",
            "Neighborhood_Crawfor      0.265029\n",
            "Neighborhood_NridgHt      0.175053\n",
            "Neighborhood_StoneBr      0.194734\n",
            "Neighborhood_Veenker      0.166158\n",
            "BldgType_Duplex          -0.175485\n",
            "BldgType_Twnhs           -0.156281\n",
            "HouseStyle_SFoyer         0.253240\n",
            "RoofMatl_Membran          0.336211\n",
            "RoofMatl_Roll             0.162577\n",
            "RoofMatl_WdShngl          0.146099\n",
            "Exterior1st_BrkComm      -0.502999\n",
            "Foundation_Slab           0.136302\n",
            "Foundation_Stone          0.212199\n",
            "SaleCondition_AdjLand     0.208992\n",
            "dtype: float64\n"
          ],
          "name": "stdout"
        }
      ]
    },
    {
      "cell_type": "markdown",
      "metadata": {
        "id": "FISFr-_IUiNe"
      },
      "source": [
        "Although the model is good with 88% on train and 85% scores on train and test respectively there are few drawbacks <br>\n",
        " \n",
        "1. The model is too complex and there is a sign of overfitting.\n",
        "\n",
        "2. Because of this complexity there may be a scope for improvement for the model which is still unkown.\n",
        "\n",
        "3. There is a difference in test and train score of about 2 % which can be reduce.\n",
        "\n",
        "> We will use advance regression techniquies to genralize the model."
      ]
    },
    {
      "cell_type": "markdown",
      "metadata": {
        "id": "92A70eYMWX6h"
      },
      "source": [
        "# Andvance regression"
      ]
    },
    {
      "cell_type": "markdown",
      "metadata": {
        "id": "ft-50ObkmNJ-"
      },
      "source": [
        "## Lasso"
      ]
    },
    {
      "cell_type": "markdown",
      "metadata": {
        "id": "4NL4bmF-eG4z"
      },
      "source": [
        "We will use this top 35 variable to perform advacne regression and make our model simpler"
      ]
    },
    {
      "cell_type": "code",
      "metadata": {
        "id": "t3f--33qejOJ",
        "outputId": "48f79014-8e39-44bc-b0f5-4eafd589e656",
        "colab": {
          "base_uri": "https://localhost:8080/",
          "height": 360
        }
      },
      "source": [
        "# grid search CV\n",
        "\n",
        "# set up cross validation scheme\n",
        "folds = KFold(n_splits = 5, shuffle = True, random_state = 4)\n",
        "\n",
        "# specify range of hyperparameters\n",
        "params = {'alpha': [0.001, 0.01, 1.0, 5.0, 10.0]}\n",
        "\n",
        "# grid search\n",
        "# lasso model\n",
        "model = Lasso()\n",
        "model_cv = GridSearchCV(estimator = model, param_grid = params, \n",
        "                        scoring= 'r2', \n",
        "                        cv = folds, \n",
        "                        return_train_score=True, verbose = 1)            \n",
        "model_cv.fit(X_train, y_train) \n",
        "\n",
        "cv_results = pd.DataFrame(model_cv.cv_results_)\n",
        "cv_results.head()"
      ],
      "execution_count": 1612,
      "outputs": [
        {
          "output_type": "stream",
          "text": [
            "Fitting 5 folds for each of 5 candidates, totalling 25 fits\n"
          ],
          "name": "stdout"
        },
        {
          "output_type": "stream",
          "text": [
            "[Parallel(n_jobs=1)]: Using backend SequentialBackend with 1 concurrent workers.\n",
            "[Parallel(n_jobs=1)]: Done  25 out of  25 | elapsed:    0.2s finished\n"
          ],
          "name": "stderr"
        },
        {
          "output_type": "execute_result",
          "data": {
            "text/html": [
              "<div>\n",
              "<style scoped>\n",
              "    .dataframe tbody tr th:only-of-type {\n",
              "        vertical-align: middle;\n",
              "    }\n",
              "\n",
              "    .dataframe tbody tr th {\n",
              "        vertical-align: top;\n",
              "    }\n",
              "\n",
              "    .dataframe thead th {\n",
              "        text-align: right;\n",
              "    }\n",
              "</style>\n",
              "<table border=\"1\" class=\"dataframe\">\n",
              "  <thead>\n",
              "    <tr style=\"text-align: right;\">\n",
              "      <th></th>\n",
              "      <th>mean_fit_time</th>\n",
              "      <th>std_fit_time</th>\n",
              "      <th>mean_score_time</th>\n",
              "      <th>std_score_time</th>\n",
              "      <th>param_alpha</th>\n",
              "      <th>params</th>\n",
              "      <th>split0_test_score</th>\n",
              "      <th>split1_test_score</th>\n",
              "      <th>split2_test_score</th>\n",
              "      <th>split3_test_score</th>\n",
              "      <th>split4_test_score</th>\n",
              "      <th>mean_test_score</th>\n",
              "      <th>std_test_score</th>\n",
              "      <th>rank_test_score</th>\n",
              "      <th>split0_train_score</th>\n",
              "      <th>split1_train_score</th>\n",
              "      <th>split2_train_score</th>\n",
              "      <th>split3_train_score</th>\n",
              "      <th>split4_train_score</th>\n",
              "      <th>mean_train_score</th>\n",
              "      <th>std_train_score</th>\n",
              "    </tr>\n",
              "  </thead>\n",
              "  <tbody>\n",
              "    <tr>\n",
              "      <th>0</th>\n",
              "      <td>0.004527</td>\n",
              "      <td>0.000198</td>\n",
              "      <td>0.001851</td>\n",
              "      <td>0.000130</td>\n",
              "      <td>0.001</td>\n",
              "      <td>{'alpha': 0.001}</td>\n",
              "      <td>0.831281</td>\n",
              "      <td>0.821733</td>\n",
              "      <td>0.806921</td>\n",
              "      <td>0.871998</td>\n",
              "      <td>0.887004</td>\n",
              "      <td>0.843787</td>\n",
              "      <td>0.030547</td>\n",
              "      <td>1</td>\n",
              "      <td>0.866464</td>\n",
              "      <td>0.867684</td>\n",
              "      <td>0.869650</td>\n",
              "      <td>0.855966</td>\n",
              "      <td>0.850406</td>\n",
              "      <td>0.862034</td>\n",
              "      <td>0.007505</td>\n",
              "    </tr>\n",
              "    <tr>\n",
              "      <th>1</th>\n",
              "      <td>0.004743</td>\n",
              "      <td>0.001505</td>\n",
              "      <td>0.001799</td>\n",
              "      <td>0.000106</td>\n",
              "      <td>0.01</td>\n",
              "      <td>{'alpha': 0.01}</td>\n",
              "      <td>0.718912</td>\n",
              "      <td>0.722086</td>\n",
              "      <td>0.702634</td>\n",
              "      <td>0.736224</td>\n",
              "      <td>0.766780</td>\n",
              "      <td>0.729327</td>\n",
              "      <td>0.021558</td>\n",
              "      <td>2</td>\n",
              "      <td>0.749098</td>\n",
              "      <td>0.754530</td>\n",
              "      <td>0.758215</td>\n",
              "      <td>0.740249</td>\n",
              "      <td>0.724425</td>\n",
              "      <td>0.745303</td>\n",
              "      <td>0.012064</td>\n",
              "    </tr>\n",
              "    <tr>\n",
              "      <th>2</th>\n",
              "      <td>0.003515</td>\n",
              "      <td>0.000398</td>\n",
              "      <td>0.001737</td>\n",
              "      <td>0.000092</td>\n",
              "      <td>1</td>\n",
              "      <td>{'alpha': 1.0}</td>\n",
              "      <td>-0.002324</td>\n",
              "      <td>-0.014072</td>\n",
              "      <td>-0.005366</td>\n",
              "      <td>-0.020664</td>\n",
              "      <td>-0.000153</td>\n",
              "      <td>-0.008516</td>\n",
              "      <td>0.007702</td>\n",
              "      <td>3</td>\n",
              "      <td>0.000000</td>\n",
              "      <td>0.000000</td>\n",
              "      <td>0.000000</td>\n",
              "      <td>0.000000</td>\n",
              "      <td>0.000000</td>\n",
              "      <td>0.000000</td>\n",
              "      <td>0.000000</td>\n",
              "    </tr>\n",
              "    <tr>\n",
              "      <th>3</th>\n",
              "      <td>0.004296</td>\n",
              "      <td>0.001924</td>\n",
              "      <td>0.001748</td>\n",
              "      <td>0.000170</td>\n",
              "      <td>5</td>\n",
              "      <td>{'alpha': 5.0}</td>\n",
              "      <td>-0.002324</td>\n",
              "      <td>-0.014072</td>\n",
              "      <td>-0.005366</td>\n",
              "      <td>-0.020664</td>\n",
              "      <td>-0.000153</td>\n",
              "      <td>-0.008516</td>\n",
              "      <td>0.007702</td>\n",
              "      <td>3</td>\n",
              "      <td>0.000000</td>\n",
              "      <td>0.000000</td>\n",
              "      <td>0.000000</td>\n",
              "      <td>0.000000</td>\n",
              "      <td>0.000000</td>\n",
              "      <td>0.000000</td>\n",
              "      <td>0.000000</td>\n",
              "    </tr>\n",
              "    <tr>\n",
              "      <th>4</th>\n",
              "      <td>0.004944</td>\n",
              "      <td>0.001988</td>\n",
              "      <td>0.001926</td>\n",
              "      <td>0.000113</td>\n",
              "      <td>10</td>\n",
              "      <td>{'alpha': 10.0}</td>\n",
              "      <td>-0.002324</td>\n",
              "      <td>-0.014072</td>\n",
              "      <td>-0.005366</td>\n",
              "      <td>-0.020664</td>\n",
              "      <td>-0.000153</td>\n",
              "      <td>-0.008516</td>\n",
              "      <td>0.007702</td>\n",
              "      <td>3</td>\n",
              "      <td>0.000000</td>\n",
              "      <td>0.000000</td>\n",
              "      <td>0.000000</td>\n",
              "      <td>0.000000</td>\n",
              "      <td>0.000000</td>\n",
              "      <td>0.000000</td>\n",
              "      <td>0.000000</td>\n",
              "    </tr>\n",
              "  </tbody>\n",
              "</table>\n",
              "</div>"
            ],
            "text/plain": [
              "   mean_fit_time  std_fit_time  ...  mean_train_score  std_train_score\n",
              "0       0.004527      0.000198  ...          0.862034         0.007505\n",
              "1       0.004743      0.001505  ...          0.745303         0.012064\n",
              "2       0.003515      0.000398  ...          0.000000         0.000000\n",
              "3       0.004296      0.001924  ...          0.000000         0.000000\n",
              "4       0.004944      0.001988  ...          0.000000         0.000000\n",
              "\n",
              "[5 rows x 21 columns]"
            ]
          },
          "metadata": {
            "tags": []
          },
          "execution_count": 1612
        }
      ]
    },
    {
      "cell_type": "code",
      "metadata": {
        "id": "j1ABS61RetEL",
        "outputId": "7f6e147d-2e09-43c9-a3ac-61c7d5847dcd",
        "colab": {
          "base_uri": "https://localhost:8080/",
          "height": 283
        }
      },
      "source": [
        "# plot\n",
        "cv_results['param_alpha'] = cv_results['param_alpha'].astype('float32')\n",
        "plt.plot(cv_results['param_alpha'], cv_results['mean_train_score'])\n",
        "plt.plot(cv_results['param_alpha'], cv_results['mean_test_score'])\n",
        "plt.xlabel('alpha')\n",
        "plt.ylabel('r2 score')\n",
        "plt.xscale('log')\n",
        "plt.show()"
      ],
      "execution_count": 1613,
      "outputs": [
        {
          "output_type": "display_data",
          "data": {
            "image/png": "[encoded data removed]",
            "text/plain": [
              "<Figure size 432x288 with 1 Axes>"
            ]
          },
          "metadata": {
            "tags": [],
            "needs_background": "light"
          }
        }
      ]
    },
    {
      "cell_type": "markdown",
      "metadata": {
        "id": "4FfNa6Hrgyt6"
      },
      "source": [
        "There is no sign of overfitting. The optimal value is the initial value\n",
        "> a point to note here is as we increase the value of alpha/lambda the model becomes more general and the bias is very high but on the other hand the variance is getting low."
      ]
    },
    {
      "cell_type": "code",
      "metadata": {
        "id": "Yd-kjy6EFbp1",
        "outputId": "99f02dd8-6efb-48a4-bcaf-90fbdac41aed",
        "colab": {
          "base_uri": "https://localhost:8080/",
          "height": 34
        }
      },
      "source": [
        "X_train.shape\n"
      ],
      "execution_count": 1614,
      "outputs": [
        {
          "output_type": "execute_result",
          "data": {
            "text/plain": [
              "(780, 30)"
            ]
          },
          "metadata": {
            "tags": []
          },
          "execution_count": 1614
        }
      ]
    },
    {
      "cell_type": "code",
      "metadata": {
        "id": "AndiHrVfg5eV",
        "outputId": "87e5f9c2-0f83-4a4b-a2db-8fe3da4ab67c",
        "colab": {
          "base_uri": "https://localhost:8080/",
          "height": 85
        }
      },
      "source": [
        "# lasso regression\n",
        "lm = Lasso(alpha=0.001)\n",
        "lm.fit(X_train, y_train)\n",
        "\n",
        "# predict\n",
        "print('Train score')\n",
        "y_train_pred = lm.predict(X_train)\n",
        "print(round(r2_score(y_true=y_train, y_pred=y_train_pred)*100,2))\n",
        "y_test_pred = lm.predict(X_test)\n",
        "print('Test score')\n",
        "print(round(r2_score(y_true=y_test, y_pred=y_test_pred)*100,2))"
      ],
      "execution_count": 1615,
      "outputs": [
        {
          "output_type": "stream",
          "text": [
            "Train score\n",
            "85.89\n",
            "Test score\n",
            "87.27\n"
          ],
          "name": "stdout"
        }
      ]
    },
    {
      "cell_type": "markdown",
      "metadata": {
        "id": "WQGSlHqYj4Hj"
      },
      "source": [
        "> As compared to the linear model we built earlier the train score has decreased and the test score increased. <br>\n",
        "> This nature indicates how lasso adds a little bias in the model so that it can perform better on test data."
      ]
    },
    {
      "cell_type": "code",
      "metadata": {
        "id": "BFc8NKtdkkZ7",
        "outputId": "3e414544-20e6-4285-cc39-63391e35f0ae",
        "colab": {
          "base_uri": "https://localhost:8080/",
          "height": 544
        }
      },
      "source": [
        "# few more things to notice about lasso\n",
        "\n",
        "# lasso model parameters\n",
        "model_parameters = list(lm.coef_)\n",
        "model_parameters.insert(0, lm.intercept_)\n",
        "model_parameters = [round(x, 3) for x in model_parameters]\n",
        "cols = X_train.columns\n",
        "cols = cols.insert(0, \"constant\")\n",
        "\n",
        "coefs=sorted(list(zip(cols, model_parameters)),key=lambda x:abs(x[1]),reverse=True)\n",
        "\n",
        "top5inlasso=coefs[:6]\n",
        "\n",
        "coefs\n"
      ],
      "execution_count": 1616,
      "outputs": [
        {
          "output_type": "execute_result",
          "data": {
            "text/plain": [
              "[('constant', 11.217),\n",
              " ('GrLivArea', 0.983),\n",
              " ('TotalBsmtSF', 0.535),\n",
              " ('Age', -0.369),\n",
              " ('GarageArea', 0.259),\n",
              " ('TtlBath', 0.238),\n",
              " ('Neighborhood_Crawfor', 0.233),\n",
              " ('MSSubClass_90', -0.225),\n",
              " ('LotArea', 0.175),\n",
              " ('CentralAir', 0.175),\n",
              " ('TtlPorchArea', 0.171),\n",
              " ('Neighborhood_NridgHt', 0.155),\n",
              " ('Neighborhood_StoneBr', 0.145),\n",
              " ('BldgType_Twnhs', -0.13),\n",
              " ('MSZoning_FV', 0.101),\n",
              " ('Neighborhood_Veenker', 0.066),\n",
              " ('Exterior1st_BrkComm', -0.049),\n",
              " ('MSZoning_RL', 0.037),\n",
              " ('RoofMatl_WdShngl', 0.017),\n",
              " ('MSZoning_RM', 0.008),\n",
              " ('Street', -0.001),\n",
              " ('MSSubClass_85', 0.0),\n",
              " ('MSSubClass_180', -0.0),\n",
              " ('MSZoning_RH', 0.0),\n",
              " ('BldgType_Duplex', -0.0),\n",
              " ('HouseStyle_SFoyer', 0.0),\n",
              " ('RoofMatl_Membran', 0.0),\n",
              " ('RoofMatl_Roll', 0.0),\n",
              " ('Foundation_Slab', 0.0),\n",
              " ('Foundation_Stone', 0.0),\n",
              " ('SaleCondition_AdjLand', 0.0)]"
            ]
          },
          "metadata": {
            "tags": []
          },
          "execution_count": 1616
        }
      ]
    },
    {
      "cell_type": "markdown",
      "metadata": {
        "id": "rzgqyXY7k7Pf"
      },
      "source": [
        "> Lasso indirectly perform feature selection as you can see many of the variables/Co-efficients like PavedDrive,GarageCond,GarageQual,GarageArea and many more has value as 0 which means the model will work at its best with or without these variable as the significance of these variables are close to 0"
      ]
    },
    {
      "cell_type": "markdown",
      "metadata": {
        "id": "4WviaSJumQ97"
      },
      "source": [
        "## Ridge"
      ]
    },
    {
      "cell_type": "code",
      "metadata": {
        "id": "4YOflxi3mTSp",
        "outputId": "16622c5b-772c-43fb-91c0-724dc68ff54f",
        "colab": {
          "base_uri": "https://localhost:8080/",
          "height": 360
        }
      },
      "source": [
        "# grid search CV\n",
        "\n",
        "# set up cross validation scheme\n",
        "folds = KFold(n_splits = 5, shuffle = True, random_state = 4)\n",
        "\n",
        "# specify range of hyperparameters\n",
        "params = {'alpha': [0.001, 0.01, 1.0, 5.0, 10.0]}\n",
        "\n",
        "# grid search\n",
        "# lasso model\n",
        "model = Ridge()\n",
        "model_cv = GridSearchCV(estimator = model, param_grid = params, \n",
        "                        scoring= 'r2', \n",
        "                        cv = folds, \n",
        "                        return_train_score=True, verbose = 1)            \n",
        "model_cv.fit(X_train, y_train) \n",
        "\n",
        "cv_results = pd.DataFrame(model_cv.cv_results_)\n",
        "cv_results.head()"
      ],
      "execution_count": 1617,
      "outputs": [
        {
          "output_type": "stream",
          "text": [
            "Fitting 5 folds for each of 5 candidates, totalling 25 fits\n"
          ],
          "name": "stdout"
        },
        {
          "output_type": "stream",
          "text": [
            "[Parallel(n_jobs=1)]: Using backend SequentialBackend with 1 concurrent workers.\n",
            "[Parallel(n_jobs=1)]: Done  25 out of  25 | elapsed:    0.2s finished\n"
          ],
          "name": "stderr"
        },
        {
          "output_type": "execute_result",
          "data": {
            "text/html": [
              "<div>\n",
              "<style scoped>\n",
              "    .dataframe tbody tr th:only-of-type {\n",
              "        vertical-align: middle;\n",
              "    }\n",
              "\n",
              "    .dataframe tbody tr th {\n",
              "        vertical-align: top;\n",
              "    }\n",
              "\n",
              "    .dataframe thead th {\n",
              "        text-align: right;\n",
              "    }\n",
              "</style>\n",
              "<table border=\"1\" class=\"dataframe\">\n",
              "  <thead>\n",
              "    <tr style=\"text-align: right;\">\n",
              "      <th></th>\n",
              "      <th>mean_fit_time</th>\n",
              "      <th>std_fit_time</th>\n",
              "      <th>mean_score_time</th>\n",
              "      <th>std_score_time</th>\n",
              "      <th>param_alpha</th>\n",
              "      <th>params</th>\n",
              "      <th>split0_test_score</th>\n",
              "      <th>split1_test_score</th>\n",
              "      <th>split2_test_score</th>\n",
              "      <th>split3_test_score</th>\n",
              "      <th>split4_test_score</th>\n",
              "      <th>mean_test_score</th>\n",
              "      <th>std_test_score</th>\n",
              "      <th>rank_test_score</th>\n",
              "      <th>split0_train_score</th>\n",
              "      <th>split1_train_score</th>\n",
              "      <th>split2_train_score</th>\n",
              "      <th>split3_train_score</th>\n",
              "      <th>split4_train_score</th>\n",
              "      <th>mean_train_score</th>\n",
              "      <th>std_train_score</th>\n",
              "    </tr>\n",
              "  </thead>\n",
              "  <tbody>\n",
              "    <tr>\n",
              "      <th>0</th>\n",
              "      <td>0.004813</td>\n",
              "      <td>0.002889</td>\n",
              "      <td>0.001759</td>\n",
              "      <td>0.000124</td>\n",
              "      <td>0.001</td>\n",
              "      <td>{'alpha': 0.001}</td>\n",
              "      <td>0.852348</td>\n",
              "      <td>0.818449</td>\n",
              "      <td>0.833180</td>\n",
              "      <td>0.869480</td>\n",
              "      <td>0.894173</td>\n",
              "      <td>0.853526</td>\n",
              "      <td>0.026655</td>\n",
              "      <td>3</td>\n",
              "      <td>0.884593</td>\n",
              "      <td>0.887663</td>\n",
              "      <td>0.888980</td>\n",
              "      <td>0.878962</td>\n",
              "      <td>0.874608</td>\n",
              "      <td>0.882961</td>\n",
              "      <td>0.005418</td>\n",
              "    </tr>\n",
              "    <tr>\n",
              "      <th>1</th>\n",
              "      <td>0.003353</td>\n",
              "      <td>0.000123</td>\n",
              "      <td>0.001727</td>\n",
              "      <td>0.000184</td>\n",
              "      <td>0.01</td>\n",
              "      <td>{'alpha': 0.01}</td>\n",
              "      <td>0.852521</td>\n",
              "      <td>0.818952</td>\n",
              "      <td>0.833087</td>\n",
              "      <td>0.869776</td>\n",
              "      <td>0.894355</td>\n",
              "      <td>0.853738</td>\n",
              "      <td>0.026627</td>\n",
              "      <td>2</td>\n",
              "      <td>0.884590</td>\n",
              "      <td>0.887661</td>\n",
              "      <td>0.888979</td>\n",
              "      <td>0.878960</td>\n",
              "      <td>0.874606</td>\n",
              "      <td>0.882959</td>\n",
              "      <td>0.005418</td>\n",
              "    </tr>\n",
              "    <tr>\n",
              "      <th>2</th>\n",
              "      <td>0.003357</td>\n",
              "      <td>0.000100</td>\n",
              "      <td>0.001657</td>\n",
              "      <td>0.000050</td>\n",
              "      <td>1</td>\n",
              "      <td>{'alpha': 1.0}</td>\n",
              "      <td>0.848572</td>\n",
              "      <td>0.831970</td>\n",
              "      <td>0.825579</td>\n",
              "      <td>0.876723</td>\n",
              "      <td>0.898545</td>\n",
              "      <td>0.856278</td>\n",
              "      <td>0.027558</td>\n",
              "      <td>1</td>\n",
              "      <td>0.879405</td>\n",
              "      <td>0.881656</td>\n",
              "      <td>0.884422</td>\n",
              "      <td>0.872472</td>\n",
              "      <td>0.868022</td>\n",
              "      <td>0.877195</td>\n",
              "      <td>0.006057</td>\n",
              "    </tr>\n",
              "    <tr>\n",
              "      <th>3</th>\n",
              "      <td>0.003329</td>\n",
              "      <td>0.000096</td>\n",
              "      <td>0.002710</td>\n",
              "      <td>0.002148</td>\n",
              "      <td>5</td>\n",
              "      <td>{'alpha': 5.0}</td>\n",
              "      <td>0.827319</td>\n",
              "      <td>0.822189</td>\n",
              "      <td>0.807525</td>\n",
              "      <td>0.850639</td>\n",
              "      <td>0.883283</td>\n",
              "      <td>0.838191</td>\n",
              "      <td>0.026469</td>\n",
              "      <td>4</td>\n",
              "      <td>0.858123</td>\n",
              "      <td>0.859069</td>\n",
              "      <td>0.862648</td>\n",
              "      <td>0.847558</td>\n",
              "      <td>0.842145</td>\n",
              "      <td>0.853908</td>\n",
              "      <td>0.007739</td>\n",
              "    </tr>\n",
              "    <tr>\n",
              "      <th>4</th>\n",
              "      <td>0.003934</td>\n",
              "      <td>0.000530</td>\n",
              "      <td>0.001788</td>\n",
              "      <td>0.000071</td>\n",
              "      <td>10</td>\n",
              "      <td>{'alpha': 10.0}</td>\n",
              "      <td>0.804756</td>\n",
              "      <td>0.801345</td>\n",
              "      <td>0.785918</td>\n",
              "      <td>0.818201</td>\n",
              "      <td>0.860578</td>\n",
              "      <td>0.814159</td>\n",
              "      <td>0.025382</td>\n",
              "      <td>5</td>\n",
              "      <td>0.833281</td>\n",
              "      <td>0.833378</td>\n",
              "      <td>0.837687</td>\n",
              "      <td>0.822031</td>\n",
              "      <td>0.814788</td>\n",
              "      <td>0.828233</td>\n",
              "      <td>0.008492</td>\n",
              "    </tr>\n",
              "  </tbody>\n",
              "</table>\n",
              "</div>"
            ],
            "text/plain": [
              "   mean_fit_time  std_fit_time  ...  mean_train_score  std_train_score\n",
              "0       0.004813      0.002889  ...          0.882961         0.005418\n",
              "1       0.003353      0.000123  ...          0.882959         0.005418\n",
              "2       0.003357      0.000100  ...          0.877195         0.006057\n",
              "3       0.003329      0.000096  ...          0.853908         0.007739\n",
              "4       0.003934      0.000530  ...          0.828233         0.008492\n",
              "\n",
              "[5 rows x 21 columns]"
            ]
          },
          "metadata": {
            "tags": []
          },
          "execution_count": 1617
        }
      ]
    },
    {
      "cell_type": "code",
      "metadata": {
        "id": "b7esZRE4mcNV",
        "outputId": "e971f756-1480-401b-f926-58365243bdc0",
        "colab": {
          "base_uri": "https://localhost:8080/",
          "height": 283
        }
      },
      "source": [
        "# plot\n",
        "cv_results['param_alpha'] = cv_results['param_alpha'].astype('float32')\n",
        "plt.plot(cv_results['param_alpha'], cv_results['mean_train_score'])\n",
        "plt.plot(cv_results['param_alpha'], cv_results['mean_test_score'])\n",
        "plt.xlabel('alpha')\n",
        "plt.ylabel('r2 score')\n",
        "plt.xscale('log')\n",
        "plt.show()"
      ],
      "execution_count": 1618,
      "outputs": [
        {
          "output_type": "display_data",
          "data": {
            "image/png": "[encoded data removed]",
            "text/plain": [
              "<Figure size 432x288 with 1 Axes>"
            ]
          },
          "metadata": {
            "tags": [],
            "needs_background": "light"
          }
        }
      ]
    },
    {
      "cell_type": "code",
      "metadata": {
        "id": "xuIU4fLjmxsC",
        "outputId": "12e18dcd-5cc3-4de8-ee07-1d6b3f61f372",
        "colab": {
          "base_uri": "https://localhost:8080/",
          "height": 85
        }
      },
      "source": [
        "# Ridge regression\n",
        "lm = Ridge(alpha=1)\n",
        "lm.fit(X_train, y_train)\n",
        "\n",
        "# predict\n",
        "print('Train score')\n",
        "y_train_pred = lm.predict(X_train)\n",
        "print(round(r2_score(y_true=y_train, y_pred=y_train_pred)*100,2))\n",
        "y_test_pred = lm.predict(X_test)\n",
        "print('Test score')\n",
        "print(round(r2_score(y_true=y_test, y_pred=y_test_pred)*100,2))"
      ],
      "execution_count": 1619,
      "outputs": [
        {
          "output_type": "stream",
          "text": [
            "Train score\n",
            "87.69\n",
            "Test score\n",
            "86.97\n"
          ],
          "name": "stdout"
        }
      ]
    },
    {
      "cell_type": "code",
      "metadata": {
        "id": "yrctmrgFohCH",
        "outputId": "8099384d-39f6-48fb-dc04-7362f1ffb88a",
        "colab": {
          "base_uri": "https://localhost:8080/",
          "height": 544
        }
      },
      "source": [
        "# few more things to notice about lasso\n",
        "\n",
        "# Ridge model parameters\n",
        "model_parameters = list(lm.coef_)\n",
        "model_parameters.insert(0, lm.intercept_)\n",
        "model_parameters = [round(x, 3) for x in model_parameters]\n",
        "cols = X_train.columns\n",
        "cols = cols.insert(0, \"constant\")\n",
        "coefs=sorted(list(zip(cols, model_parameters)),key=lambda x:abs(x[1]),reverse=True)\n",
        "\n",
        "top5inridge=coefs[:6]\n",
        "\n",
        "coefs"
      ],
      "execution_count": 1620,
      "outputs": [
        {
          "output_type": "execute_result",
          "data": {
            "text/plain": [
              "[('constant', 11.011),\n",
              " ('GrLivArea', 0.901),\n",
              " ('TotalBsmtSF', 0.528),\n",
              " ('Age', -0.377),\n",
              " ('MSZoning_FV', 0.329),\n",
              " ('Exterior1st_BrkComm', -0.315),\n",
              " ('GarageArea', 0.28),\n",
              " ('Neighborhood_Crawfor', 0.261),\n",
              " ('LotArea', 0.254),\n",
              " ('TtlBath', 0.254),\n",
              " ('MSZoning_RL', 0.249),\n",
              " ('TtlPorchArea', 0.235),\n",
              " ('MSZoning_RM', 0.233),\n",
              " ('Street', -0.211),\n",
              " ('MSZoning_RH', 0.195),\n",
              " ('MSSubClass_180', -0.193),\n",
              " ('Neighborhood_StoneBr', 0.188),\n",
              " ('Neighborhood_NridgHt', 0.178),\n",
              " ('RoofMatl_Membran', 0.171),\n",
              " ('CentralAir', 0.168),\n",
              " ('Foundation_Stone', 0.157),\n",
              " ('BldgType_Twnhs', -0.155),\n",
              " ('MSSubClass_90', -0.145),\n",
              " ('Neighborhood_Veenker', 0.145),\n",
              " ('BldgType_Duplex', -0.145),\n",
              " ('RoofMatl_WdShngl', 0.131),\n",
              " ('HouseStyle_SFoyer', 0.102),\n",
              " ('SaleCondition_AdjLand', 0.1),\n",
              " ('MSSubClass_85', -0.089),\n",
              " ('Foundation_Slab', 0.073),\n",
              " ('RoofMatl_Roll', 0.055)]"
            ]
          },
          "metadata": {
            "tags": []
          },
          "execution_count": 1620
        }
      ]
    },
    {
      "cell_type": "markdown",
      "metadata": {
        "id": "GoUnq4_UsY1M"
      },
      "source": [
        "> As you can see by using the advance regression techniques like Lasso and Ridge we have improved the model performance on test data."
      ]
    },
    {
      "cell_type": "code",
      "metadata": {
        "id": "x1F667aMt6Xn",
        "outputId": "68eb7fcc-9052-4d2b-d464-c15a26fe5b0e",
        "colab": {
          "base_uri": "https://localhost:8080/",
          "height": 85
        }
      },
      "source": [
        "# The important factors or variable thats needs to be considered for predicting house price are as follows \n",
        "print(\"As per Lasso\")\n",
        "print([k for k,i in top5inlasso])\n",
        "print(\"As per Ridge\")\n",
        "print([k for k,i in top5inridge])"
      ],
      "execution_count": 1621,
      "outputs": [
        {
          "output_type": "stream",
          "text": [
            "As per Lasso\n",
            "['constant', 'GrLivArea', 'TotalBsmtSF', 'Age', 'GarageArea', 'TtlBath']\n",
            "As per Ridge\n",
            "['constant', 'GrLivArea', 'TotalBsmtSF', 'Age', 'MSZoning_FV', 'Exterior1st_BrkComm']\n"
          ],
          "name": "stdout"
        }
      ]
    },
    {
      "cell_type": "markdown",
      "metadata": {
        "id": "6Gyqpg2w0U_p"
      },
      "source": [
        "# Part-2 Questions"
      ]
    },
    {
      "cell_type": "code",
      "metadata": {
        "id": "0qN3GW-n0bQo",
        "outputId": "5411e027-e1c5-485e-fd4e-71fdc381900c",
        "colab": {
          "base_uri": "https://localhost:8080/",
          "height": 204
        }
      },
      "source": [
        "#Lasso model with double alpha\n",
        "\n",
        "# lasso regression\n",
        "lm = Lasso(alpha=0.002)\n",
        "lm.fit(X_train, y_train)\n",
        "\n",
        "# predict\n",
        "print('Train score')\n",
        "y_train_pred = lm.predict(X_train)\n",
        "print(round(r2_score(y_true=y_train, y_pred=y_train_pred)*100,2))\n",
        "y_test_pred = lm.predict(X_test)\n",
        "print('Test score')\n",
        "print(round(r2_score(y_true=y_test, y_pred=y_test_pred)*100,2))\n",
        "\n",
        "model_parameters = list(lm.coef_)\n",
        "model_parameters.insert(0, lm.intercept_)\n",
        "model_parameters = [round(x, 3) for x in model_parameters]\n",
        "cols = X_train.columns\n",
        "cols = cols.insert(0, \"constant\")\n",
        "coefs=sorted(list(zip(cols, model_parameters)),key=lambda x:abs(x[1]),reverse=True)\n",
        "coefs[:7]"
      ],
      "execution_count": 1622,
      "outputs": [
        {
          "output_type": "stream",
          "text": [
            "Train score\n",
            "84.79\n",
            "Test score\n",
            "86.59\n"
          ],
          "name": "stdout"
        },
        {
          "output_type": "execute_result",
          "data": {
            "text/plain": [
              "[('constant', 11.251),\n",
              " ('GrLivArea', 0.982),\n",
              " ('TotalBsmtSF', 0.523),\n",
              " ('Age', -0.354),\n",
              " ('GarageArea', 0.27),\n",
              " ('TtlBath', 0.252),\n",
              " ('Neighborhood_Crawfor', 0.2)]"
            ]
          },
          "metadata": {
            "tags": []
          },
          "execution_count": 1622
        }
      ]
    },
    {
      "cell_type": "code",
      "metadata": {
        "id": "TVw6TBO82fxu",
        "outputId": "41dbffac-b41d-4851-b65c-44a43bb5e93d",
        "colab": {
          "base_uri": "https://localhost:8080/",
          "height": 204
        }
      },
      "source": [
        "#Ridge model with double alpha\n",
        "\n",
        "# Ridge regression\n",
        "lm = Ridge(alpha=1)\n",
        "lm.fit(X_train, y_train)\n",
        "\n",
        "# predict\n",
        "print('Train score')\n",
        "y_train_pred = lm.predict(X_train)\n",
        "print(round(r2_score(y_true=y_train, y_pred=y_train_pred)*100,2))\n",
        "y_test_pred = lm.predict(X_test)\n",
        "print('Test score')\n",
        "print(round(r2_score(y_true=y_test, y_pred=y_test_pred)*100,2))\n",
        "\n",
        "model_parameters = list(lm.coef_)\n",
        "model_parameters.insert(0, lm.intercept_)\n",
        "model_parameters = [round(x, 3) for x in model_parameters]\n",
        "cols = X_train.columns\n",
        "cols = cols.insert(0, \"constant\")\n",
        "coefs=sorted(list(zip(cols, model_parameters)),key=lambda x:abs(x[1]),reverse=True)\n",
        "coefs[:7]"
      ],
      "execution_count": 1623,
      "outputs": [
        {
          "output_type": "stream",
          "text": [
            "Train score\n",
            "87.69\n",
            "Test score\n",
            "86.97\n"
          ],
          "name": "stdout"
        },
        {
          "output_type": "execute_result",
          "data": {
            "text/plain": [
              "[('constant', 11.011),\n",
              " ('GrLivArea', 0.901),\n",
              " ('TotalBsmtSF', 0.528),\n",
              " ('Age', -0.377),\n",
              " ('MSZoning_FV', 0.329),\n",
              " ('Exterior1st_BrkComm', -0.315),\n",
              " ('GarageArea', 0.28)]"
            ]
          },
          "metadata": {
            "tags": []
          },
          "execution_count": 1623
        }
      ]
    },
    {
      "cell_type": "code",
      "metadata": {
        "id": "YKzbMGxm9JP4",
        "outputId": "3be3bd84-16a9-4e6d-bc33-95b2a48d24ba",
        "colab": {
          "base_uri": "https://localhost:8080/",
          "height": 34
        }
      },
      "source": [
        "# building lasso without its 5 best perdictors\n",
        "\n",
        "dro_cols=[k for k,i in top5inlasso]\n",
        "print(dro_cols[1:])"
      ],
      "execution_count": 1624,
      "outputs": [
        {
          "output_type": "stream",
          "text": [
            "['GrLivArea', 'TotalBsmtSF', 'Age', 'GarageArea', 'TtlBath']\n"
          ],
          "name": "stdout"
        }
      ]
    },
    {
      "cell_type": "code",
      "metadata": {
        "id": "r69-ZAJG8e4O",
        "outputId": "862f90b7-b1b7-4b51-902f-80fbc61f7edf",
        "colab": {
          "base_uri": "https://localhost:8080/",
          "height": 337
        }
      },
      "source": [
        "\n",
        "# grid search CV\n",
        "\n",
        "# set up cross validation scheme\n",
        "folds = KFold(n_splits = 5, shuffle = True, random_state = 4)\n",
        "\n",
        "# specify range of hyperparameters\n",
        "params = {'alpha': [0.001, 0.01, 1.0, 5.0, 10.0]}\n",
        "\n",
        "\n",
        "# Xtrain and Xtest without important 5 variables\n",
        "X_train_m=X_train.drop(columns=dro_cols[1:])\n",
        "X_test_m=X_test.drop(columns=dro_cols[1:])\n",
        "\n",
        "\n",
        "# grid search\n",
        "# lasso model\n",
        "model = Lasso()\n",
        "model_cv = GridSearchCV(estimator = model, param_grid = params, \n",
        "                        scoring= 'r2', \n",
        "                        cv = folds, \n",
        "                        return_train_score=True, verbose = 1)            \n",
        "model_cv.fit(X_train_m, y_train) \n",
        "\n",
        "cv_results = pd.DataFrame(model_cv.cv_results_)\n",
        "cv_results.head()\n",
        "\n",
        "# plot\n",
        "cv_results['param_alpha'] = cv_results['param_alpha'].astype('float32')\n",
        "plt.plot(cv_results['param_alpha'], cv_results['mean_train_score'])\n",
        "plt.plot(cv_results['param_alpha'], cv_results['mean_test_score'])\n",
        "plt.xlabel('alpha')\n",
        "plt.ylabel('r2 score')\n",
        "plt.xscale('log')\n",
        "plt.show()"
      ],
      "execution_count": 1625,
      "outputs": [
        {
          "output_type": "stream",
          "text": [
            "Fitting 5 folds for each of 5 candidates, totalling 25 fits\n"
          ],
          "name": "stdout"
        },
        {
          "output_type": "stream",
          "text": [
            "[Parallel(n_jobs=1)]: Using backend SequentialBackend with 1 concurrent workers.\n",
            "[Parallel(n_jobs=1)]: Done  25 out of  25 | elapsed:    0.2s finished\n"
          ],
          "name": "stderr"
        },
        {
          "output_type": "display_data",
          "data": {
            "image/png": "[encoded data removed]",
            "text/plain": [
              "<Figure size 432x288 with 1 Axes>"
            ]
          },
          "metadata": {
            "tags": [],
            "needs_background": "light"
          }
        }
      ]
    },
    {
      "cell_type": "code",
      "metadata": {
        "id": "8AHlrfRu85sC",
        "outputId": "1795cccc-c6f0-43e2-877e-a4abe472fecd",
        "colab": {
          "base_uri": "https://localhost:8080/",
          "height": 187
        }
      },
      "source": [
        "# lasso regression\n",
        "lm = Lasso(alpha=0.001)\n",
        "lm.fit(X_train_m, y_train)\n",
        "\n",
        "# predict\n",
        "print('Train score')\n",
        "y_train_pred = lm.predict(X_train_m)\n",
        "print(round(r2_score(y_true=y_train, y_pred=y_train_pred)*100,2))\n",
        "y_test_pred = lm.predict(X_test_m)\n",
        "print('Test score')\n",
        "print(round(r2_score(y_true=y_test, y_pred=y_test_pred)*100,2))\n",
        "\n",
        "model_parameters = list(lm.coef_)\n",
        "model_parameters.insert(0, lm.intercept_)\n",
        "model_parameters = [round(x, 3) for x in model_parameters]\n",
        "cols = X_train_m.columns\n",
        "cols = cols.insert(0, \"constant\")\n",
        "coefs=sorted(list(zip(cols, model_parameters)),key=lambda x:abs(x[1]),reverse=True)\n",
        "coefs[:6]"
      ],
      "execution_count": 1626,
      "outputs": [
        {
          "output_type": "stream",
          "text": [
            "Train score\n",
            "47.52\n",
            "Test score\n",
            "47.09\n"
          ],
          "name": "stdout"
        },
        {
          "output_type": "execute_result",
          "data": {
            "text/plain": [
              "[('constant', 11.301),\n",
              " ('LotArea', 1.113),\n",
              " ('TtlPorchArea', 0.575),\n",
              " ('Neighborhood_NridgHt', 0.524),\n",
              " ('MSZoning_FV', 0.475),\n",
              " ('Neighborhood_StoneBr', 0.455)]"
            ]
          },
          "metadata": {
            "tags": []
          },
          "execution_count": 1626
        }
      ]
    }
  ]
}